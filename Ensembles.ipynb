{
  "nbformat": 4,
  "nbformat_minor": 0,
  "metadata": {
    "kernelspec": {
      "display_name": "Python 3",
      "language": "python",
      "name": "python3"
    },
    "language_info": {
      "codemirror_mode": {
        "name": "ipython",
        "version": 3
      },
      "file_extension": ".py",
      "mimetype": "text/x-python",
      "name": "python",
      "nbconvert_exporter": "python",
      "pygments_lexer": "ipython3",
      "version": "3.6.6"
    },
    "nav_menu": {
      "height": "252px",
      "width": "333px"
    },
    "toc": {
      "navigate_menu": true,
      "number_sections": true,
      "sideBar": true,
      "threshold": 6,
      "toc_cell": false,
      "toc_section_display": "block",
      "toc_window_display": false
    },
    "colab": {
      "name": "Ensembles.ipynb",
      "provenance": [],
      "collapsed_sections": [
        "-VRG3__KH3IE",
        "-gLNKU1opZKq",
        "AINEOEpAqWnH",
        "EblTUtzlH3JM",
        "xNojyWB4H3Jl",
        "yvB0tGLFH3Kh",
        "ZdWxqDBC55iy",
        "pQ8gbUiJzeLY"
      ],
      "include_colab_link": true
    },
    "accelerator": "TPU"
  },
  "cells": [
    {
      "cell_type": "markdown",
      "metadata": {
        "id": "view-in-github",
        "colab_type": "text"
      },
      "source": [
        "<a href=\"https://colab.research.google.com/github/nezhalahnech/lfc-tweet-analysis/blob/master/Ensembles.ipynb\" target=\"_parent\"><img src=\"https://colab.research.google.com/assets/colab-badge.svg\" alt=\"Open In Colab\"/></a>"
      ]
    },
    {
      "cell_type": "markdown",
      "metadata": {
        "id": "I46vSzi6H3Hx"
      },
      "source": [
        "# **Ensembles**"
      ]
    },
    {
      "cell_type": "markdown",
      "metadata": {
        "id": "yuaYiNldH3H0"
      },
      "source": [
        "Este notebook está basado en el Capítulo del libro: A. Gerón, \"Hands-On Machine Learning with Scikit-Learn, Keras, and TensorFlow\", 2nd Edition."
      ]
    },
    {
      "cell_type": "markdown",
      "metadata": {
        "id": "-P_0V0EVH3H4"
      },
      "source": [
        "Primero importamos la librería numpy y librerías para los gráficos"
      ]
    },
    {
      "cell_type": "code",
      "metadata": {
        "id": "x_gFqln-H3H5"
      },
      "source": [
        "import numpy as np\n",
        "\n",
        "# Librerías para los gráficos\n",
        "%matplotlib inline\n",
        "import matplotlib as mpl\n",
        "import matplotlib.pyplot as plt"
      ],
      "execution_count": null,
      "outputs": []
    },
    {
      "cell_type": "markdown",
      "metadata": {
        "id": "-VRG3__KH3IE"
      },
      "source": [
        "# Ensembles (idea intuitiva de su funcionamiento)"
      ]
    },
    {
      "cell_type": "markdown",
      "metadata": {
        "id": "TOhmmRogf08t"
      },
      "source": [
        "Ley de los grandes números"
      ]
    },
    {
      "cell_type": "markdown",
      "metadata": {
        "id": "8B7QL7P1Z9iT"
      },
      "source": [
        "En el siguiente ejemplo vamos a simular el lanzamiento de 10 series de 100 lanzamientos de una moneda con una probabilidad de cara del 51%. "
      ]
    },
    {
      "cell_type": "code",
      "metadata": {
        "id": "Kl2Di204H3IF"
      },
      "source": [
        "heads_proba = 0.51\n",
        "#Genera los lanzamientos entre 0 y 1, y comprueba si es < de 0.51, finalmente transforma true y false\n",
        "coin_tosses = (np.random.rand(100, 10) < heads_proba).astype(np.int32) \n",
        "#Genera el acumulador de los lanzamientos dividido por el número de los lanzamientos\n",
        "cumulative_heads_ratio = np.cumsum(coin_tosses, axis=0) / np.arange(1, 101).reshape(-1, 1) "
      ],
      "execution_count": null,
      "outputs": []
    },
    {
      "cell_type": "code",
      "metadata": {
        "id": "B_pBpItfH3IO"
      },
      "source": [
        "plt.figure(figsize=(8,3.5))\n",
        "plt.plot(cumulative_heads_ratio)\n",
        "plt.plot([0, 100], [0.51, 0.51], \"k--\", linewidth=2, label=\"51%\")\n",
        "plt.plot([0, 100], [0.5, 0.5], \"k-\", label=\"50%\")\n",
        "plt.xlabel(\"Número de lanzamientos de moneda\")\n",
        "plt.ylabel(\"Ratio de caras\")\n",
        "plt.legend(loc=\"lower right\")\n",
        "plt.axis([0, 100, 0.32, 0.68])\n",
        "#save_fig(\"Ley de los grandes números\")\n",
        "plt.show()"
      ],
      "execution_count": null,
      "outputs": []
    },
    {
      "cell_type": "markdown",
      "metadata": {
        "id": "l6GpyZHim3tJ"
      },
      "source": [
        "En este caso sale que 6 de la serie de lanzamientos es mayor del 50%. \n",
        "\n",
        "Si la moneda fuera un modelo con un 51% de acierto (un poco más que por azar), el aplicar 100 veces el modelo y hacer voto por mayoría nos daría un acierto alrededor del 60%."
      ]
    },
    {
      "cell_type": "markdown",
      "metadata": {
        "id": "Ps-mQTU-nJBG"
      },
      "source": [
        "Si en lugar de con 100 lanzamientos probamos series con 10000 lanzamientos."
      ]
    },
    {
      "cell_type": "code",
      "metadata": {
        "id": "KTW-ij7Cl1KH"
      },
      "source": [
        "heads_proba = 0.51\n",
        "#Genera los lanzamientos entre 0 y 1, y comprueba si es < de 0.51, finalmente transforma true y false\n",
        "coin_tosses = (np.random.rand(10000, 10) < heads_proba).astype(np.int32) \n",
        "#Genera el acumulador de los lanzamientos dividido por el número de los lanzamientos\n",
        "cumulative_heads_ratio = np.cumsum(coin_tosses, axis=0) / np.arange(1, 10001).reshape(-1, 1)"
      ],
      "execution_count": null,
      "outputs": []
    },
    {
      "cell_type": "code",
      "metadata": {
        "id": "pvsW_-bsmzUD"
      },
      "source": [
        "plt.figure(figsize=(8,3.5))\n",
        "plt.plot(cumulative_heads_ratio)\n",
        "plt.plot([0, 10000], [0.51, 0.51], \"k--\", linewidth=2, label=\"51%\")\n",
        "plt.plot([0, 10000], [0.5, 0.5], \"k-\", label=\"50%\")\n",
        "plt.xlabel(\"Número de lanzamientos de moneda\")\n",
        "plt.ylabel(\"Ratio de caras\")\n",
        "plt.legend(loc=\"lower right\")\n",
        "plt.axis([0, 10000, 0.42, 0.58])\n",
        "#save_fig(\"Ley de los grandes números\")\n",
        "plt.show()"
      ],
      "execution_count": null,
      "outputs": []
    },
    {
      "cell_type": "markdown",
      "metadata": {
        "id": "e9M8hBpPpJTL"
      },
      "source": [
        "En este caso, las 10 series dan por encima del 50% y por voto por mayoría tendríamos cierto (en un 97% de los casos, según las matemáticas)."
      ]
    },
    {
      "cell_type": "markdown",
      "metadata": {
        "id": "-gLNKU1opZKq"
      },
      "source": [
        "# Ensembles basados en votos (mayoría o media)"
      ]
    },
    {
      "cell_type": "markdown",
      "metadata": {
        "id": "H17FtlnxbPfJ"
      },
      "source": [
        "Vamos a usar en esta práctica la base de datos moons. Es una base de datos usada habitualmente para evaluar modelos de clasificación. Tiene solo dos variables lo que permite realizar representaciones gráficas de la misma."
      ]
    },
    {
      "cell_type": "code",
      "metadata": {
        "id": "gO9xqFC9H3IY"
      },
      "source": [
        "from sklearn.model_selection import train_test_split\n",
        "from sklearn.datasets import make_moons\n",
        "\n",
        "X, y = make_moons(n_samples=500, noise=0.3,  random_state=42)\n",
        "\n",
        "#Pintamos la base de datos moons\n",
        "plt.figure(figsize=(8,3.5))\n",
        "\n",
        "plt.plot(X[:, 0][y==0], X[:, 1][y==0], \"yo\", alpha=0.5) #iterable\n",
        "plt.plot(X[:, 0][y==1], X[:, 1][y==1], 'ro', alpha=0.5)\n",
        "plt.title(\"moons data base\", fontsize=14)\n",
        "plt.show()"
      ],
      "execution_count": null,
      "outputs": []
    },
    {
      "cell_type": "code",
      "metadata": {
        "id": "M2zFJKH0pmNs"
      },
      "source": [
        "#Generamos el conjunto de test y de entrenamiento que usaremos en esta práctica\n",
        "X_train, X_test, y_train, y_test = train_test_split(X, y,random_state=42)"
      ],
      "execution_count": null,
      "outputs": []
    },
    {
      "cell_type": "markdown",
      "metadata": {
        "id": "2fSL3VFKgsjW"
      },
      "source": [
        "Comenzamos definiendo tres modelos diferentes: una regresión logística, un árbol de decisión y un SVM como clasificadores. \n",
        "\n",
        "\n",
        "Además, hacemos un ensemble de clasificación por mayoría en Scikit-Learn es VotingClassifier, con voting='hard'"
      ]
    },
    {
      "cell_type": "code",
      "metadata": {
        "id": "tDsyQUp3QYYI"
      },
      "source": [
        "#from sklearn.ensemble import RandomForestClassifier\n",
        "from sklearn.tree import DecisionTreeClassifier\n",
        "from sklearn.linear_model import LogisticRegression\n",
        "from sklearn.svm import SVC\n",
        "\n",
        "\n",
        "from sklearn.ensemble import VotingClassifier\n",
        "\n",
        "log_clf = LogisticRegression(random_state=42,  penalty='l2')\n",
        "dt_clf = DecisionTreeClassifier(random_state=42)\n",
        "svm_clf = SVC(C=0.5, random_state=42)\n",
        "\n",
        "\n",
        "voting_clf = VotingClassifier(\n",
        "    estimators=[('lr', log_clf), ('dt', dt_clf), ('svc', svm_clf)],\n",
        "    voting='hard')"
      ],
      "execution_count": null,
      "outputs": []
    },
    {
      "cell_type": "markdown",
      "metadata": {
        "id": "iVlKCbJxhbS3"
      },
      "source": [
        "Entrenamos el modelo de ensemble. Observar los métodos que intervienen en el voting."
      ]
    },
    {
      "cell_type": "code",
      "metadata": {
        "id": "DabvGVnwH3Iq"
      },
      "source": [
        "voting_clf.fit(X_train, y_train)"
      ],
      "execution_count": null,
      "outputs": []
    },
    {
      "cell_type": "markdown",
      "metadata": {
        "id": "WaO8faSXbXc2"
      },
      "source": [
        "Vamos a mirar la accuracy de cada clasificador por separdo y del ensemble:"
      ]
    },
    {
      "cell_type": "code",
      "metadata": {
        "id": "7j_kJfp-H3I0"
      },
      "source": [
        "from sklearn.metrics import accuracy_score\n",
        "\n",
        "for clf in (log_clf, dt_clf, svm_clf, voting_clf):\n",
        "    clf.fit(X_train, y_train)\n",
        "    y_pred = clf.predict(X_test)\n",
        "    print(clf.__class__.__name__, accuracy_score(y_test, y_pred))  "
      ],
      "execution_count": null,
      "outputs": []
    },
    {
      "cell_type": "markdown",
      "metadata": {
        "id": "4IoYJ7UFblYv"
      },
      "source": [
        "Como puede observarse el clasificador basado en votos supera ligeramente a los clasificadores individuales. "
      ]
    },
    {
      "cell_type": "code",
      "metadata": {
        "id": "cqDFxJDOe2M8"
      },
      "source": [
        "i=2\n",
        "print(\"Clasificación del elemento\", i+1)\n",
        "for clf in (log_clf, dt_clf, svm_clf, voting_clf):\n",
        "    clf.fit(X_train, y_train)\n",
        "    y_pred = clf.predict(X_test)\n",
        "    print(clf.__class__.__name__, \"clasifica a:\", y_pred[i])\n",
        "print(\"El valor del elemento debería ser\", y_test[i])"
      ],
      "execution_count": null,
      "outputs": []
    },
    {
      "cell_type": "markdown",
      "metadata": {
        "id": "8TT31OdeiCNq"
      },
      "source": [
        "Si todos los clasificadores son capaces de estimar las probabilidades de clase (es decir, tienen una función asociada predict_proba()), entonces puedes decirle a Scikit-Learn que prediga la clase con la probabilidad de clase más alta promediando la los clasificadores individuales. \n",
        "\n",
        "Esto se llama votación \"soft\". \n",
        "\n",
        "A menudo logra un mayor rendimiento que la votación \"hard\" porque da más\n",
        "peso a los votos de alta confianza. \n",
        "\n",
        "Todo lo que tienes que hacer es reemplazar el voting='hard' con\n",
        "voting='soft' y asegurar que todos los clasificadores puedan estimar las probabilidades de clase. Esto es\n",
        "no es el caso de la clase SVC por defecto, por lo que hay que establecer su hiperparámetro de probability a \n",
        "True (esto hará que la clase SVC utilice la validación cruzada para estimar las probabilidades de la clase y añadirá un método predict_proba(), ralentizando el entrenamiento). Vamos a modificar el código precedente para usar votación \"soft\"."
      ]
    },
    {
      "cell_type": "code",
      "metadata": {
        "id": "_G67tgCzH3I8"
      },
      "source": [
        "log_clf = LogisticRegression(random_state=42)\n",
        "dt_clf = DecisionTreeClassifier(random_state=42)\n",
        "svm_clf = SVC(C=0.5, probability=True, random_state=42)\n",
        "\n",
        "\n",
        "voting_clf = VotingClassifier(\n",
        "    estimators=[('lr', log_clf), ('dt', dt_clf), ('svc', svm_clf)],\n",
        "    voting='soft')"
      ],
      "execution_count": null,
      "outputs": []
    },
    {
      "cell_type": "markdown",
      "metadata": {
        "id": "3iFXqN3PPWi6"
      },
      "source": [
        "¿Qué accuracy se obtiene?"
      ]
    },
    {
      "cell_type": "code",
      "metadata": {
        "id": "IYlZwW5XH3JD"
      },
      "source": [
        "from sklearn.metrics import accuracy_score\n",
        "\n",
        "for clf in (log_clf, dt_clf, svm_clf, voting_clf):\n",
        "    clf.fit(X_train, y_train)\n",
        "    y_pred = clf.predict(X_test)\n",
        "    print(clf.__class__.__name__, accuracy_score(y_test, y_pred))\n",
        "\n"
      ],
      "execution_count": null,
      "outputs": []
    },
    {
      "cell_type": "code",
      "metadata": {
        "id": "K5VAGCG-4kRG"
      },
      "source": [
        "i=2\n",
        "print(\"Clasificación del elemento\", i+1)\n",
        "for clf in (log_clf, dt_clf, svm_clf, voting_clf):\n",
        "    clf.fit(X_train, y_train)\n",
        "    y_pred = clf.predict(X_test)\n",
        "    print(clf.__class__.__name__, \"clasifica a:\", y_pred[i])\n",
        "print(\"El valor del elemento debería ser\", y_test[i])"
      ],
      "execution_count": null,
      "outputs": []
    },
    {
      "cell_type": "markdown",
      "metadata": {
        "id": "AINEOEpAqWnH"
      },
      "source": [
        "# Ensembles basados en votos ponderados (mayoría o media)"
      ]
    },
    {
      "cell_type": "markdown",
      "metadata": {
        "id": "cf8ee3qMu4q7"
      },
      "source": [
        "Podemos también hacer una votación hard o soft ponderada añadiendo pesos a cada modelo en el ensemble."
      ]
    },
    {
      "cell_type": "code",
      "metadata": {
        "id": "2KvpbzRmu3-Z"
      },
      "source": [
        "voting_clf = VotingClassifier(\n",
        "    estimators=[('lr', log_clf), ('dt', dt_clf), ('svc', svm_clf)], \n",
        "    weights = [0.3, 0.3, 0.4], # Pesos\n",
        "    voting='soft')\n",
        "\n",
        "for clf in (log_clf, dt_clf, svm_clf, voting_clf):\n",
        "    clf.fit(X_train, y_train)\n",
        "    y_pred = clf.predict(X_test)\n",
        "    print(clf.__class__.__name__, accuracy_score(y_test, y_pred))"
      ],
      "execution_count": null,
      "outputs": []
    },
    {
      "cell_type": "markdown",
      "metadata": {
        "id": "nEAd0AvBN0YY"
      },
      "source": [
        "Hacemos una representación de la curva roc de los distintos estimadores."
      ]
    },
    {
      "cell_type": "code",
      "metadata": {
        "id": "wmTFQSc7hPKK"
      },
      "source": [
        "from sklearn.metrics import roc_curve\n",
        "from sklearn.metrics import auc\n",
        "\n",
        "colors = ['black', 'orange', 'blue', 'green']\n",
        "linestyles = [':', '--', '-.', '-', '-']\n",
        "clf_labels= ['lin_reg', 'tree_reg', 'SVR_reg','Majority voting']\n",
        "all_clf = [log_clf, dt_clf, svm_clf, voting_clf]\n",
        "for clf, label, clr, ls \\\n",
        "        in zip(all_clf,\n",
        "               clf_labels, colors, linestyles):\n",
        "\n",
        "    # assuming the label of the positive class is 1\n",
        "    y_pred = clf.fit(X_train,y_train).predict_proba(X_test)[:, 1]\n",
        "    fpr, tpr, thresholds = roc_curve(y_true=y_test,y_score=y_pred)\n",
        "    roc_auc = auc(x=fpr, y=tpr)\n",
        "    plt.plot(fpr, tpr,\n",
        "             color=clr,\n",
        "             linestyle=ls,\n",
        "             label='%s (auc = %0.3f)' % (label, roc_auc))\n",
        "\n",
        "plt.legend(loc='lower right')\n",
        "plt.plot([0, 1], [0, 1],\n",
        "         linestyle='--',\n",
        "         color='gray',\n",
        "         linewidth=2)\n",
        "\n",
        "plt.xlim([-0.1, 1.1])\n",
        "plt.ylim([-0.1, 1.1])\n",
        "plt.grid(alpha=0.5)\n",
        "plt.xlabel('False positive rate (FPR)')\n",
        "plt.ylabel('True positive rate (TPR)')\n",
        "\n",
        "\n",
        "plt.show()"
      ],
      "execution_count": null,
      "outputs": []
    },
    {
      "cell_type": "markdown",
      "metadata": {
        "id": "SiIUTbWOe7yl"
      },
      "source": [
        "En este estimador, también se observa que el voto por mayoría obtiene mejores resultados que los estimadores individuales."
      ]
    },
    {
      "cell_type": "markdown",
      "metadata": {
        "id": "iwNz9YacxLP2"
      },
      "source": [
        "## Ejercicios Ensembles basados en votos"
      ]
    },
    {
      "cell_type": "markdown",
      "metadata": {
        "id": "fuF02-n-vQ4f"
      },
      "source": [
        "Recuperamos la base de datos de la práctica anterior sobre la diabetes. Recordar que esta base de datos era un problema de regresión en el que intentábamos estimar la progresión de la enfermedad a un año.\n",
        "\n",
        "De este modo el ensemble se obtendrá a partir de la media de los resultados y no por mayoría."
      ]
    },
    {
      "cell_type": "code",
      "metadata": {
        "id": "m3U0ogG_tCOR"
      },
      "source": [
        "import pandas as pd\n",
        "import numpy as np\n",
        "from sklearn.model_selection import train_test_split\n",
        "\n",
        "#Importamos la BD diabetes con la misma configuración de la práctica anterior.\n",
        "\n",
        "from sklearn import datasets\n",
        "\n",
        "diabetes_BD = datasets.load_diabetes()\n",
        "print(diabetes_BD.DESCR)\n",
        "\n",
        "diabetes=diabetes_BD[\"data\"] # Datos a usar \n",
        "feature_names=diabetes_BD[\"feature_names\"] # Nombre de las variable\n",
        "diabetes_target=diabetes_BD[\"target\"] # Dato a inferir. "
      ],
      "execution_count": null,
      "outputs": []
    },
    {
      "cell_type": "markdown",
      "metadata": {
        "id": "rGmlJjdIy42Z"
      },
      "source": [
        "Para poder comparar consideramos el mismo conjunto de train y test. Recordamos que los datos ya estan estandarizados."
      ]
    },
    {
      "cell_type": "code",
      "metadata": {
        "id": "79H7Itext_tW"
      },
      "source": [
        "from sklearn.model_selection import train_test_split\n",
        "X_train_diabetes,  X_test_diabetes, y_train_diabetes, y_test_diabetes = train_test_split(diabetes, diabetes_target, test_size=0.2, random_state=42)"
      ],
      "execution_count": null,
      "outputs": []
    },
    {
      "cell_type": "markdown",
      "metadata": {
        "id": "hRAsi5X5y5rc"
      },
      "source": [
        "EJERCICIO. Definir un modelo de regresión lineal, un árbol de decisión para regresiones y una máquina de vectores soporte para regresiones. Dejar los modelos con los hiperparámetros por defecto, excepto para el árbol de decisión que indicamos random_state=42.\n",
        "\n",
        "Integrar los tres modelos anteriores en un ensemble. Entrenar los tres modelos en el conjunto de entrenamiento por separado y el ensemble basado en media. Scikit learn tiene la clase VotingRegressor para ensembles basados en media. \n",
        "\n",
        "Mostrar los resultados sobre el conunto de test a través del RMSE:\n",
        "\n",
        "np.sqrt(mean_squared_error(y_test, y_pred))\n",
        "\n",
        "¿Consigue el ensemble mejorar los resultados individuales?"
      ]
    },
    {
      "cell_type": "code",
      "metadata": {
        "id": "wfZNTq219rV8"
      },
      "source": [
        "from sklearn.linear_model import LinearRegression\n",
        "from sklearn.tree import DecisionTreeRegressor\n",
        "from sklearn.svm import SVR\n",
        "from sklearn.ensemble import VotingRegressor\n",
        "from sklearn.metrics import mean_squared_error\n",
        "\n",
        "# Solución\n"
      ],
      "execution_count": null,
      "outputs": []
    },
    {
      "cell_type": "markdown",
      "metadata": {
        "id": "uz8rOQCQLjAV"
      },
      "source": [
        "EJERCICIO: Repite en ensemble anterior pero añadiendo los siguientes pesos a los tres modelos:\n",
        "\n",
        "- Regresión lineal: 40%\n",
        "- Árbol de decisión: 30%\n",
        "- SVR: 30%\n",
        "\n",
        "¿Mejoras los resultados?"
      ]
    },
    {
      "cell_type": "code",
      "metadata": {
        "id": "Ww7p5wKGLI3Q"
      },
      "source": [
        "from sklearn.ensemble import VotingRegressor\n",
        "from sklearn.metrics import mean_squared_error\n",
        "# Solución\n"
      ],
      "execution_count": null,
      "outputs": []
    },
    {
      "cell_type": "markdown",
      "metadata": {
        "id": "mm3GNNsGxz6r"
      },
      "source": [
        "EJERCICIO (Opcional). Añade al ensemble la siguiente red neuronal. No es necesario que le pongas ningún peso a los modelos en el ensemble. ¿Es el resultado de la red neuronal mejor que el del ensemble anterior?¿Al añadirla al ensemble se mejora los resultados del mismo?¿Por qué? "
      ]
    },
    {
      "cell_type": "code",
      "metadata": {
        "id": "xRBG-ycxwiI8"
      },
      "source": [
        "from sklearn.neural_network import MLPRegressor\n",
        "\n",
        "NN_reg = MLPRegressor(solver='sgd', alpha=0.001, momentum=0.9, activation='relu',\n",
        "                    hidden_layer_sizes= (5, 2), random_state=42,  max_iter=2000)\n",
        "\n",
        "# Solución\n"
      ],
      "execution_count": null,
      "outputs": []
    },
    {
      "cell_type": "markdown",
      "metadata": {
        "id": "MYKjc4oo4x6G"
      },
      "source": [
        "PREGUNTA (Opcional) Vamos a probar cómo funciona el voto por mayoría en otro problema de clasificación. Para ello, usaremos una BD para detección del [cáncer de mama](https://scikit-learn.org/stable/modules/generated/sklearn.datasets.load_breast_cancer.html#sklearn.datasets.load_breast_cancer). Importamos la librería y le echamos un vistazo. ¿Estandarizarías o normalizarías los datos?"
      ]
    },
    {
      "cell_type": "code",
      "metadata": {
        "id": "8XZfJJwbv4Nm"
      },
      "source": [
        "from sklearn.datasets import load_breast_cancer, load_diabetes, fetch_20newsgroups,fetch_20newsgroups_vectorized\n",
        "breast_cancer_BD = load_breast_cancer()\n",
        "\n",
        "import pandas as pd\n",
        "data_breast_cancer=pd.DataFrame(data=breast_cancer_BD.data,columns=breast_cancer_BD.feature_names)\n",
        "target_breast_cancer=pd.DataFrame(data=breast_cancer_BD.target,columns=['target'])\n",
        "df=pd.concat([data_breast_cancer,target_breast_cancer],sort=True,axis=1)\n",
        "df.head(15)\n"
      ],
      "execution_count": null,
      "outputs": []
    },
    {
      "cell_type": "markdown",
      "source": [
        "Respuesta:"
      ],
      "metadata": {
        "id": "wuQI1qi-t02O"
      }
    },
    {
      "cell_type": "markdown",
      "metadata": {
        "id": "-jBZ7JgL_vb5"
      },
      "source": [
        "Partimos la BD en conjuntos de train y test (20%) y estandarizamos los datos."
      ]
    },
    {
      "cell_type": "code",
      "metadata": {
        "id": "p8_yPRvPs8VC"
      },
      "source": [
        "breast_cancer=breast_cancer_BD[\"data\"] # Datos a usar \n",
        "feature_names=breast_cancer_BD[\"feature_names\"] # Nombre de las variables\n",
        "breast_cancer_target=breast_cancer_BD[\"target\"] # Dato a inferir.\n",
        "\n",
        "from sklearn.model_selection import train_test_split\n",
        "X_train_breast,  X_test_breast, y_train_breast, y_test_breast = train_test_split(breast_cancer, breast_cancer_target, test_size=0.2, random_state=42)\n",
        "\n",
        "from sklearn import preprocessing\n",
        "convert = preprocessing.StandardScaler() \n",
        "\n",
        "X_train_breast = convert.fit_transform(X_train_breast) \n",
        "X_test_breast = convert.transform(X_test_breast)"
      ],
      "execution_count": null,
      "outputs": []
    },
    {
      "cell_type": "markdown",
      "metadata": {
        "id": "MRIkBYBJADU7"
      },
      "source": [
        "EJERCICIO (Opcional). Realiza un ensemble por voto por mayoría para los tres clasificadores siguientes. ¿Funciona mejor una votación por mayoría hard o soft?"
      ]
    },
    {
      "cell_type": "code",
      "metadata": {
        "id": "k_sFGb087vS0"
      },
      "source": [
        "log_clf = LogisticRegression(random_state=42, solver= 'liblinear') # Solver 'liblinear' funciona mejor para BD pequeñas, según documentación\n",
        "dt_clf = DecisionTreeClassifier(random_state=42)\n",
        "svm_clf = SVC(probability=True, random_state=42)\n",
        "\n",
        "# Solución \n"
      ],
      "execution_count": null,
      "outputs": []
    },
    {
      "cell_type": "markdown",
      "metadata": {
        "id": "EblTUtzlH3JM"
      },
      "source": [
        "# Bagging ensembles"
      ]
    },
    {
      "cell_type": "markdown",
      "metadata": {
        "id": "3QXI5fYD4OPe"
      },
      "source": [
        "La técnica de bagging consiste en entrenar un mismo modelo pero sobre subconjuntos aleatorios de datos del conjunto de entrenamiento."
      ]
    },
    {
      "cell_type": "markdown",
      "metadata": {
        "id": "cybSP_xtnZCf"
      },
      "source": [
        "El siguiente código entrena un ensemble de 500 árboles de decisión, entrenados sobre 100 instancias aleatoriamente elegidas del conjunto de entrenamiento con reemplazamiento.\n",
        "\n",
        "La función BaggingClassifier automáticamente realiza soft voting en lugar de hard voting si el clasificador base puede estimar la probabilidad de la clase\n",
        "(es decir, si dispone del método predict_proba()), que es el caso de los árboles de decisión."
      ]
    },
    {
      "cell_type": "code",
      "metadata": {
        "id": "dO8EZnb2WdfW"
      },
      "source": [
        "from sklearn.ensemble import BaggingClassifier\n",
        "from sklearn.tree import DecisionTreeClassifier\n",
        "\n",
        "bag_clf = BaggingClassifier(\n",
        "    DecisionTreeClassifier(random_state=42), n_estimators=500,\n",
        "    max_samples=100, bootstrap=True, n_jobs=-1, random_state=42)"
      ],
      "execution_count": null,
      "outputs": []
    },
    {
      "cell_type": "markdown",
      "metadata": {
        "id": "Qfj-RRBHohrt"
      },
      "source": [
        "Entrenamos el modelo creado sobre el mismo conjunto de datos de moons anterior y miramos la accuracy que obtenemos sobre el conjunto de test."
      ]
    },
    {
      "cell_type": "code",
      "metadata": {
        "id": "zBzU1kbKH3JN"
      },
      "source": [
        "bag_clf.fit(X_train, y_train)\n",
        "y_train_tree = bag_clf.predict(X_train)\n",
        "print(\"Accuracy sobre el conjunto de entrenamiento\",accuracy_score(y_train, y_train_tree))\n",
        "\n",
        "y_pred = bag_clf.predict(X_test)\n",
        "print(\"Accuracy sobre el conjunto de test\", accuracy_score(y_test, y_pred))"
      ],
      "execution_count": null,
      "outputs": []
    },
    {
      "cell_type": "markdown",
      "metadata": {
        "id": "1OOHLk-T6VK5"
      },
      "source": [
        "La opción de hacer muestras con reemplazamiento es la que se activa por defecto. Si es su lugar prefieres sin reemplazamiento, es decir **pasting** en lugar de bagging se debe elegir bootstrap=False."
      ]
    },
    {
      "cell_type": "code",
      "metadata": {
        "id": "0kt0e_bw6LtF"
      },
      "source": [
        "from sklearn.ensemble import BaggingClassifier\n",
        "from sklearn.tree import DecisionTreeClassifier\n",
        "\n",
        "bag_clf = BaggingClassifier(\n",
        "    DecisionTreeClassifier(random_state=42), n_estimators=500,\n",
        "    max_samples=100, bootstrap=False, n_jobs=-1, random_state=42)"
      ],
      "execution_count": null,
      "outputs": []
    },
    {
      "cell_type": "code",
      "metadata": {
        "id": "SKjMPgtY6O96"
      },
      "source": [
        "bag_clf.fit(X_train, y_train)\n",
        "y_train_tree = bag_clf.predict(X_train)\n",
        "print(\"Accuracy sobre el conjunto de entrenamiento\",accuracy_score(y_train, y_train_tree))\n",
        "\n",
        "y_pred_bag = bag_clf.predict(X_test)\n",
        "print(\"Accuracy sobre el conjunto de test\", accuracy_score(y_test, y_pred_bag))"
      ],
      "execution_count": null,
      "outputs": []
    },
    {
      "cell_type": "markdown",
      "metadata": {
        "id": "0my8JgOOpAAd"
      },
      "source": [
        "Si lo comparamos con lo que obtenemos solo con un árbol de decisión entrenado sobre todo el conjunto de entrenamiento, se observa que mejora bastante. En particular se observa que un solo árbol actúa mejor sobre el conjunto de entrenamiento, pero peor sobre el conjunto de test."
      ]
    },
    {
      "cell_type": "code",
      "metadata": {
        "id": "ZwnJo_BHH3JY"
      },
      "source": [
        "tree_clf = DecisionTreeClassifier(random_state=42,max_depth=8)\n",
        "tree_clf.fit(X_train, y_train)\n",
        "y_train_tree = tree_clf.predict(X_train)\n",
        "print(\"Accuracy sobre el conjunto de entrenamiento\",accuracy_score(y_train, y_train_tree))\n",
        "\n",
        "y_pred_tree = tree_clf.predict(X_test)\n",
        "print(\"Accuracy sobre el conjunto de test\", accuracy_score(y_test, y_pred_tree))\n"
      ],
      "execution_count": null,
      "outputs": []
    },
    {
      "cell_type": "markdown",
      "metadata": {
        "id": "kRUeW7ibpeek"
      },
      "source": [
        "Comparamos a continuación la frontera de desición de un solo árbol de decisión con la de los realizados con el método boosting."
      ]
    },
    {
      "cell_type": "code",
      "metadata": {
        "id": "VF97-hX5H3Jc"
      },
      "source": [
        "from matplotlib.colors import ListedColormap\n",
        "\n",
        "def plot_decision_boundary(clf, X, y, axes=[-1.5, 2.5, -1, 1.5], alpha=0.5, contour=True):\n",
        "    x1s = np.linspace(axes[0], axes[1], 100)\n",
        "    x2s = np.linspace(axes[2], axes[3], 100)\n",
        "    x1, x2 = np.meshgrid(x1s, x2s)\n",
        "    X_new = np.c_[x1.ravel(), x2.ravel()]\n",
        "    y_pred = clf.predict(X_new).reshape(x1.shape)\n",
        "    custom_cmap = ListedColormap(['#fafab0','#9898ff','#a0faa0'])\n",
        "    plt.contourf(x1, x2, y_pred, alpha=0.3, cmap=custom_cmap)\n",
        "    if contour:\n",
        "        custom_cmap2 = ListedColormap(['#7d7d58','#4c4c7f','#507d50'])\n",
        "        plt.contour(x1, x2, y_pred, cmap=custom_cmap2, alpha=0.8)\n",
        "    plt.plot(X[:, 0][y==0], X[:, 1][y==0], \"yo\", alpha=alpha)\n",
        "    plt.plot(X[:, 0][y==1], X[:, 1][y==1], \"bs\", alpha=alpha)\n",
        "    plt.axis(axes)\n",
        "    plt.xlabel(r\"$x_1$\", fontsize=18)\n",
        "    plt.ylabel(r\"$x_2$\", fontsize=18, rotation=0)\n",
        "\n",
        "\n",
        "plt.figure(figsize=(11,4))\n",
        "plt.subplot(121)\n",
        "plot_decision_boundary(tree_clf, X, y) # Un solo árbol de decisión\n",
        "plt.title(\"Árbol de decisión\", fontsize=14)\n",
        "plt.subplot(122)\n",
        "plot_decision_boundary(bag_clf, X, y) # Bagging de árboles de decisión\n",
        "plt.title(\"Árboles de decisión con Bagging\", fontsize=14)\n",
        "#save_fig(\"decision_tree_without_and_with_bagging_plot\")\n",
        "plt.show()"
      ],
      "execution_count": null,
      "outputs": []
    },
    {
      "cell_type": "markdown",
      "metadata": {
        "id": "AzLlibbgsZrL"
      },
      "source": [
        "La clase BaggingClassifier también soporta el muestreo de las características, en lugar del muestreo de instancias. Este es controlado por dos hiperparámetros: max_features y bootstrap_features (es decir, bootstrap_features=True y/o max_features un número o un porcentaje del total). Funcionan de la misma manera que max_samples y bootstrap. Así, cada predictor se entrenará en un subconjunto aleatorio de las características de entrada. Esto es particularmente útil cuando se trata de entradas de alta dimensión (como las imágenes). Este método se llama se llama el método **Random Subspaces**.\n",
        "\n",
        "El muestreo tanto de las instancias como de las características se denomina método **Random\n",
        "Patches**.  "
      ]
    },
    {
      "cell_type": "markdown",
      "metadata": {
        "id": "7pzTGRzHIs-1"
      },
      "source": [
        "Probamos a hacer un random patches, aunque en este caso solo tenemos dos features."
      ]
    },
    {
      "cell_type": "code",
      "metadata": {
        "id": "7SJQMavGI-Fp"
      },
      "source": [
        "X_train.shape"
      ],
      "execution_count": null,
      "outputs": []
    },
    {
      "cell_type": "code",
      "metadata": {
        "id": "DTIjNG58HaL8"
      },
      "source": [
        "bag_clf_RandomPatches = BaggingClassifier(\n",
        "    DecisionTreeClassifier(random_state=42), n_estimators=1000,\n",
        "    max_samples=100, bootstrap=True, max_features=1, bootstrap_features=True, n_jobs=-1, random_state=42)"
      ],
      "execution_count": null,
      "outputs": []
    },
    {
      "cell_type": "code",
      "metadata": {
        "id": "00YRjwuYIIgZ"
      },
      "source": [
        "bag_clf_RandomPatches.fit(X_train, y_train)\n",
        "y_train_tree = bag_clf_RandomPatches.predict(X_train)\n",
        "print(\"Accuracy sobre el conjunto de entrenamiento\",accuracy_score(y_train, y_train_tree))\n",
        "\n",
        "y_pred_patch = bag_clf_RandomPatches.predict(X_test)\n",
        "print(\"Accuracy sobre el conjunto de test\", accuracy_score(y_test, y_pred_patch))"
      ],
      "execution_count": null,
      "outputs": []
    },
    {
      "cell_type": "markdown",
      "metadata": {
        "id": "vrT0CxCWzien"
      },
      "source": [
        "##Ejercicios Bagging"
      ]
    },
    {
      "cell_type": "markdown",
      "metadata": {
        "id": "-1Nakgqy0dWy"
      },
      "source": [
        "EJERCICIO. Sobre la BD de diabetes prueba a hacer un Bagging con la RNN que se propone. Utiliza 200 estimadores y que cada uno pueda usar como máximo 100 elementos. Fíjate que necesitas el método BaggingRegressor en lugar de BaggingClassifier. ¿Qué RMSE obtienes sobre el conjunto de entrenamiento?¿Y sobre el conjunto de test?¿Cuánto tiempo le lleva?"
      ]
    },
    {
      "cell_type": "code",
      "metadata": {
        "id": "4xz4yzki0mIa"
      },
      "source": [
        "%%time\n",
        "\n",
        "from sklearn.ensemble import BaggingRegressor\n",
        "\n",
        "NN_reg = MLPRegressor(solver='sgd', alpha=0.001, momentum=0.9, activation='relu',\n",
        "                    hidden_layer_sizes= (5, 2), random_state=42,  max_iter=2000)\n",
        "\n",
        "# Solución\n",
        "\n"
      ],
      "execution_count": null,
      "outputs": []
    },
    {
      "cell_type": "markdown",
      "metadata": {
        "id": "eelXOeIR_tRQ"
      },
      "source": [
        "EJERCICIO: Probablemente habrás observado que entrenar cada RNN lleva un tiempo. Parece razonable utilizar métodos algo más rápidos de entrenar como los árboles de decisión.\n",
        "\n",
        "Repite el ensemble anterior con 500 árboles de decisión. ¿Qué RMSE obtienes sobre el conjunto de entrenamiento?¿Y sobre el conjunto de test?¿Cuánto tiempo le lleva?¿Es más rápido?"
      ]
    },
    {
      "cell_type": "code",
      "metadata": {
        "id": "qx9gg1GB345T"
      },
      "source": [
        "%%time\n",
        "\n",
        "from sklearn.ensemble import BaggingRegressor\n",
        "\n",
        "dt_reg = DecisionTreeRegressor(random_state=42)\n",
        "\n",
        "# Solución\n"
      ],
      "execution_count": null,
      "outputs": []
    },
    {
      "cell_type": "markdown",
      "metadata": {
        "id": "8rW1cotFBndQ"
      },
      "source": [
        "EJERCICIO (Opcional). Repite el ensemble anterior con random patches (eligiendo cada estimador 5 características). ¿Se mejora el resultado?"
      ]
    },
    {
      "cell_type": "code",
      "metadata": {
        "id": "DX7cTPGOBDw3"
      },
      "source": [
        "%%time\n",
        "# Solución"
      ],
      "execution_count": null,
      "outputs": []
    },
    {
      "cell_type": "markdown",
      "metadata": {
        "id": "xNojyWB4H3Jl"
      },
      "source": [
        "# Random Forests"
      ]
    },
    {
      "cell_type": "markdown",
      "metadata": {
        "id": "d1QqaPOxVOQX"
      },
      "source": [
        "\n",
        "Random Forest es un conjunto de árboles de decisión, generalmente entrenado a través del método de boosting (o a veces pasting). El algoritmo del Random Forest introduce una aleatoriedad extra en el crecimiento de los árboles;\n",
        "en lugar de buscar la mejor característica al dividir un nodo, se\n",
        "busca la mejor característica entre un subconjunto aleatorio de características. Esto da como resultado un\n",
        "mayor diversidad de árboles, que generalmente dan un mejor modelo en general."
      ]
    },
    {
      "cell_type": "code",
      "metadata": {
        "id": "-2zAc5QBH3Jm"
      },
      "source": [
        "bag_clf = BaggingClassifier(\n",
        "    DecisionTreeClassifier(splitter=\"random\",  random_state=42),\n",
        "    n_estimators=500, max_samples=100, bootstrap=True, n_jobs=-1, random_state=42) \n",
        "# splitter: The strategy used to choose the split at each node (best or random)."
      ],
      "execution_count": null,
      "outputs": []
    },
    {
      "cell_type": "code",
      "metadata": {
        "id": "jug9fGaNH3Jq"
      },
      "source": [
        "bag_clf.fit(X_train, y_train)\n",
        "y_pred = bag_clf.predict(X_test)\n",
        "print(accuracy_score(y_test, y_pred))"
      ],
      "execution_count": null,
      "outputs": []
    },
    {
      "cell_type": "markdown",
      "metadata": {
        "id": "4BwV8uKuWGxf"
      },
      "source": [
        "El método RandomForestClassifier tiene los hiperparámetros del método DecisionTreeClassifier (para controlar cómo crecen los árboles), más los hiperparámetros del método BaggingClassifier para controlar la forma de hacer ensemble (con algunas excepciones)."
      ]
    },
    {
      "cell_type": "markdown",
      "metadata": {
        "id": "Kk3k_8ksVVGl"
      },
      "source": [
        "La clase RandomForestClassifier está optimizada y es conveniente usarla en lugar de la combinación de DecisionTreeClassifier mas BaggingClassifier (de igual modo, existe una clase RandomForestRegressor para tareas de regresión). \n",
        "\n",
        "El siguiente código entrena un clasificador Random Forest con 500 árboles en los que se hace bagging con un máximo de 100 de elementos. Es equivalente al anterior BaggingClassifier."
      ]
    },
    {
      "cell_type": "code",
      "metadata": {
        "id": "rW5SMQ5VH3Jv"
      },
      "source": [
        "from sklearn.ensemble import RandomForestClassifier\n",
        "\n",
        "rnd_clf = RandomForestClassifier(n_estimators=500, max_samples = 100, n_jobs=-1, random_state=42)\n",
        "rnd_clf.fit(X_train, y_train)\n",
        "\n",
        "y_pred_rf = rnd_clf.predict(X_test)\n",
        "print(accuracy_score(y_test, y_pred_rf))"
      ],
      "execution_count": null,
      "outputs": []
    },
    {
      "cell_type": "markdown",
      "metadata": {
        "id": "KU73UGcgAsGv"
      },
      "source": [
        "Mejora un poco, aunque las predicciones son casi idénticas al bagging anterior."
      ]
    },
    {
      "cell_type": "code",
      "metadata": {
        "id": "eOjKBPPqH3Jz"
      },
      "source": [
        "np.sum(y_pred_bag == y_pred_rf) / len(y_pred)  "
      ],
      "execution_count": null,
      "outputs": []
    },
    {
      "cell_type": "markdown",
      "metadata": {
        "id": "-cu8q3wpMu39"
      },
      "source": [
        "## Hiperparámetros del Random Forest"
      ]
    },
    {
      "cell_type": "markdown",
      "metadata": {
        "id": "feptqKCVMrIe"
      },
      "source": [
        "### Explorar el número de elementos para entrenar (Number of Samples)"
      ]
    },
    {
      "cell_type": "markdown",
      "metadata": {
        "id": "N6Yn1IPAMrIk"
      },
      "source": [
        "Cada árbol de decisión del ensemble se entrena en una muestra de extraída del conjunto de datos de entrenamiento.\n",
        "\n",
        "Esto se puede desactivar estableciendo el argumento \"bootstrap\" a False, si lo desea. En ese caso, todo el conjunto de datos de entrenamiento se utilizará para entrenar cada árbol de decisión. Esto no es recomendable.\n",
        "\n",
        "El argumento **max_samples** se puede configurar como un número entero (que marca el tamaño máximo) o como un número decimal entre 0 y 1 para controlar el porcentaje del tamaño del conjunto de datos de entrenamiento para hacer que la muestra se utilice para entrenar cada árbol de decisión.\n",
        "\n",
        "Por ejemplo, si el conjunto de datos de entrenamiento tiene 100 filas, el argumento max_samples puede establecerse en 0,5 y cada árbol de decisión se entrenará sobre una muestra de con (100 * 0,5) o 50 filas de datos.\n",
        "\n",
        "Un tamaño de muestra más pequeño hará que los árboles sean más diferentes, y un tamaño de muestra más grande hará que los árboles sean más similares. Si se establece max_samples en \"None\", el tamaño de la muestra será el mismo que el del conjunto de datos de entrenamiento, y éste es el valor predeterminado.\n",
        "\n",
        "El ejemplo que figura a continuación demuestra el efecto de diferentes tamaños de muestra del 10 al 100% en el algoritmo."
      ]
    },
    {
      "cell_type": "code",
      "metadata": {
        "id": "WO_YYgOJcO_8"
      },
      "source": [
        "%%time\n",
        "\n",
        "import matplotlib.pyplot as plt\n",
        "import numpy as np\n",
        "from sklearn.model_selection import validation_curve\n",
        "\n",
        "#Lista de parámetros\n",
        "param_range =  [x/100 for x in range(10,100,5)]\n",
        "\n",
        "rnd_clf = RandomForestClassifier(n_estimators=500,  n_jobs=-1, random_state=42)\n",
        "#Curva de validación\n",
        "train_scores, validation_scores = validation_curve(    \n",
        "    rnd_clf, X_train, y_train, param_name=\"max_samples\", param_range=param_range,\n",
        "    scoring='accuracy', cv=3, n_jobs=1)\n",
        "\n",
        "#Pintamos la curva\n",
        "train_scores_mean = np.mean(train_scores, axis=1)\n",
        "train_scores_std = np.std(train_scores, axis=1)\n",
        "validation_scores_mean = np.mean(validation_scores, axis=1)\n",
        "validation_scores_std = np.std(validation_scores, axis=1)\n",
        "\n",
        "plt.title(\"Curva de validation para forest regressor\")\n",
        "plt.xlabel(r\"max_features\")\n",
        "plt.ylabel(\"Score\")\n",
        "lw = 2\n",
        "plt.plot(param_range, train_scores_mean, label=\"Training score\",\n",
        "             color=\"darkorange\", lw=lw)\n",
        "plt.fill_between(param_range, train_scores_mean - train_scores_std,\n",
        "                 train_scores_mean + train_scores_std, alpha=0.2,\n",
        "                 color=\"darkorange\", lw=lw)\n",
        "plt.plot(param_range, validation_scores_mean, label=\"Cross-validation score\",\n",
        "             color=\"navy\", lw=lw)\n",
        "plt.fill_between(param_range, validation_scores_mean - validation_scores_std,\n",
        "                 validation_scores_mean + validation_scores_std, alpha=0.2,\n",
        "                 color=\"navy\", lw=lw)\n",
        "plt.legend(loc=\"best\")\n",
        "plt.show()"
      ],
      "execution_count": null,
      "outputs": []
    },
    {
      "cell_type": "markdown",
      "metadata": {
        "id": "rAn7YlSUMrI0"
      },
      "source": [
        "En este caso parece que aumenta hasta 30% y después tiende a disminuir."
      ]
    },
    {
      "cell_type": "code",
      "metadata": {
        "id": "aZEfI1dxaBDp"
      },
      "source": [
        "rnd_clf = RandomForestClassifier(n_estimators=500, max_samples = 0.30, n_jobs=-1, random_state=42)\n",
        "rnd_clf.fit(X_train, y_train)\n",
        "\n",
        "y_pred_rf = rnd_clf.predict(X_test)\n",
        "print(accuracy_score(y_test, y_pred_rf))"
      ],
      "execution_count": null,
      "outputs": []
    },
    {
      "cell_type": "markdown",
      "metadata": {
        "id": "TQcVmJxaYCMm"
      },
      "source": [
        "Para hacer el gráfico anterior hemos realizado cross validation. En el caso de Random Forest podemos utilizar los elementos out of bag."
      ]
    },
    {
      "cell_type": "markdown",
      "metadata": {
        "id": "iFWKq3rDH3KC"
      },
      "source": [
        "## Evaluación Out-of-Bag"
      ]
    },
    {
      "cell_type": "markdown",
      "metadata": {
        "id": "D-LeWrrsWt6c"
      },
      "source": [
        "Con bagging, algunas instancias del conjunto de entrenamiento pueden ser elegidas varias veces, mientras que otras pueden no ser elegidas nunca. Por defecto, BaggingClassifier elige m instancias de entrenamiento con reemplazo (bootstrap=True), donde m es el tamaño del conjunto de entrenamiento elegido. Así, suponer que usa el 30% de las instancias de entrenamiento para un modelo. El 70% restante de los casos de entrenamiento se denominan instancias fuera de la bolsa (out-of-bag oob). Obsérvese que no son las mismas 70% para todos los predictores.\n",
        "Dado que un predictor nunca ve las instancias de oob durante el entrenamiento, estas podrían elegirse como instancias de validación, sin necesidad de un conjunto de validación separado. \n",
        "\n",
        "En Scikit-Learn, puedes establecer **oob_score**=True al crear un BaggingClassifier para\n",
        "solicitar una evaluación automática del oob después del entrenamiento. La puntuación de evaluación resultante está disponible a través de la variable oob_score_."
      ]
    },
    {
      "cell_type": "code",
      "metadata": {
        "id": "SkNQrQSDH3KD"
      },
      "source": [
        "%%time\n",
        "\n",
        "from sklearn.model_selection import GridSearchCV\n",
        "\n",
        "\n",
        "RF_oob = RandomForestClassifier(n_estimators=500, max_samples = 0.30, oob_score=True, bootstrap=True,  n_jobs=-1, random_state=42)\n",
        "RF_oob.fit(X_train, y_train)\n",
        "print(RF_oob.oob_score_)"
      ],
      "execution_count": null,
      "outputs": []
    },
    {
      "cell_type": "markdown",
      "metadata": {
        "id": "OqtFwgXvW90_"
      },
      "source": [
        "De acuerdo con esta evaluación sobre los elementos oob, este Random Forest obtiene sobre un 92.5% de accuracy sobre el conjunto de oob."
      ]
    },
    {
      "cell_type": "markdown",
      "metadata": {
        "id": "fAKCsO2xV3AS"
      },
      "source": [
        "Sobre el conjunto de test reservado"
      ]
    },
    {
      "cell_type": "code",
      "metadata": {
        "id": "xr5IbNjPH3KN"
      },
      "source": [
        "from sklearn.metrics import accuracy_score\n",
        "y_pred = RF_oob.predict(X_test)\n",
        "accuracy_score(y_test, y_pred)"
      ],
      "execution_count": null,
      "outputs": []
    },
    {
      "cell_type": "markdown",
      "metadata": {
        "id": "Ko3UcjJio83o"
      },
      "source": [
        "Si hacemos valiración cruzada, obtenemos un accuracy similar pero en algo más de tiempo. Además se tiene que considerar que en cada fold se tiene dos tercios de la muestra."
      ]
    },
    {
      "cell_type": "code",
      "metadata": {
        "id": "hrXfmh37iFfS"
      },
      "source": [
        "%%time\n",
        "\n",
        "from sklearn.model_selection import cross_val_score\n",
        "\n",
        "RF_oob_F = RandomForestClassifier(n_estimators=500, max_samples = 0.30, oob_score=False, bootstrap=True,  n_jobs=-1, random_state=42)\n",
        "\n",
        "\n",
        "n_scores = cross_val_score(RF_oob_F, X_train, y_train, scoring='accuracy', cv=3, n_jobs=-1, error_score='raise')\n",
        "\n",
        "print((n_scores).mean())"
      ],
      "execution_count": null,
      "outputs": []
    },
    {
      "cell_type": "markdown",
      "metadata": {
        "id": "83meKWMRY8Nk"
      },
      "source": [
        "De esta forma, para el ejemplo del Random Forest anterior podemos ahorrarnos la validación cruzada y utlizar en su lugar los elementos oob."
      ]
    },
    {
      "cell_type": "markdown",
      "metadata": {
        "id": "O2R_KmccM1eS"
      },
      "source": [
        "#### Explorar el número de árboles"
      ]
    },
    {
      "cell_type": "markdown",
      "metadata": {
        "id": "-0vjSFgCJlXY"
      },
      "source": [
        "El número de árboles a incluir es un hiperámetro importante. Podemos ir añadiendo árboles hasta que notemos que no se produce una mejoría.\n",
        "\n",
        "En este caso, utilizaremos oob en lugar de validación cruzada."
      ]
    },
    {
      "cell_type": "code",
      "metadata": {
        "id": "Fs-SDfxIPuWY"
      },
      "source": [
        "%%time\n",
        "\n",
        "acc_train=[]\n",
        "acc_validation=[]\n",
        "param_range = range(10,500,20)\n",
        "for n in param_range:\n",
        "    rnd_clf = RandomForestClassifier(n_estimators=n, max_samples = 0.3, oob_score=True, n_jobs=-1, random_state=42)\n",
        "    rnd_clf.fit(X_train, y_train)\n",
        "    y_pred_rf = rnd_clf.predict(X_train)\n",
        "    acc_train.append(accuracy_score(y_train, y_pred_rf))\n",
        "    acc_validation.append(rnd_clf.oob_score_)\n",
        "      \n",
        "\n",
        "plt.title(\"Curva de validation para forest classifier\")\n",
        "plt.xlabel(r\"max_features\")\n",
        "plt.ylabel(\"Score\")\n",
        "lw = 2\n",
        "plt.plot(param_range,acc_train, label=\"Training score\",\n",
        "             color=\"darkorange\", lw=lw)\n",
        "plt.plot(param_range, acc_validation, label=\"obb score\",\n",
        "             color=\"navy\", lw=lw)\n",
        "plt.legend(loc=\"best\")\n",
        "plt.show()"
      ],
      "execution_count": null,
      "outputs": []
    },
    {
      "cell_type": "markdown",
      "metadata": {
        "id": "RWB4aycld-mW"
      },
      "source": [
        "En este caso, parece que a partir de 100 árboles no se produce mejoría."
      ]
    },
    {
      "cell_type": "markdown",
      "metadata": {
        "id": "Bw0ivWoASDDH"
      },
      "source": [
        "#### Explorar el número de características"
      ]
    },
    {
      "cell_type": "markdown",
      "metadata": {
        "id": "8MeRLZCpSDDK"
      },
      "source": [
        "El número de características que se muestrean al azar para cada punto de división es una de las características más importantes a configurar para el randon forest.\n",
        "\n",
        "Se establece mediante el argumento max_features y por defecto a la raíz cuadrada del número de características de entrada. \n",
        "\n",
        "En nuestro ejemplo solo tenemos dos características por lo que no podemos jugar demasiado con este argumento.\n",
        "\n",
        "Vamos a cambiar un momento de ejemplo generando un conjunto de datos sintético.\n"
      ]
    },
    {
      "cell_type": "code",
      "metadata": {
        "id": "krNIj8kuSDDM"
      },
      "source": [
        "# Ejemplo sintético de una muestra con 1000 ejemplos y 20 características.\n",
        "from sklearn.datasets import make_classification\n",
        "\n",
        "X1, y1 = make_classification(n_samples=1000, n_features=20, random_state=42)\n",
        "#Generamos el conjunto de test y de entrenamiento que usaremos en esta práctica\n",
        "X_train1, X_test1, y_train1, y_test1 = train_test_split(X1, y1,random_state=42)\n"
      ],
      "execution_count": null,
      "outputs": []
    },
    {
      "cell_type": "code",
      "metadata": {
        "id": "qed90Bt3t-9j"
      },
      "source": [
        "%%time\n",
        "   \n",
        "acc_train=[]\n",
        "acc_validation=[]\n",
        "param_range = range(1,20)\n",
        "for f in param_range:\n",
        "    rnd_clf = RandomForestClassifier(n_estimators=100,  max_samples = 0.3, max_features = f, oob_score=True, n_jobs=-1, random_state=42)\n",
        "    rnd_clf.fit(X_train1, y_train1)\n",
        "    y_pred_rf = rnd_clf.predict(X_train1)\n",
        "    acc_train.append(accuracy_score(y_train1, y_pred_rf))\n",
        "    acc_validation.append(rnd_clf.oob_score_)\n",
        "      \n",
        "\n",
        "plt.title(\"Curva de validation para forest classifier\")\n",
        "plt.xlabel(r\"max_features\")\n",
        "plt.ylabel(\"Score\")\n",
        "lw = 2\n",
        "plt.plot(param_range,acc_train, label=\"Training score\",\n",
        "             color=\"darkorange\", lw=lw)\n",
        "plt.plot(param_range, acc_validation, label=\"obb score\",\n",
        "             color=\"navy\", lw=lw)\n",
        "plt.legend(loc=\"best\")\n",
        "plt.show()\n"
      ],
      "execution_count": null,
      "outputs": []
    },
    {
      "cell_type": "markdown",
      "metadata": {
        "id": "-f2nrdeySDDa"
      },
      "source": [
        "En este caso, alrededor de 17 características es lo que parece que produce mejores resultados."
      ]
    },
    {
      "cell_type": "markdown",
      "metadata": {
        "id": "J76azQ9nSDDl"
      },
      "source": [
        "#### Explorar la profundad del árbol"
      ]
    },
    {
      "cell_type": "markdown",
      "metadata": {
        "id": "ttXn5-uOSDDm"
      },
      "source": [
        "Existen otros hiperparámetros a explorar, que van más allá del bagging. \n",
        "\n",
        "Exploramos por ejemplo, la profundidad máxima de los árboles de decisión utilizados en el conjunto.\n",
        "\n",
        "Por defecto, los árboles se construyen a una profundidad arbitraria y no se podan. Este es un defecto sensato, aunque también podemos explorar árboles de ajuste con diferentes profundidades fijas.\n",
        "\n",
        "La profundidad máxima del árbol puede especificarse mediante el argumento max_depth y se establece en Ninguno (sin profundidad máxima) por defecto."
      ]
    },
    {
      "cell_type": "code",
      "metadata": {
        "id": "HwGVSJFOsYQU"
      },
      "source": [
        "%%time\n",
        "\n",
        "acc_train=[]\n",
        "acc_validation=[]\n",
        "param_range = range(1,10)\n",
        "for d in param_range:\n",
        "    rnd_clf = RandomForestClassifier(n_estimators=100,  max_samples = 0.3,  max_depth=d, oob_score=True, n_jobs=-1, random_state=42)\n",
        "    rnd_clf.fit(X_train, y_train)\n",
        "    y_pred_rf = rnd_clf.predict(X_train)\n",
        "    acc_train.append(accuracy_score(y_train, y_pred_rf))\n",
        "    acc_validation.append(rnd_clf.oob_score_)\n",
        "      \n",
        "\n",
        "plt.title(\"Curva de validation para forest classifier\")\n",
        "plt.xlabel(r\"max_depth\")\n",
        "plt.ylabel(\"Score\")\n",
        "lw = 2\n",
        "plt.plot(param_range,acc_train, label=\"Training score\",\n",
        "             color=\"darkorange\", lw=lw)\n",
        "plt.plot(param_range, acc_validation, label=\"obb score\",\n",
        "             color=\"navy\", lw=lw)\n",
        "plt.legend(loc=\"best\")\n",
        "plt.show()"
      ],
      "execution_count": null,
      "outputs": []
    },
    {
      "cell_type": "markdown",
      "metadata": {
        "id": "S2x5GVE1SDDq"
      },
      "source": [
        "En este caso la profundidad mejora el rendimiento, hasta que  parece que el rendimiento va creciendo con la profundidad. "
      ]
    },
    {
      "cell_type": "markdown",
      "metadata": {
        "id": "_N7l9r9IdzXt"
      },
      "source": [
        "Probemos sobre los datos del test."
      ]
    },
    {
      "cell_type": "code",
      "metadata": {
        "id": "rRQS2aZpMh5h"
      },
      "source": [
        "rnd_clf = RandomForestClassifier(n_estimators=100, max_samples = 0.3, max_depth=10, n_jobs=-1, random_state=42)\n",
        "rnd_clf.fit(X_train, y_train)\n",
        "\n",
        "y_pred_rf = rnd_clf.predict(X_test)\n",
        "print(accuracy_score(y_test, y_pred_rf))"
      ],
      "execution_count": null,
      "outputs": []
    },
    {
      "cell_type": "markdown",
      "metadata": {
        "id": "P3O_i1zd6tgn"
      },
      "source": [
        "## Ejercicios Random Forest"
      ]
    },
    {
      "cell_type": "markdown",
      "metadata": {
        "id": "10y8Vvrb6wJu"
      },
      "source": [
        "EJERCICIO: Sobre la BD Diabetes entrena un random forest regressor. Utiliza como hiperparámetros del random forest max_samples=100, n_estimators=300, n_jobs=-1, random_state=42.\n",
        "¿Qué RMSE obtienes sobre el conjunto de entrenamiento?\n",
        "¿Y sobre el conjunto de test?\n",
        "\n",
        "\n"
      ]
    },
    {
      "cell_type": "code",
      "metadata": {
        "id": "D63yi2fL3zMR"
      },
      "source": [
        "from sklearn.ensemble import RandomForestRegressor\n",
        "\n",
        "# Solución\n"
      ],
      "execution_count": null,
      "outputs": []
    },
    {
      "cell_type": "markdown",
      "metadata": {
        "id": "eaYiSnufLbs4"
      },
      "source": [
        "EJERCICIO: Realiza una curva de validación sobre el argumento max_depth. Prueba para el RandomForestRegressor siguiente en el rango de parámetros suministrado. Interpreta el resultado."
      ]
    },
    {
      "cell_type": "code",
      "metadata": {
        "id": "nCv4CIK3KyYJ"
      },
      "source": [
        "%%time\n",
        "\n",
        "import matplotlib.pyplot as plt\n",
        "import numpy as np\n",
        "from sklearn.model_selection import validation_curve\n",
        "\n",
        "#Lista de parámetros\n",
        "\n",
        "param_range = range(1,10)\n",
        "\n",
        "rnd_clf = RandomForestRegressor(max_samples=100, n_estimators=300, n_jobs=-1, random_state=42)\n",
        "\n",
        "#Curva de validación\n",
        "#Solución\n",
        "\n"
      ],
      "execution_count": null,
      "outputs": []
    },
    {
      "cell_type": "code",
      "metadata": {
        "id": "dybbi4KMgjb1"
      },
      "source": [
        "#Gráfica usando oob_scores\n",
        "# Solución\n"
      ],
      "execution_count": null,
      "outputs": []
    },
    {
      "cell_type": "markdown",
      "metadata": {
        "id": "qU0AmyUDCrAc"
      },
      "source": [
        "EJERCICO (Opcional): Realiza una búsqueda aleatoria para un random forest regressor sobre los hiperparámetros estudiados según la cuadrícula proporcionada. Usa validación cruzada con tres folds.\n",
        "¿Cuál es la mejor combinación de parámetros?¿Usa bagging (coge un subconjunto de la muestra para entrenar), random pathches o random subspaces?\n",
        "¿Qué RMSE obtienes sobre el conjunto de que usa para realizar validación cruzada?¿y sobre el conjunto de test?"
      ]
    },
    {
      "cell_type": "code",
      "metadata": {
        "id": "Ghpm-N1VFIJX"
      },
      "source": [
        "%%time\n",
        "\n",
        "from sklearn.model_selection import GridSearchCV\n",
        "\n",
        "param_grid = {\n",
        "        #'bootstrap'=[False, True],\n",
        "        'n_estimators': [30, 100, 300],\n",
        "        'max_features': [3, 5, 8, None],\n",
        "        'max_depth': [3, 7, 10, None],\n",
        "        'max_samples': [30, 100, 200, None]\n",
        "    }\n",
        "\n",
        "forest_reg = RandomForestRegressor(random_state=42, bootstrap=False) \n",
        "\n",
        "# Solución\n"
      ],
      "execution_count": null,
      "outputs": []
    },
    {
      "cell_type": "markdown",
      "metadata": {
        "id": "cloCEaThUd2d"
      },
      "source": [
        "Explicar si usa bagging, random pathches o random subspaces\n"
      ]
    },
    {
      "cell_type": "markdown",
      "metadata": {
        "id": "iWOmlTRZYjpc"
      },
      "source": [
        "# Métodos Boosting"
      ]
    },
    {
      "cell_type": "markdown",
      "metadata": {
        "id": "yvB0tGLFH3Kh"
      },
      "source": [
        "# AdaBoost"
      ]
    },
    {
      "cell_type": "markdown",
      "metadata": {
        "id": "mAWFrGC-Kkxs"
      },
      "source": [
        "Los métodos de boosting entrenan modelos de forma secuencial en los que un modelo trata de corregir los errores del modelo anterior."
      ]
    },
    {
      "cell_type": "markdown",
      "metadata": {
        "id": "2xpvqdPBKlmj"
      },
      "source": [
        "Trabajaremos sobre la misma BD moons."
      ]
    },
    {
      "cell_type": "code",
      "metadata": {
        "id": "9NDNrvV2Kh_8",
        "colab": {
          "base_uri": "https://localhost:8080/",
          "height": 255
        },
        "outputId": "cc5228e0-31bd-4ce7-83bd-12e48f767b24"
      },
      "source": [
        "#Primero generamos el conjunto de datos moons\n",
        "import numpy as np\n",
        "\n",
        "# Librerías para los gráficos\n",
        "%matplotlib inline\n",
        "import matplotlib as mpl\n",
        "import matplotlib.pyplot as plt\n",
        "from sklearn.model_selection import train_test_split\n",
        "from sklearn.datasets import make_moons\n",
        "\n",
        "X, y = make_moons(n_samples=500, noise=0.3,  random_state=42)\n",
        "\n",
        "#Pintamos la base de datos moons\n",
        "plt.figure(figsize=(8,3.5))\n",
        "\n",
        "plt.plot(X[:, 0][y==0], X[:, 1][y==0], \"yo\", alpha=0.5) #iterable\n",
        "plt.plot(X[:, 0][y==1], X[:, 1][y==1], 'ro', alpha=0.5)\n",
        "plt.title(\"moons data base\", fontsize=14)\n",
        "plt.show()\n",
        "#Generamos el conjunto de test y de entrenamiento que usaremos en esta práctica\n",
        "X_train, X_test, y_train, y_test = train_test_split(X, y,random_state=42)"
      ],
      "execution_count": 100,
      "outputs": [
        {
          "output_type": "display_data",
          "data": {
            "image/png": "[encoded data removed]",
            "text/plain": [
              "<Figure size 576x252 with 1 Axes>"
            ]
          },
          "metadata": {
            "needs_background": "light"
          }
        }
      ]
    },
    {
      "cell_type": "markdown",
      "metadata": {
        "id": "avHPNpkJcIzv"
      },
      "source": [
        "El siguiente código entrena un clasificador AdaBoost basado en 200 árboles de decisión usando la clase AdaBoostClassifier de Scikit-Learn (como es de esperar, también hay una clase AdaBoostRegressor). \n",
        "\n",
        "Los árboles de decisión que se usan en el ejemplo tienen max_depth=1, en otras palabras, un árbol compuesto por un único nodo de decisión más dos nodos de hoja. Son métodos de clásificación bastante débiles, pero que mejoran progresivamente con el método de boosting.\n"
      ]
    },
    {
      "cell_type": "code",
      "metadata": {
        "id": "ev--cQrvH3Kh",
        "colab": {
          "base_uri": "https://localhost:8080/"
        },
        "outputId": "d09b5f6b-8716-483e-fa73-f27ba8ecc4ec"
      },
      "source": [
        "from sklearn.ensemble import AdaBoostClassifier\n",
        "from sklearn.metrics import accuracy_score\n",
        "from sklearn.tree import DecisionTreeClassifier\n",
        "\n",
        "\n",
        "ada_clf = AdaBoostClassifier(DecisionTreeClassifier(max_depth=1), n_estimators=200,\n",
        "    learning_rate=0.5, random_state=42)\n",
        "\n",
        "ada_clf.fit(X_train, y_train)\n",
        "\n",
        "y_pred = ada_clf.predict(X_test)\n",
        "accuracy_score(y_test, y_pred)"
      ],
      "execution_count": 101,
      "outputs": [
        {
          "output_type": "execute_result",
          "data": {
            "text/plain": [
              "0.896"
            ]
          },
          "metadata": {},
          "execution_count": 101
        }
      ]
    },
    {
      "cell_type": "code",
      "metadata": {
        "id": "VhPQKL3XOQre",
        "colab": {
          "base_uri": "https://localhost:8080/",
          "height": 291
        },
        "outputId": "9f523852-e1f1-4a98-9247-dc9eaf971c8e"
      },
      "source": [
        "from matplotlib.colors import ListedColormap\n",
        "\n",
        "def plot_decision_boundary(clf, X, y, axes=[-1.5, 2.5, -1, 1.5], alpha=0.5, contour=True):\n",
        "    x1s = np.linspace(axes[0], axes[1], 100)\n",
        "    x2s = np.linspace(axes[2], axes[3], 100)\n",
        "    x1, x2 = np.meshgrid(x1s, x2s)\n",
        "    X_new = np.c_[x1.ravel(), x2.ravel()]\n",
        "    y_pred = clf.predict(X_new).reshape(x1.shape)\n",
        "    custom_cmap = ListedColormap(['#fafab0','#9898ff','#a0faa0'])\n",
        "    plt.contourf(x1, x2, y_pred, alpha=0.3, cmap=custom_cmap)\n",
        "    if contour:\n",
        "        custom_cmap2 = ListedColormap(['#7d7d58','#4c4c7f','#507d50'])\n",
        "        plt.contour(x1, x2, y_pred, cmap=custom_cmap2, alpha=0.8)\n",
        "    plt.plot(X[:, 0][y==0], X[:, 1][y==0], \"yo\", alpha=alpha)\n",
        "    plt.plot(X[:, 0][y==1], X[:, 1][y==1], \"bs\", alpha=alpha)\n",
        "    plt.axis(axes)\n",
        "    plt.xlabel(r\"$x_1$\", fontsize=18)\n",
        "    plt.ylabel(r\"$x_2$\", fontsize=18, rotation=0)\n",
        "\n",
        "\n",
        "plot_decision_boundary(ada_clf, X, y)"
      ],
      "execution_count": 102,
      "outputs": [
        {
          "output_type": "display_data",
          "data": {
            "image/png": "[encoded data removed]",
            "text/plain": [
              "<Figure size 432x288 with 1 Axes>"
            ]
          },
          "metadata": {
            "needs_background": "light"
          }
        }
      ]
    },
    {
      "cell_type": "markdown",
      "metadata": {
        "id": "l9jhlRXpc-J-"
      },
      "source": [
        "En el siguiente ejemplo, se implementa el método de Boosting para ver su funcionamiento. \n",
        "\n",
        "En concreto en la siguiente figura se muestra la frontera de decisión de cinco predictores consecutivos (cada predictor es un clasificador SVM con un kernel RBF). El primer clasificador se equivoca en muchas instancias, y los pesos de estas instancias se incrementan. El segundo clasificador, por lo tanto, hace un mejor trabajo en estas instancias. No obstante, con una tasa de aprendizaje de 1 hace que el clasificador trate de ajustar a determinados elementos demasiado rápido y el clasificador empeore. El gráfico de la derecha representa la misma secuencia de predictores, excepto que la tasa de aprendizaje se reduce a 0.2 (es decir, los pesos de las instancias mal clasificadas se incrementan en un quinto en cada iteración). Como puede ver, esta técnica de aprendizaje secuencial tiene algunas similitudes con el Descenso del Gradiente, excepto que en lugar de ajustar los parámetros de un solo predictor para minimizar una función de coste, AdaBoost añade predictores al conjunto, haciéndolo gradualmente mejor."
      ]
    },
    {
      "cell_type": "code",
      "metadata": {
        "id": "U0ZwlK3bH3Kr",
        "colab": {
          "base_uri": "https://localhost:8080/",
          "height": 660
        },
        "outputId": "d9a322ef-406a-46f7-e923-fe75db7cabe9"
      },
      "source": [
        "from sklearn.svm import SVC\n",
        "\n",
        "plt.figure(figsize=(11, 4))\n",
        "for subplot, learning_rate in ((121, 1), (122, 0.2)):\n",
        "    sample_weights = np.ones(len(X_train)) # Pesos\n",
        "    plt.subplot(subplot)\n",
        "    for i in range(10):\n",
        "        svm_clf = SVC(kernel=\"rbf\", C=0.05, gamma=\"auto\", random_state=42)\n",
        "        svm_clf.fit(X_train, y_train, sample_weight=sample_weights) # Se incrementan los pesos en los valores\n",
        "        y_pred = svm_clf.predict(X_train)\n",
        "        sample_weights[y_pred != y_train] *= (1 + learning_rate) #Se añade más peso a los que no acierta\n",
        "        plot_decision_boundary(svm_clf, X, y, alpha=0.2)\n",
        "        plt.title(\"learning_rate = {}\".format(learning_rate), fontsize=16)\n",
        "        \n",
        "        y_pred = svm_clf.predict(X_test)\n",
        "        print(\"Iteración:\", i, \"ratio aprendizaje:\", learning_rate,  \"accuracy\", accuracy_score(y_test, y_pred))\n",
        "#save_fig(\"boosting_plot\")\n",
        "plt.show()\n",
        "\n"
      ],
      "execution_count": 103,
      "outputs": [
        {
          "output_type": "stream",
          "name": "stdout",
          "text": [
            "Iteración: 0 ratio aprendizaje: 1 accuracy 0.872\n",
            "Iteración: 1 ratio aprendizaje: 1 accuracy 0.856\n",
            "Iteración: 2 ratio aprendizaje: 1 accuracy 0.88\n",
            "Iteración: 3 ratio aprendizaje: 1 accuracy 0.856\n",
            "Iteración: 4 ratio aprendizaje: 1 accuracy 0.552\n",
            "Iteración: 5 ratio aprendizaje: 1 accuracy 0.528\n",
            "Iteración: 6 ratio aprendizaje: 1 accuracy 0.656\n",
            "Iteración: 7 ratio aprendizaje: 1 accuracy 0.68\n",
            "Iteración: 8 ratio aprendizaje: 1 accuracy 0.688\n",
            "Iteración: 9 ratio aprendizaje: 1 accuracy 0.504\n",
            "Iteración: 0 ratio aprendizaje: 0.2 accuracy 0.872\n",
            "Iteración: 1 ratio aprendizaje: 0.2 accuracy 0.872\n",
            "Iteración: 2 ratio aprendizaje: 0.2 accuracy 0.872\n",
            "Iteración: 3 ratio aprendizaje: 0.2 accuracy 0.864\n",
            "Iteración: 4 ratio aprendizaje: 0.2 accuracy 0.856\n",
            "Iteración: 5 ratio aprendizaje: 0.2 accuracy 0.864\n",
            "Iteración: 6 ratio aprendizaje: 0.2 accuracy 0.872\n",
            "Iteración: 7 ratio aprendizaje: 0.2 accuracy 0.856\n",
            "Iteración: 8 ratio aprendizaje: 0.2 accuracy 0.864\n",
            "Iteración: 9 ratio aprendizaje: 0.2 accuracy 0.888\n"
          ]
        },
        {
          "output_type": "display_data",
          "data": {
            "image/png": "[encoded data removed]",
            "text/plain": [
              "<Figure size 792x288 with 2 Axes>"
            ]
          },
          "metadata": {
            "needs_background": "light"
          }
        }
      ]
    },
    {
      "cell_type": "markdown",
      "metadata": {
        "id": "F_gF8Rc3qaef"
      },
      "source": [
        "Utilizamos ahora 200 estimadores SVC con un ratio de apredizaje de 0.2"
      ]
    },
    {
      "cell_type": "code",
      "metadata": {
        "id": "9iTq7MtYcSnO",
        "colab": {
          "base_uri": "https://localhost:8080/"
        },
        "outputId": "370d28d0-baaa-484c-c0eb-27591e111ebe"
      },
      "source": [
        "ada_clf_SVC = AdaBoostClassifier(\n",
        "    SVC(kernel=\"rbf\", C=0.05, gamma=\"auto\", probability=True, random_state=42), n_estimators=200,\n",
        "    learning_rate=0.2, random_state=42) #Añadimos más estimadores y ponermos el ratio de aprendizaje más pequeño\n",
        "ada_clf_SVC.fit(X_train, y_train)\n",
        "\n",
        "y_pred = ada_clf_SVC.predict(X_test)\n",
        "accuracy_score(y_test, y_pred)"
      ],
      "execution_count": 104,
      "outputs": [
        {
          "output_type": "execute_result",
          "data": {
            "text/plain": [
              "0.904"
            ]
          },
          "metadata": {},
          "execution_count": 104
        }
      ]
    },
    {
      "cell_type": "code",
      "metadata": {
        "id": "y6UVLYn1dAbU",
        "colab": {
          "base_uri": "https://localhost:8080/",
          "height": 291
        },
        "outputId": "e49b6c24-9f4b-48ff-ce43-05670742de94"
      },
      "source": [
        "plot_decision_boundary(ada_clf_SVC, X, y)"
      ],
      "execution_count": 105,
      "outputs": [
        {
          "output_type": "display_data",
          "data": {
            "image/png": "[encoded data removed]",
            "text/plain": [
              "<Figure size 432x288 with 1 Axes>"
            ]
          },
          "metadata": {
            "needs_background": "light"
          }
        }
      ]
    },
    {
      "cell_type": "markdown",
      "metadata": {
        "id": "mavOkXqW_F0L"
      },
      "source": [
        "## Ejercicios AdaBoosting"
      ]
    },
    {
      "cell_type": "markdown",
      "metadata": {
        "id": "iffXVKZLX5Xe"
      },
      "source": [
        "Cargamos de nuevo la BD Diabetes para hacer ejercicios sobre ella."
      ]
    },
    {
      "cell_type": "code",
      "metadata": {
        "id": "ZcauEJM_Xs7T"
      },
      "source": [
        "import pandas as pd\n",
        "import numpy as np\n",
        "from sklearn.model_selection import train_test_split\n",
        "\n",
        "#Importamos la BD Diabetes con la misma configuración de la práctica anterior.\n",
        "\n",
        "from sklearn import datasets\n",
        "diabetes_BD = datasets.load_diabetes()\n",
        "\n",
        "diabetes=diabetes_BD[\"data\"] # Datos de las casas a usar \n",
        "feature_names=diabetes_BD[\"feature_names\"] # Nombre de las variable\n",
        "diabetes_target=diabetes_BD[\"target\"] # Dato a inferir. Precio medio de las casas\n",
        "\n",
        "# Repartimos en conjunto de entrenamiento y test\n",
        "\n",
        "from sklearn.model_selection import train_test_split\n",
        "X_train_diabetes,  X_test_diabetes, y_train_diabetes, y_test_diabetes = train_test_split(diabetes, diabetes_target, test_size=0.2, random_state=42)\n",
        "\n"
      ],
      "execution_count": 106,
      "outputs": []
    },
    {
      "cell_type": "markdown",
      "metadata": {
        "id": "EVgHS2P3_LWe"
      },
      "source": [
        "EJERCICIO: Sobre la BD Diabetes aplica el método AdaBoosting.\n",
        "Utiliza 200 árboles de decisión (cada uno que utilice como máximo 5 características). Prueba 4 ratios de aprendizje distintos: 0.1, 0.25, 0.5 y 1. ¿Qué RMSE obtienes sobre el conjunto de entrenamiento en los cuatro métodos? ¿Y sobre el conjunto de test?¿Qué ratio da mejores resultados?"
      ]
    },
    {
      "cell_type": "code",
      "metadata": {
        "id": "KYrxDAGz_Nwq",
        "colab": {
          "base_uri": "https://localhost:8080/"
        },
        "outputId": "8fc124c0-6aa4-414f-b90f-3190464fb7d1"
      },
      "source": [
        "from sklearn.ensemble import AdaBoostRegressor\n",
        "from sklearn.tree import DecisionTreeRegressor\n",
        "from sklearn.metrics import mean_squared_error\n",
        "\n",
        "# Solución\n",
        "for r in [0.1, 0.25, 0.5, 1]:\n",
        "  ada_rg = AdaBoostRegressor(DecisionTreeRegressor(random_state=42), n_estimators=200,\n",
        "                            learning_rate=r, random_state=42)\n",
        "  ada_rg.fit(X_train_diabetes, y_train_diabetes)\n",
        "\n",
        "  y_train_ada_rg=ada_rg.predict(X_train_diabetes)\n",
        "  print(\"RMSE sobre el conjunto de entrenamiento con ratio de aprendizaje\", r, \":\", \n",
        "      np.sqrt(mean_squared_error(y_train_diabetes, y_train_ada_rg)))\n",
        "  y_pred_diabetes = ada_rg.predict(X_train_diabetes)\n",
        "  print(\"RMSE sobre el conjunto de entrenamiento con ratio de aprendizaje\", r, \":\", \n",
        "      np.sqrt(mean_squared_error(y_train_diabetes, y_pred_diabetes)))\n"
      ],
      "execution_count": 116,
      "outputs": [
        {
          "output_type": "stream",
          "name": "stdout",
          "text": [
            "RMSE sobre el conjunto de entrenamiento con ratio de aprendizaje 0.1 : 0.07527099294949814\n",
            "RMSE sobre el conjunto de entrenamiento con ratio de aprendizaje 0.1 : 0.07527099294949814\n",
            "RMSE sobre el conjunto de entrenamiento con ratio de aprendizaje 0.25 : 0.8985351629699777\n",
            "RMSE sobre el conjunto de entrenamiento con ratio de aprendizaje 0.25 : 0.8985351629699777\n",
            "RMSE sobre el conjunto de entrenamiento con ratio de aprendizaje 0.5 : 1.1427812601274943\n",
            "RMSE sobre el conjunto de entrenamiento con ratio de aprendizaje 0.5 : 1.1427812601274943\n",
            "RMSE sobre el conjunto de entrenamiento con ratio de aprendizaje 1 : 2.0579425353380354\n",
            "RMSE sobre el conjunto de entrenamiento con ratio de aprendizaje 1 : 2.0579425353380354\n"
          ]
        }
      ]
    },
    {
      "cell_type": "markdown",
      "metadata": {
        "id": "0YMyQLaZuR-C"
      },
      "source": [
        "Pregunta: ¿Mejora si se añaden más estimadores (árboles de decisión, en este caso)? Prueba a poner 500 y 1000, con el ratio de aprendizaje 0.25."
      ]
    },
    {
      "cell_type": "code",
      "metadata": {
        "id": "4liHKgUBuRLD"
      },
      "source": [
        "#Solución\n"
      ],
      "execution_count": 108,
      "outputs": []
    },
    {
      "cell_type": "code",
      "metadata": {
        "outputId": "8ac96cb2-f85f-4769-eb37-eba39f61172b",
        "colab": {
          "base_uri": "https://localhost:8080/"
        },
        "id": "TWF9cD5f8utb"
      },
      "source": [
        "from sklearn.ensemble import AdaBoostRegressor\n",
        "from sklearn.tree import DecisionTreeRegressor\n",
        "from sklearn.metrics import mean_squared_error\n",
        "\n",
        "for r in [0.1, 0.25, 0.5, 1]:\n",
        "  ada_rg = AdaBoostRegressor(DecisionTreeRegressor(random_state=42), n_estimators=1000,\n",
        "                            learning_rate=r, random_state=42)\n",
        "  ada_rg.fit(X_train_diabetes, y_train_diabetes)\n",
        "\n",
        "  y_train_ada_rg=ada_rg.predict(X_train_diabetes)\n",
        "  print(\"RMSE sobre el conjunto de entrenamiento con ratio de aprendizaje\", r, \":\", \n",
        "      np.sqrt(mean_squared_error(y_train_diabetes, y_train_ada_rg)))\n",
        "  y_pred_diabetes = ada_rg.predict(X_train_diabetes)\n",
        "  print(\"RMSE sobre el conjunto de entrenamiento con ratio de aprendizaje\", r, \":\", \n",
        "      np.sqrt(mean_squared_error(y_train_diabetes, y_pred_diabetes)))\n"
      ],
      "execution_count": 118,
      "outputs": [
        {
          "output_type": "stream",
          "name": "stdout",
          "text": [
            "RMSE sobre el conjunto de entrenamiento con ratio de aprendizaje 0.1 : 0.555681446233708\n",
            "RMSE sobre el conjunto de entrenamiento con ratio de aprendizaje 0.1 : 0.555681446233708\n",
            "RMSE sobre el conjunto de entrenamiento con ratio de aprendizaje 0.25 : 1.0511022138796315\n",
            "RMSE sobre el conjunto de entrenamiento con ratio de aprendizaje 0.25 : 1.0511022138796315\n",
            "RMSE sobre el conjunto de entrenamiento con ratio de aprendizaje 0.5 : 1.3026449449835584\n",
            "RMSE sobre el conjunto de entrenamiento con ratio de aprendizaje 0.5 : 1.3026449449835584\n",
            "RMSE sobre el conjunto de entrenamiento con ratio de aprendizaje 1 : 2.2750027239033597\n",
            "RMSE sobre el conjunto de entrenamiento con ratio de aprendizaje 1 : 2.2750027239033597\n"
          ]
        }
      ]
    },
    {
      "cell_type": "markdown",
      "metadata": {
        "id": "LVH_bISq1LpD"
      },
      "source": [
        "EJERCICIO (Opcional). Prueba ahora a cambiar el modelo base. Por ejemplo, pon un SVR o una regresión lineal. ¿Consigues mejorar el resultado? Puedes probar con 200 estimadores y los ratio de aprendizaje 0.1."
      ]
    },
    {
      "cell_type": "code",
      "metadata": {
        "id": "PMQkVyue1h7k"
      },
      "source": [
        "from sklearn.svm import SVR\n",
        "svm_reg = SVR(kernel=\"rbf\", C=5, gamma=\"auto\")\n",
        "\n",
        "from sklearn.linear_model import LinearRegression\n",
        "lin_reg = LinearRegression()\n",
        "\n",
        "# Solución\n"
      ],
      "execution_count": 109,
      "outputs": []
    },
    {
      "cell_type": "markdown",
      "metadata": {
        "id": "ZdWxqDBC55iy"
      },
      "source": [
        "# Gradient Boosting"
      ]
    },
    {
      "cell_type": "markdown",
      "metadata": {
        "id": "lAb67-rggYZ1"
      },
      "source": [
        "El siguiente ejemplo trata de ilustrar cómo funciona Gradient Tree Boosting, o Gradient Boosted Regression Trees (GBRT). \n",
        "\n",
        "En este caso, vamos a generar un conjunto de entrenamiento aleatorio cuadrático."
      ]
    },
    {
      "cell_type": "code",
      "metadata": {
        "id": "G72nDJylH3K1",
        "colab": {
          "base_uri": "https://localhost:8080/",
          "height": 287
        },
        "outputId": "339b7ebf-dfb9-4db5-d41c-0f7bfdda6144"
      },
      "source": [
        "np.random.seed(42)\n",
        "Xrand = np.random.rand(100, 1) - 0.5\n",
        "yrand = 3*Xrand[:, 0]**2 + 0.05 * np.random.randn(100)\n",
        "\n",
        "plt.plot(Xrand,yrand, 'o')"
      ],
      "execution_count": 119,
      "outputs": [
        {
          "output_type": "execute_result",
          "data": {
            "text/plain": [
              "[<matplotlib.lines.Line2D at 0x7f0fd013c310>]"
            ]
          },
          "metadata": {},
          "execution_count": 119
        },
        {
          "output_type": "display_data",
          "data": {
            "image/png": "[encoded data removed]",
            "text/plain": [
              "<Figure size 432x288 with 1 Axes>"
            ]
          },
          "metadata": {
            "needs_background": "light"
          }
        }
      ]
    },
    {
      "cell_type": "markdown",
      "metadata": {
        "id": "AHTkk_h2rIrp"
      },
      "source": [
        "Primero aplicamos un DecisionTreeRegressor al conjunto de entrenamiento."
      ]
    },
    {
      "cell_type": "code",
      "metadata": {
        "id": "FQbc2nRJH3K7",
        "colab": {
          "base_uri": "https://localhost:8080/"
        },
        "outputId": "52e3ac04-8dee-4f8b-a10a-cc50011dd6ed"
      },
      "source": [
        "from sklearn.tree import DecisionTreeRegressor\n",
        "\n",
        "tree_reg1 = DecisionTreeRegressor(max_depth=2, random_state=42)\n",
        "tree_reg1.fit(Xrand, yrand)"
      ],
      "execution_count": 120,
      "outputs": [
        {
          "output_type": "execute_result",
          "data": {
            "text/plain": [
              "DecisionTreeRegressor(max_depth=2, random_state=42)"
            ]
          },
          "metadata": {},
          "execution_count": 120
        }
      ]
    },
    {
      "cell_type": "markdown",
      "metadata": {
        "id": "Z-EPKqz5giiG"
      },
      "source": [
        "Ahora entrenamos un segundo DecisionTreeRegressor sobre los errores residuales cometidos por el primer modelo:"
      ]
    },
    {
      "cell_type": "code",
      "metadata": {
        "id": "4alDnByFH3LB",
        "colab": {
          "base_uri": "https://localhost:8080/"
        },
        "outputId": "a906a6a1-4132-4ce1-92a9-723507d9848d"
      },
      "source": [
        "y2 = yrand - tree_reg1.predict(Xrand)\n",
        "tree_reg2 = DecisionTreeRegressor(max_depth=2, random_state=42)\n",
        "tree_reg2.fit(Xrand, y2)"
      ],
      "execution_count": 121,
      "outputs": [
        {
          "output_type": "execute_result",
          "data": {
            "text/plain": [
              "DecisionTreeRegressor(max_depth=2, random_state=42)"
            ]
          },
          "metadata": {},
          "execution_count": 121
        }
      ]
    },
    {
      "cell_type": "markdown",
      "metadata": {
        "id": "9aLgQKmEgq5K"
      },
      "source": [
        "Entrenamos ahora un tercer modelo sobre los errores cometidos por el segundo modelo:"
      ]
    },
    {
      "cell_type": "code",
      "metadata": {
        "id": "6Db1AFLhH3LH",
        "colab": {
          "base_uri": "https://localhost:8080/"
        },
        "outputId": "1620229e-3966-4884-9730-01b519f29888"
      },
      "source": [
        "y3 = y2 - tree_reg2.predict(Xrand)\n",
        "tree_reg3 = DecisionTreeRegressor(max_depth=2, random_state=42)\n",
        "tree_reg3.fit(Xrand, y3)"
      ],
      "execution_count": 122,
      "outputs": [
        {
          "output_type": "execute_result",
          "data": {
            "text/plain": [
              "DecisionTreeRegressor(max_depth=2, random_state=42)"
            ]
          },
          "metadata": {},
          "execution_count": 122
        }
      ]
    },
    {
      "cell_type": "markdown",
      "metadata": {
        "id": "30kNPbTNgwK6"
      },
      "source": [
        "Finalmente, hacemos un ensemble conteniendo los tres árboles. Podemos hacer predicciones sobre una nueva instancia simplemente añadiendo las predicciones de las tres anteriores:"
      ]
    },
    {
      "cell_type": "code",
      "metadata": {
        "id": "CYnsqwbCH3LV",
        "colab": {
          "base_uri": "https://localhost:8080/"
        },
        "outputId": "78fc40ad-2d76-42fe-e3b4-b3bacdd2c18b"
      },
      "source": [
        "print(\"Primer elemento del conjunto de entrenamiento:\", Xrand[0], \"Solución a aproximar:\", yrand[0])\n",
        "print(\"Resultado primera iteración:\", tree_reg1.predict([Xrand[0]]))\n",
        "print(\"Resultado segunda iteración:\", tree_reg1.predict([Xrand[0]])+tree_reg2.predict([Xrand[0]]))\n",
        "print(\"Resultado tercera iteración:\",tree_reg1.predict([Xrand[0]])+tree_reg2.predict([Xrand[0]])+tree_reg3.predict([Xrand[0]])) \n",
        "\n",
        "# Definimos una nueva instancia\n",
        "\n",
        "X_new = np.array([[0.25]]) \n",
        "print(\"Valor para la nueva instancia\", X_new,\"a aproximar:\", 3*X_new**2 + 0.05 * np.random.randn(1))\n",
        "print(\"Resultado primera iteración:\", tree_reg1.predict(X_new))\n",
        "print(\"Resultado segunda iteración:\", tree_reg1.predict(X_new)+tree_reg2.predict(X_new))\n",
        "print(\"Resultado tercera iteración:\",tree_reg1.predict(X_new)+tree_reg2.predict(X_new)+tree_reg3.predict(X_new))  \n"
      ],
      "execution_count": 123,
      "outputs": [
        {
          "output_type": "stream",
          "name": "stdout",
          "text": [
            "Primer elemento del conjunto de entrenamiento: [-0.12545988] Solución a aproximar: 0.05157289874841034\n",
            "Resultado primera iteración: [0.12356613]\n",
            "Resultado segunda iteración: [0.03316819]\n",
            "Resultado tercera iteración: [0.04021166]\n",
            "Valor para la nueva instancia [[0.25]] a aproximar: [[0.18815009]]\n",
            "Resultado primera iteración: [0.12356613]\n",
            "Resultado segunda iteración: [0.1634791]\n",
            "Resultado tercera iteración: [0.17052257]\n"
          ]
        }
      ]
    },
    {
      "cell_type": "markdown",
      "metadata": {
        "id": "rnHiPKCig976"
      },
      "source": [
        "La siguiente figura representa las predicciones de estos tres árboles en la columna de la izquierda, y el\n",
        "las predicciones del ensemble en la columna derecha. En la primera fila, el conjunto tiene sólo una\n",
        "por lo que sus predicciones son exactamente las mismas que las del primer árbol. En el segundo\n",
        "se entrena un nuevo árbol sobre los errores residuales del primer árbol. A la derecha puedes\n",
        "ver que las predicciones del conjunto son iguales a la suma de las predicciones de los dos primeros árboles. De manera similar, en la tercera fila otro árbol está entrenado en los errores residuales de\n",
        "el segundo árbol. Se puede ver que las predicciones del conjunto mejoran gradualmente a medida que\n",
        "los árboles se añaden al conjunto."
      ]
    },
    {
      "cell_type": "code",
      "metadata": {
        "id": "YaWxUB8NH3Li",
        "colab": {
          "base_uri": "https://localhost:8080/",
          "height": 650
        },
        "outputId": "7fdf3ed0-32f0-4d5c-f2cb-bacff493cbe1"
      },
      "source": [
        "def plot_predictions(regressors, X, y, axes, label=None, style=\"r-\", data_style=\"b.\", data_label=None):\n",
        "    x1 = np.linspace(axes[0], axes[1], 500)\n",
        "    y_pred = sum(regressor.predict(x1.reshape(-1, 1)) for regressor in regressors)\n",
        "    plt.plot(X[:, 0], y, data_style, label=data_label)\n",
        "    plt.plot(x1, y_pred, style, linewidth=2, label=label)\n",
        "    if label or data_label:\n",
        "        plt.legend(loc=\"upper center\", fontsize=16)\n",
        "    plt.axis(axes)\n",
        "\n",
        "plt.figure(figsize=(11,11))\n",
        "\n",
        "plt.subplot(321)\n",
        "plot_predictions([tree_reg1], Xrand, yrand, axes=[-0.5, 0.5, -0.1, 0.8], label=\"$h_1(x_1)$\", style=\"g-\", data_label=\"Conjunto entrenamiento\")\n",
        "plt.ylabel(\"$y$\", fontsize=16, rotation=0)\n",
        "plt.title(\"Residuos y predicciones árbol\", fontsize=16)\n",
        "\n",
        "plt.subplot(322)\n",
        "plot_predictions([tree_reg1], Xrand, yrand, axes=[-0.5, 0.5, -0.1, 0.8], label=\"$h(x_1) = h_1(x_1)$\", data_label=\"Conjunto entrenamiento\")\n",
        "plt.ylabel(\"$y$\", fontsize=16, rotation=0)\n",
        "plt.title(\"Predicciones Ensemble\", fontsize=16)\n",
        "\n",
        "plt.subplot(323)\n",
        "plot_predictions([tree_reg2], Xrand, y2, axes=[-0.5, 0.5, -0.5, 0.5], label=\"$h_2(x_1)$\", style=\"g-\", data_style=\"k+\", data_label=\"Residuos\")\n",
        "plt.ylabel(\"$y - h_1(x_1)$\", fontsize=16)\n",
        "\n",
        "plt.subplot(324)\n",
        "plot_predictions([tree_reg1, tree_reg2], Xrand, yrand, axes=[-0.5, 0.5, -0.1, 0.8], label=\"$h(x_1) = h_1(x_1) + h_2(x_1)$\")\n",
        "plt.ylabel(\"$y$\", fontsize=16, rotation=0)\n",
        "\n",
        "plt.subplot(325)\n",
        "plot_predictions([tree_reg3], Xrand, y3, axes=[-0.5, 0.5, -0.5, 0.5], label=\"$h_3(x_1)$\", style=\"g-\", data_style=\"k+\")\n",
        "plt.ylabel(\"$y - h_1(x_1) - h_2(x_1)$\", fontsize=16)\n",
        "plt.xlabel(\"$x_1$\", fontsize=16)\n",
        "\n",
        "plt.subplot(326)\n",
        "plot_predictions([tree_reg1, tree_reg2, tree_reg3], Xrand, yrand, axes=[-0.5, 0.5, -0.1, 0.8], label=\"$h(x_1) = h_1(x_1) + h_2(x_1) + h_3(x_1)$\")\n",
        "plt.xlabel(\"$x_1$\", fontsize=16)\n",
        "plt.ylabel(\"$y$\", fontsize=16, rotation=0)\n",
        "\n",
        "#save_fig(\"gradient_boosting_plot\")\n",
        "plt.show()"
      ],
      "execution_count": 124,
      "outputs": [
        {
          "output_type": "display_data",
          "data": {
            "image/png": "[encoded data removed]",
            "text/plain": [
              "<Figure size 792x792 with 6 Axes>"
            ]
          },
          "metadata": {
            "needs_background": "light"
          }
        }
      ]
    },
    {
      "cell_type": "markdown",
      "metadata": {
        "id": "1YnG9pFyhM5I"
      },
      "source": [
        "Scikit-Learn tiene implementado la clase GradientBoostingRegressor para entrenar ensembles de GBRT. Al igual que la clase RandomForestRegressor, tiene hiperparámetros para\n",
        "controlar el crecimiento de los Árboles de Decisión (por ejemplo, max_depth),\n",
        "así como hiperparámetros para controlar el entrenamiento del conjunto, como el número de\n",
        "árboles (n_estimators). El ejemplo anterior estaba formado por 3 árboles de decisión de profundidad 2 con una tasa de aprendizaje de 1. Es decir:"
      ]
    },
    {
      "cell_type": "code",
      "metadata": {
        "id": "cKkTPx0cH3Lo",
        "colab": {
          "base_uri": "https://localhost:8080/"
        },
        "outputId": "339d62f2-e301-4662-9c04-2c4de8f697a4"
      },
      "source": [
        "from sklearn.ensemble import GradientBoostingRegressor\n",
        "\n",
        "gbrt = GradientBoostingRegressor(max_depth=2, n_estimators=3, learning_rate=1.0, random_state=42)\n",
        "\n",
        "X_train1, X_test1, y_train1, y_test1 = train_test_split(Xrand, yrand, random_state=49)\n",
        "gbrt.fit(X_train1, y_train1)\n",
        "\n",
        "y_pred_rand = gbrt.predict(X_test1)\n",
        "print(\"RMSE sobre el conjunto de test:\", np.sqrt(mean_squared_error(y_test1, y_pred_rand)))"
      ],
      "execution_count": 125,
      "outputs": [
        {
          "output_type": "stream",
          "name": "stdout",
          "text": [
            "RMSE sobre el conjunto de test: 0.08326959433325538\n"
          ]
        }
      ]
    },
    {
      "cell_type": "markdown",
      "metadata": {
        "id": "2Ab7VtP8sChr"
      },
      "source": [
        "Probamos a añadir más estimadores al ensemble y reducimos el ratio de aprendizaje."
      ]
    },
    {
      "cell_type": "code",
      "metadata": {
        "id": "OlvYLGPOH3Lw",
        "colab": {
          "base_uri": "https://localhost:8080/"
        },
        "outputId": "68f40b87-6115-4248-a079-97669357e7b1"
      },
      "source": [
        "gbrt_slow = GradientBoostingRegressor(max_depth=2, n_estimators=100, learning_rate=0.1, random_state=42)\n",
        "\n",
        "X_train1, X_test1, y_train1, y_test1 = train_test_split(Xrand, yrand, random_state=49)\n",
        "gbrt_slow.fit(X_train1, y_train1)\n",
        "\n",
        "y_pred_rand = gbrt_slow.predict(X_test1)\n",
        "print(\"RMSE sobre el conjunto de test:\", np.sqrt(mean_squared_error(y_test1, y_pred_rand)))"
      ],
      "execution_count": 126,
      "outputs": [
        {
          "output_type": "stream",
          "name": "stdout",
          "text": [
            "RMSE sobre el conjunto de test: 0.05359870742181778\n"
          ]
        }
      ]
    },
    {
      "cell_type": "markdown",
      "metadata": {
        "id": "_2vbzX3piD-9"
      },
      "source": [
        "El hiperparámetro learning_rate escala la contribución de cada árbol. Si ponemos un valor alto como 1, el método aprenderá más rápido, pero tenderá a sobreajustar. Si lo fijas a un valor algo más bajo, como 0.1, se necesitarán más árboles en el ensemble para ajustar el conjunto de entrenamiento, pero las predicciones habitualmente generalizarán mejor. \n",
        "\n",
        "Los siguiente figura contiene dos ensembles GBRT entrenados con un ratio de aprendizaje 1: el de la derecha no tiene suficientes árboles para ajustarse al conjunto de entrenamiento, mientras que el de la derecha tiene demasiados, realizando sobreajuste."
      ]
    },
    {
      "cell_type": "code",
      "metadata": {
        "id": "pKpIiGsFH3L3",
        "colab": {
          "base_uri": "https://localhost:8080/",
          "height": 281
        },
        "outputId": "093de439-b002-4bdf-d0f7-a0f8e442dfb6"
      },
      "source": [
        "plt.figure(figsize=(11,4))\n",
        "\n",
        "plt.subplot(121)\n",
        "plot_predictions([gbrt], Xrand, yrand, axes=[-0.5, 0.5, -0.1, 0.8], label=\"Ensemble predictions\")\n",
        "plt.title(\"learning_rate={}, n_estimators={}\".format(gbrt.learning_rate, gbrt.n_estimators), fontsize=14)\n",
        "\n",
        "plt.subplot(122)\n",
        "plot_predictions([gbrt_slow], Xrand, yrand, axes=[-0.5, 0.5, -0.1, 0.8])\n",
        "plt.title(\"learning_rate={}, n_estimators={}\".format(gbrt_slow.learning_rate, gbrt_slow.n_estimators), fontsize=14)\n",
        "\n",
        "plt.show()"
      ],
      "execution_count": 127,
      "outputs": [
        {
          "output_type": "display_data",
          "data": {
            "image/png": "[encoded data removed]",
            "text/plain": [
              "<Figure size 792x288 with 2 Axes>"
            ]
          },
          "metadata": {
            "needs_background": "light"
          }
        }
      ]
    },
    {
      "cell_type": "markdown",
      "metadata": {
        "id": "dNEub-JhH3L_"
      },
      "source": [
        "## Gradient Boosting con Parada Temprana"
      ]
    },
    {
      "cell_type": "markdown",
      "metadata": {
        "id": "FMjrOsJCiRNt"
      },
      "source": [
        "Para encontrar el número óptimo de árboles, puedes usar la parada temprana (early stopping). Una forma sencilla de implementarlo es utilizar el método staged_predict(): devuelve un iterador sobre las predicciones hechas por el conjunto en cada etapa del entrenamiento\n",
        "(con un árbol, dos árboles, etc.). \n",
        "\n",
        "El siguiente código entrena un conjunto de GBRT con\n",
        "120 árboles, luego mide el error de validación en cada etapa del entrenamiento para encontrar el óptimo\n",
        "número de árboles, y finalmente entrena otro conjunto de GBRT usando el óptimo\n",
        "número de árboles:"
      ]
    },
    {
      "cell_type": "code",
      "metadata": {
        "id": "3ux36qzZH3MA",
        "colab": {
          "base_uri": "https://localhost:8080/"
        },
        "outputId": "09bdfbe0-82ad-47ff-e309-66811cdc58e0"
      },
      "source": [
        "import numpy as np\n",
        "from sklearn.model_selection import train_test_split\n",
        "from sklearn.metrics import mean_squared_error\n",
        "\n",
        "X_train1, X_test1, y_train1, y_test1 = train_test_split(Xrand, yrand, random_state=49)\n",
        "\n",
        "gbrt = GradientBoostingRegressor(max_depth=2, n_estimators=120, random_state=42)\n",
        "gbrt.fit(X_train1, y_train1)\n",
        "\n",
        "errors = [mean_squared_error(y_test1, y_pred1) for y_pred1 in gbrt.staged_predict(X_test1)] # iterador sobre las predicciones hechas por el conjunto en cada etapa del entrenamiento\n",
        "bst_n_estimators = np.argmin(errors) + 1\n",
        "min_error = np.min(errors)\n",
        "\n",
        "gbrt_best = GradientBoostingRegressor(max_depth=2,n_estimators=bst_n_estimators, random_state=42)\n",
        "gbrt_best.fit(X_train1, y_train1)"
      ],
      "execution_count": 128,
      "outputs": [
        {
          "output_type": "execute_result",
          "data": {
            "text/plain": [
              "GradientBoostingRegressor(max_depth=2, n_estimators=56, random_state=42)"
            ]
          },
          "metadata": {},
          "execution_count": 128
        }
      ]
    },
    {
      "cell_type": "code",
      "metadata": {
        "id": "LTVZJzUjH3MK",
        "colab": {
          "base_uri": "https://localhost:8080/",
          "height": 293
        },
        "outputId": "662c337e-c0df-447f-dbaa-ae33feeb3cc9"
      },
      "source": [
        "plt.figure(figsize=(11, 4))\n",
        "\n",
        "plt.subplot(121)\n",
        "plt.plot(errors, \"b.-\")\n",
        "plt.plot([bst_n_estimators, bst_n_estimators], [0, min_error], \"k--\")\n",
        "plt.plot([0, 120], [min_error, min_error], \"k--\")\n",
        "plt.plot(bst_n_estimators, min_error, \"ko\")\n",
        "plt.text(bst_n_estimators, min_error*1.2, \"Minimum\", ha=\"center\", fontsize=14)\n",
        "plt.axis([0, 120, 0, 0.01])\n",
        "plt.xlabel(\"Number of trees\")\n",
        "plt.title(\"Validation error\", fontsize=14)\n",
        "\n",
        "plt.subplot(122)\n",
        "plot_predictions([gbrt_best], Xrand, yrand, axes=[-0.5, 0.5, -0.1, 0.8])\n",
        "plt.title(\"Best model (%d trees)\" % bst_n_estimators, fontsize=14)\n",
        "\n",
        "#save_fig(\"early_stopping_gbrt_plot\")\n",
        "plt.show()"
      ],
      "execution_count": 129,
      "outputs": [
        {
          "output_type": "display_data",
          "data": {
            "image/png": "[encoded data removed]",
            "text/plain": [
              "<Figure size 792x288 with 2 Axes>"
            ]
          },
          "metadata": {
            "needs_background": "light"
          }
        }
      ]
    },
    {
      "cell_type": "markdown",
      "metadata": {
        "id": "IxUGRMkBnXOV"
      },
      "source": [
        "También es posible poner en práctica la detención temprana, deteniendo realmente el entrenamiento temprano\n",
        "(en lugar de entrenar un gran número de árboles primero y luego mirar atrás para encontrar el\n",
        "número óptimo). \n",
        "\n",
        "El siguiente código detiene el entrenamiento cuando el error de validación no\n",
        "mejorar durante cinco iteraciones seguidas:"
      ]
    },
    {
      "cell_type": "code",
      "metadata": {
        "id": "Zj4pwcMwbJNX"
      },
      "source": [
        "gbrt = GradientBoostingRegressor(max_depth=2, random_state=42)\n",
        "\n",
        "min_val_error = float(\"inf\")\n",
        "error_going_up = 0\n",
        "for n_estimators in range(1, 120):\n",
        "    gbrt.n_estimators = n_estimators\n",
        "    gbrt.fit(X_train1, y_train1)\n",
        "    y_pred1 = gbrt.predict(X_test1)\n",
        "    val_error = mean_squared_error(y_test1, y_pred1)\n",
        "    if val_error < min_val_error:\n",
        "        min_val_error = val_error\n",
        "        error_going_up = 0\n",
        "    else:\n",
        "        error_going_up += 1\n",
        "        if error_going_up == 5:\n",
        "            break  # early stopping"
      ],
      "execution_count": 130,
      "outputs": []
    },
    {
      "cell_type": "code",
      "metadata": {
        "id": "WYnuIEfAH3MT",
        "colab": {
          "base_uri": "https://localhost:8080/"
        },
        "outputId": "5b3102b6-778e-4290-c212-25b6826c5e70"
      },
      "source": [
        "print(gbrt.n_estimators)"
      ],
      "execution_count": 131,
      "outputs": [
        {
          "output_type": "stream",
          "name": "stdout",
          "text": [
            "61\n"
          ]
        }
      ]
    },
    {
      "cell_type": "code",
      "metadata": {
        "id": "vkUpkyXBH3MX",
        "colab": {
          "base_uri": "https://localhost:8080/"
        },
        "outputId": "4a567b29-a26f-4167-8167-f4b805045664"
      },
      "source": [
        "print(\"Minimum validation MSE:\", min_val_error)"
      ],
      "execution_count": 132,
      "outputs": [
        {
          "output_type": "stream",
          "name": "stdout",
          "text": [
            "Minimum validation MSE: 0.002712853325235463\n"
          ]
        }
      ]
    },
    {
      "cell_type": "code",
      "source": [
        "gbrt = GradientBoostingRegressor(max_depth=2, n_estimators=120, random_state=42, \n",
        "                                 n_iter_no_change=5)\n",
        "gbrt.fit(X_train1, y_train1)\n",
        "\n",
        "GradientBoostingRegressor(max_depth=2, n_estimators=120, n_iter_no_change=5,\n",
        "                          random_state=42)"
      ],
      "metadata": {
        "colab": {
          "base_uri": "https://localhost:8080/"
        },
        "id": "j_MDpPZm_qkc",
        "outputId": "c918091e-03e3-421d-c9ea-9d41c40c599a"
      },
      "execution_count": 143,
      "outputs": [
        {
          "output_type": "execute_result",
          "data": {
            "text/plain": [
              "GradientBoostingRegressor(max_depth=2, n_estimators=120, n_iter_no_change=5,\n",
              "                          random_state=42)"
            ]
          },
          "metadata": {},
          "execution_count": 143
        }
      ]
    },
    {
      "cell_type": "code",
      "source": [
        "y_pred1 = gbrt.predict"
      ],
      "metadata": {
        "id": "qbUvl1fe_qT7"
      },
      "execution_count": null,
      "outputs": []
    },
    {
      "cell_type": "markdown",
      "metadata": {
        "id": "d-Wgx7qRt0QY"
      },
      "source": [
        "La clase GradientBoostingRegressor también tiene un hiperparámetro subsample que especifica la fracción de las instancias de entrenamiento a ser usadas por cada árbol en la fase de entrenamiento. Por ejemplo, subsample=0.25 especifica que cada árbol se entrena en el 25% de las instacias de entrenamiento seleccionadas aleatoriamente. Esto producirá menor ajuste pero el ensemble será mejor al tratarse de árboles más diferentes. También hará la fase de entrenamiento más rápida. Esta técnica se llama Stochastic Gradient Boosting."
      ]
    },
    {
      "cell_type": "markdown",
      "metadata": {
        "id": "9oC-GiDFUn1q"
      },
      "source": [
        "\n",
        "Si lo utilizamos para clasificación con la base de datos Moons, con 500 árboles y un ratio de aprendizaje de 0.01. "
      ]
    },
    {
      "cell_type": "code",
      "metadata": {
        "id": "ffdlJgp1UjxO",
        "colab": {
          "base_uri": "https://localhost:8080/",
          "height": 345
        },
        "outputId": "29e4ebe0-ad2d-4914-b57c-f40250195449"
      },
      "source": [
        "%%time\n",
        "#from sklearn.model_selection import train_test_split\n",
        "#from sklearn.datasets import make_moons\n",
        "\n",
        "from sklearn.ensemble import GradientBoostingClassifier\n",
        "\n",
        "X, y = make_moons(n_samples=500, noise=0.30, random_state=42)\n",
        "\n",
        "#Generamos el conjunto de test y de entrenamiento que usaremos en esta práctica\n",
        "X_train, X_test, y_train, y_test = train_test_split(X, y, random_state=42)\n",
        "\n",
        "gbrt_Class = GradientBoostingClassifier(max_depth=2, n_estimators=500, subsample=0.25,learning_rate=0.01, random_state=42)\n",
        "gbrt_Class.fit(X_train, y_train)\n",
        "\n",
        "\n",
        "y_pred = gbrt_Class.predict(X_test)\n",
        "print(accuracy_score(y_test, y_pred))\n",
        "plot_decision_boundary(gbrt_Class, X, y)\n"
      ],
      "execution_count": 144,
      "outputs": [
        {
          "output_type": "stream",
          "name": "stdout",
          "text": [
            "0.92\n",
            "CPU times: user 379 ms, sys: 1.46 ms, total: 380 ms\n",
            "Wall time: 381 ms\n"
          ]
        },
        {
          "output_type": "display_data",
          "data": {
            "image/png": "[encoded data removed]",
            "text/plain": [
              "<Figure size 432x288 with 1 Axes>"
            ]
          },
          "metadata": {
            "needs_background": "light"
          }
        }
      ]
    },
    {
      "cell_type": "markdown",
      "metadata": {
        "id": "Dw42-cSYlz3D"
      },
      "source": [
        "Tratando de encontrar el que produce menor error."
      ]
    },
    {
      "cell_type": "code",
      "metadata": {
        "id": "KDyjoTeclx8p",
        "colab": {
          "base_uri": "https://localhost:8080/",
          "height": 327
        },
        "outputId": "ad5c7b83-9f05-4913-8321-cb511de66eea"
      },
      "source": [
        "errors = [mean_squared_error(y_test, y_pred) for y_pred in gbrt_Class.staged_predict(X_test)]\n",
        "bst_n_estimators = np.argmin(errors) + 1\n",
        "\n",
        "gbrt_Class_best = GradientBoostingClassifier(max_depth=2,n_estimators=bst_n_estimators, learning_rate=0.01, random_state=42)\n",
        "gbrt_Class_best.fit(X_train, y_train)\n",
        "y_pred = gbrt_Class_best.predict(X_test)\n",
        "print(accuracy_score(y_test, y_pred))\n",
        "print(bst_n_estimators)\n",
        "plot_decision_boundary(gbrt_Class_best, X, y)"
      ],
      "execution_count": 134,
      "outputs": [
        {
          "output_type": "stream",
          "name": "stdout",
          "text": [
            "0.912\n",
            "260\n"
          ]
        },
        {
          "output_type": "display_data",
          "data": {
            "image/png": "[encoded data removed]",
            "text/plain": [
              "<Figure size 432x288 with 1 Axes>"
            ]
          },
          "metadata": {
            "needs_background": "light"
          }
        }
      ]
    },
    {
      "cell_type": "markdown",
      "metadata": {
        "id": "98WHlFO_pJJA"
      },
      "source": [
        "Nos dice que el óptimo lo alcanza con 260 árboles."
      ]
    },
    {
      "cell_type": "markdown",
      "metadata": {
        "id": "FPXk97ZWk2S3"
      },
      "source": [
        "Con parada temprana"
      ]
    },
    {
      "cell_type": "code",
      "metadata": {
        "id": "mvS6mQ1PkzOR",
        "colab": {
          "base_uri": "https://localhost:8080/"
        },
        "outputId": "449b8151-f398-4455-cae7-7634d74e6567"
      },
      "source": [
        "gbrt_Class = GradientBoostingClassifier(max_depth=2, learning_rate=0.01, subsample=0.25,random_state=42)\n",
        "\n",
        "max_accuracy = 0\n",
        "error_going_up = 0\n",
        "for n_estimators in range(1, 500):\n",
        "    gbrt_Class.n_estimators = n_estimators\n",
        "    gbrt_Class.fit(X_train, y_train)\n",
        "    y_pred = gbrt_Class.predict(X_test)\n",
        "    accur = accuracy_score(y_test, y_pred)\n",
        "    if max_accuracy < accur:\n",
        "        max_accuracy = accur\n",
        "        error_going_up = 0\n",
        "    else:\n",
        "        error_going_up += 1\n",
        "        if error_going_up == 10:\n",
        "            break  # early stopping\n",
        "\n",
        "print(gbrt_Class.n_estimators)\n",
        "print(max_accuracy)"
      ],
      "execution_count": 145,
      "outputs": [
        {
          "output_type": "stream",
          "name": "stdout",
          "text": [
            "23\n",
            "0.92\n"
          ]
        }
      ]
    },
    {
      "cell_type": "markdown",
      "metadata": {
        "id": "Ex6BpNk5pOo1"
      },
      "source": [
        "Ha parado con 12 árboles. Quizá demasiado pronto."
      ]
    },
    {
      "cell_type": "markdown",
      "metadata": {
        "id": "nfldXbkVKnLH"
      },
      "source": [
        "## Ejercicios Gradient boosting"
      ]
    },
    {
      "cell_type": "markdown",
      "metadata": {
        "id": "ZByoeVGmCKWE"
      },
      "source": [
        "EJERCICIO: Sobre la BD Diabetes realiza Gradient boosting. Utiliza 1000 estimadores y ratios de aprendizaje: 0.1, 0.25, 0.5 y 1. ¿Qué RMSE obtienes sobre el conjunto de entrenamiento en los cuatro métodos? ¿Y sobre el conjunto de test?¿Mejora los resultados con respecto al AdaBoosting?"
      ]
    },
    {
      "cell_type": "code",
      "metadata": {
        "id": "xpT5U07ECMFx",
        "colab": {
          "base_uri": "https://localhost:8080/"
        },
        "outputId": "3960f6e3-ba40-415f-d762-c44b7b47ae9f"
      },
      "source": [
        "%%time\n",
        "\n",
        "from sklearn.ensemble import GradientBoostingRegressor\n",
        "\n",
        "# Solución\n",
        "for r in [0.1, 0.25, 0.5, 1]:\n",
        "  gbrt = GradientBoostingRegressor(n_estimators=200, learning_rate=r, random_state=42)\n",
        "  gbrt.fit(X_train_diabetes, y_train_diabetes)\n",
        "\n",
        "  y_train_ada_rg=ada_rg.predict(X_train_diabetes)\n",
        "  print(\"RMSE sobre el conjunto de entrenamiento con ratio de aprendizaje\", r, \":\", \n",
        "      np.sqrt(mean_squared_error(y_train_diabetes, y_train_ada_rg)))\n",
        "  y_pred_diabetes = ada_rg.predict(X_train_diabetes)\n",
        "  print(\"RMSE sobre el conjunto de entrenamiento con ratio de aprendizaje\", r, \":\", \n",
        "      np.sqrt(mean_squared_error(y_train_diabetes, y_pred_diabetes)))"
      ],
      "execution_count": 146,
      "outputs": [
        {
          "output_type": "stream",
          "name": "stdout",
          "text": [
            "RMSE sobre el conjunto de entrenamiento con ratio de aprendizaje 0.1 : 2.2750027239033597\n",
            "RMSE sobre el conjunto de entrenamiento con ratio de aprendizaje 0.1 : 2.2750027239033597\n",
            "RMSE sobre el conjunto de entrenamiento con ratio de aprendizaje 0.25 : 2.2750027239033597\n",
            "RMSE sobre el conjunto de entrenamiento con ratio de aprendizaje 0.25 : 2.2750027239033597\n",
            "RMSE sobre el conjunto de entrenamiento con ratio de aprendizaje 0.5 : 2.2750027239033597\n",
            "RMSE sobre el conjunto de entrenamiento con ratio de aprendizaje 0.5 : 2.2750027239033597\n",
            "RMSE sobre el conjunto de entrenamiento con ratio de aprendizaje 1 : 2.2750027239033597\n",
            "RMSE sobre el conjunto de entrenamiento con ratio de aprendizaje 1 : 2.2750027239033597\n",
            "CPU times: user 2.09 s, sys: 12.6 ms, total: 2.1 s\n",
            "Wall time: 2.1 s\n"
          ]
        }
      ]
    },
    {
      "cell_type": "markdown",
      "metadata": {
        "id": "HFqVjiT79w2M"
      },
      "source": [
        "EJERCICIO (Opcional): Incorpora al método anterior parada temprana. Explica la influencia que tiene para cada ratio de aprendizaje en la reducción de pasos de entrenamiento y en el RMSE del modelo."
      ]
    },
    {
      "cell_type": "code",
      "metadata": {
        "id": "SlZoCBeg9wLR"
      },
      "source": [
        "# Solución\n"
      ],
      "execution_count": 137,
      "outputs": []
    },
    {
      "cell_type": "markdown",
      "metadata": {
        "id": "hB400PAWH3Mb"
      },
      "source": [
        "## XGBoost"
      ]
    },
    {
      "cell_type": "markdown",
      "metadata": {
        "id": "MgWj9aeguAW4"
      },
      "source": [
        "Una implementación optimizada de Extreme Gradient Boosting está disponible en la popular biblioteca de python XGBoost. Este paquete fue desarrollado por Tianqi Chen y Carlos Guestrin ([publicado](https://arxiv.org/abs/1603.02754) en 2016), y su objetivo es ser extremadamente rápido, escalable y portátil. De hecho, XGBoost es a menudo un componente importante de las entradas ganadoras en las competiciones de ML. La API de XGBoost es bastante similar a la de Scikit-Learn:\n"
      ]
    },
    {
      "cell_type": "code",
      "metadata": {
        "id": "WHcyvu3hH3Me"
      },
      "source": [
        "import xgboost"
      ],
      "execution_count": 138,
      "outputs": []
    },
    {
      "cell_type": "markdown",
      "metadata": {
        "id": "KMXettQ3jyUg"
      },
      "source": [
        "Probamos de nuevo sobre el conjunto de entrenamiento aleatorio cuadrático."
      ]
    },
    {
      "cell_type": "code",
      "metadata": {
        "id": "Sa6x4YzqH3Mh",
        "colab": {
          "base_uri": "https://localhost:8080/"
        },
        "outputId": "a8e32325-63a4-440a-9130-1d64b33d9054"
      },
      "source": [
        "np.random.seed(42)\n",
        "Xrand = np.random.rand(100, 1) - 0.5\n",
        "yrand = 3*Xrand[:, 0]**2 + 0.05 * np.random.randn(100)\n",
        "\n",
        "X_train1, X_test1, y_train1, y_test1 = train_test_split(Xrand, yrand, random_state=49)\n",
        "\n",
        "xgb_reg = xgboost.XGBRegressor(n_estimators=100, learning_rate=0.1,  random_state=42)\n",
        "xgb_reg.fit(X_train1, y_train1)\n",
        "    \n",
        "y_pred = xgb_reg.predict(X_test1)\n",
        "val_error = mean_squared_error(y_test1, y_pred)\n",
        "print(\"Validation MSE:\", val_error)"
      ],
      "execution_count": 139,
      "outputs": [
        {
          "output_type": "stream",
          "name": "stdout",
          "text": [
            "[19:27:17] WARNING: /workspace/src/objective/regression_obj.cu:152: reg:linear is now deprecated in favor of reg:squarederror.\n",
            "Validation MSE: 0.0028512559726563943\n"
          ]
        }
      ]
    },
    {
      "cell_type": "markdown",
      "metadata": {
        "id": "iKTIVE9uUbwB"
      },
      "source": [
        "Recuperamos de nuevo el conjunto moons"
      ]
    },
    {
      "cell_type": "code",
      "metadata": {
        "id": "-bTGm9lxnjiV",
        "colab": {
          "base_uri": "https://localhost:8080/",
          "height": 345
        },
        "outputId": "6a503b93-2273-4291-f47f-0b106071a6b7"
      },
      "source": [
        "%%time\n",
        "from sklearn.model_selection import train_test_split\n",
        "from sklearn.datasets import make_moons\n",
        "\n",
        "X, y = make_moons(n_samples=500, noise=0.30, random_state=42)\n",
        "\n",
        "#Generamos el conjunto de test y de entrenamiento que usaremos en esta práctica\n",
        "X_train, X_test, y_train, y_test = train_test_split(X, y, random_state=42)\n",
        "\n",
        "xgb_class = xgboost.XGBClassifier(max_depth=2, n_estimators=500, learning_rate=0.01, random_state=42)\n",
        "xgb_class.fit(X_train, y_train)\n",
        "\n",
        "y_pred = xgb_class.predict(X_test)\n",
        "print(accuracy_score(y_test, y_pred))\n",
        "plot_decision_boundary(xgb_class, X, y)\n"
      ],
      "execution_count": 140,
      "outputs": [
        {
          "output_type": "stream",
          "name": "stdout",
          "text": [
            "0.912\n",
            "CPU times: user 185 ms, sys: 612 µs, total: 186 ms\n",
            "Wall time: 191 ms\n"
          ]
        },
        {
          "output_type": "display_data",
          "data": {
            "image/png": "[encoded data removed]",
            "text/plain": [
              "<Figure size 432x288 with 1 Axes>"
            ]
          },
          "metadata": {
            "needs_background": "light"
          }
        }
      ]
    },
    {
      "cell_type": "markdown",
      "metadata": {
        "id": "z-hyxx8wooay"
      },
      "source": [
        "Se puede observar que es casi el doble de rápido que el método anterior."
      ]
    },
    {
      "cell_type": "markdown",
      "metadata": {
        "id": "vc836_FtKrhV"
      },
      "source": [
        "## Ejercicio XGBoost"
      ]
    },
    {
      "cell_type": "markdown",
      "metadata": {
        "id": "gug_rBupJa4U"
      },
      "source": [
        "EJERCICIO: Sobre la BD Diabetes realiza Extreme Gradient boosting. Utiliza 1000 estimadores y ratio de aprendizaje: 0.1, 0.25, 0.5 y 1. ¿Qué RMSE obtienes sobre el conjunto de entrenamiento en los cuatro métodos? ¿Y sobre el conjunto de test?¿Mejora los resultados con respecto al Gradient boosting? ¿Se reduce el tiempo de ejecución?"
      ]
    },
    {
      "cell_type": "code",
      "metadata": {
        "id": "_iWhJgqdDq80"
      },
      "source": [
        "# Solución\n"
      ],
      "execution_count": 141,
      "outputs": []
    },
    {
      "cell_type": "markdown",
      "metadata": {
        "id": "pQ8gbUiJzeLY"
      },
      "source": [
        "# Stacking"
      ]
    },
    {
      "cell_type": "markdown",
      "metadata": {
        "id": "JRWk1HWLzeLc"
      },
      "source": [
        "Vamos a utilizar los clasificadores individuales que definíamos (un árbol de decisión, una regresión logística y un SVM) al comienzo de la práctica para crear un primer nivel de clasificadores. \n",
        "\n",
        "Los resultados de estos clasificadores servirán como conjunto de entrenamiento a otro clasificador en un segundo nivel para hacer predicciones (blender). "
      ]
    },
    {
      "cell_type": "code",
      "metadata": {
        "id": "yV6ldCzPzeLZ"
      },
      "source": [
        "from sklearn.ensemble import StackingClassifier\n",
        "\n",
        "from sklearn.tree import DecisionTreeClassifier\n",
        "from sklearn.linear_model import LogisticRegression\n",
        "from sklearn.svm import SVC\n",
        "from sklearn.naive_bayes import GaussianNB\n",
        "\n",
        "# get a stacking ensemble of models\n",
        "\n",
        "level0 = list()\n",
        "level0.append(('log_clf', LogisticRegression(solver=\"liblinear\", random_state=42)))\n",
        "level0.append(('svm_clf', SVC(gamma=\"auto\", probability=True, random_state=42)))\n",
        "level0.append(('dt_clf', DecisionTreeClassifier(random_state=42)))\n",
        "level0.append(('nb_clf', GaussianNB()))\n",
        "\n",
        "# define meta learner model\n",
        "level1 = LogisticRegression()\n",
        "\n",
        "# define the stacking ensemble\n",
        "model_stack = StackingClassifier(estimators=level0, final_estimator=level1, cv=5)\n",
        "\n",
        "model_stack.fit(X_train, y_train)\n",
        "\n",
        "y_pred = model_stack.predict(X_test)\n",
        "print(accuracy_score(y_test, y_pred))\n",
        "plot_decision_boundary(model_stack, X, y)"
      ],
      "execution_count": null,
      "outputs": []
    },
    {
      "cell_type": "markdown",
      "metadata": {
        "id": "HN5Q8_LrpHv7"
      },
      "source": [
        "El blender entrenado y los clasificadores previos forman el stacking ensemble."
      ]
    },
    {
      "cell_type": "markdown",
      "metadata": {
        "id": "eJ3G9e4eH3M3"
      },
      "source": [
        "## Ejercicios Stacking"
      ]
    },
    {
      "cell_type": "markdown",
      "metadata": {
        "id": "RfSrmeKyJmGx"
      },
      "source": [
        "EJERCICIO. Define stacking para la base de datos Diabetes. \n",
        "Puedes usar los modelos que definiamos al comienzo\n",
        "de la práctica (regresión lineal, árbol de deción y SVM) para crear un primer nivel de clasificadores. Para el segundo nivel utiliza una regresión lineal. ¿Qué RMSE obtienes sobre el conjunto de entrenamiento? ¿Y sobre el conjunto de test? ¿Mejora los resultados?"
      ]
    },
    {
      "cell_type": "code",
      "metadata": {
        "id": "mYivLn0SJoVO"
      },
      "source": [
        "# Solución"
      ],
      "execution_count": null,
      "outputs": []
    },
    {
      "cell_type": "markdown",
      "metadata": {
        "id": "B0HsiQKqpHv7"
      },
      "source": [
        "EJERCICIO (Opcional): Pruba a elegir otros hiperparámetros para este blender o elegir otro tipo de modelos en primer nivel o de blenders (por ejemplo, un `MLPRegressor`). ¿Qué RMSE obtienes sobre el conjunto de entrenamiento? ¿Y sobre el conjunto de test?¿Mejora los resultados?"
      ]
    },
    {
      "cell_type": "code",
      "metadata": {
        "id": "6W9Ba5q4xTqL"
      },
      "source": [
        "# Solución"
      ],
      "execution_count": null,
      "outputs": []
    }
  ]
}