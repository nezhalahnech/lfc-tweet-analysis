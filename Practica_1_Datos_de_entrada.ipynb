{
  "nbformat": 4,
  "nbformat_minor": 0,
  "metadata": {
    "colab": {
      "name": "Copia de Practica 1: Datos de entrada.ipynb",
      "provenance": [],
      "include_colab_link": true
    },
    "kernelspec": {
      "name": "python3",
      "display_name": "Python 3"
    }
  },
  "cells": [
    {
      "cell_type": "markdown",
      "metadata": {
        "id": "view-in-github",
        "colab_type": "text"
      },
      "source": [
        "<a href=\"https://colab.research.google.com/github/nezhalahnech/lfc-tweet-analysis/blob/master/Practica_1_Datos_de_entrada.ipynb\" target=\"_parent\"><img src=\"https://colab.research.google.com/assets/colab-badge.svg\" alt=\"Open In Colab\"/></a>"
      ]
    },
    {
      "cell_type": "markdown",
      "metadata": {
        "id": "92ZKt16ylghk"
      },
      "source": [
        "#Práctica 1: Datos de entrada"
      ]
    },
    {
      "cell_type": "markdown",
      "metadata": {
        "id": "UHJZiM8Cmm7r"
      },
      "source": [
        "##Datos balanceados y no balanceados"
      ]
    },
    {
      "cell_type": "markdown",
      "metadata": {
        "id": "ZTM3jF9Flo3N"
      },
      "source": [
        "#### Conjunto de datos ¿balanceado?"
      ]
    },
    {
      "cell_type": "markdown",
      "metadata": {
        "id": "wIzIQ3tmYVUM"
      },
      "source": [
        "source: https://elitedatascience.com/imbalanced-classes"
      ]
    },
    {
      "cell_type": "markdown",
      "metadata": {
        "id": "DSxSjTKOefJ1"
      },
      "source": [
        "Vamos a usar como entrada el conjunto de datos que se encuentra en la siguiente URL \"http://archive.ics.uci.edu/ml/machine-learning-databases/balance-scale/balance-scale.data\", son unos datos sintéticos y los vamos a usar para entender que ocurre cuando los datos se encuentran balanceados o no.\n",
        "\n",
        "Las variables 1,2,3 y 4 son numéricas y cada instancia ha sido clasificada de la siguiente manera \n",
        "*   si var1\\*var2=var3\\*var4 entonces se clasifica como B, \n",
        "*   si var1\\*var2 > var3\\*var4 entonces se clasifica como L\n",
        "*   si var1\\*var2 < var3\\*var4 entonces se clasifica como R\n",
        "\n"
      ]
    },
    {
      "cell_type": "markdown",
      "metadata": {
        "id": "hEheIF9zekfO"
      },
      "source": [
        "Cargamos las librerías que vamos a utilizar:"
      ]
    },
    {
      "cell_type": "code",
      "metadata": {
        "id": "nkjkvQ7HeBsW"
      },
      "source": [
        "import pandas as pd\n",
        "import numpy as np"
      ],
      "execution_count": null,
      "outputs": []
    },
    {
      "cell_type": "markdown",
      "metadata": {
        "id": "3kx0XEkIetkJ"
      },
      "source": [
        "Leemos los datos y mostramos los 5 primeros valores"
      ]
    },
    {
      "cell_type": "code",
      "metadata": {
        "id": "uiMQFyMbO76H"
      },
      "source": [
        "# Leer dataset\n",
        "url = \"http://archive.ics.uci.edu/ml/machine-learning-databases/balance-scale/balance-scale.data\"\n",
        "df = pd.read_csv(url, sep=\",\", \n",
        "                 names=['balance', 'var1', 'var2', 'var3', 'var4'])\n",
        " \n",
        "# Mostrar las n primeras filas del dataset\n",
        "df.head(5)"
      ],
      "execution_count": null,
      "outputs": []
    },
    {
      "cell_type": "markdown",
      "metadata": {
        "id": "FHOLCbSrYxbR"
      },
      "source": [
        "Vemos cuantas instancias hay de cada clase:"
      ]
    },
    {
      "cell_type": "code",
      "metadata": {
        "id": "fZ42IUViYxjj"
      },
      "source": [
        "df['balance'].value_counts()"
      ],
      "execution_count": null,
      "outputs": []
    },
    {
      "cell_type": "markdown",
      "metadata": {
        "id": "LmqLILjof8wP"
      },
      "source": [
        "Vemos que hay dos clases con el mismo número de datos (R y L) y otra que no (B). Para simplificar en este ejemplo vamos a convertir este problema, en un problema de clasificación binaria.\n",
        "\n",
        "Para ello vamos a re-etiquetar las instancias de la siguiente manera:\n",
        "- las observaciones que son R y L serán etiquetadas como 0 (clase negativa)\n",
        "- al resto de observaciones, las que están clasificadas como B, las re-etiquetaremos como 1 (clase positiva)."
      ]
    },
    {
      "cell_type": "code",
      "metadata": {
        "id": "HCdeZpbpZGem"
      },
      "source": [
        "# Transformación del dataset a un conjunto binario\n",
        "df['balance'] = [1 if b=='B' else 0 for b in df.balance]\n",
        "\n",
        "# Mostrar el número de instancias para cada valor de la clase\n",
        "df['balance'].value_counts()"
      ],
      "execution_count": null,
      "outputs": []
    },
    {
      "cell_type": "markdown",
      "metadata": {
        "id": "GGJfAXcMg-31"
      },
      "source": [
        "Como podemos ver, el 92% de la muestra es de la clase 0, esto quiere decir, que si **siempre** tuviéramos que predecir la clase 0, tendríamos un acierto del 92%.\n",
        "\n",
        "El problema surge que nosotros no vamos a querer clasificar siempre una misma clase."
      ]
    },
    {
      "cell_type": "markdown",
      "metadata": {
        "id": "RHLobOFjh16H"
      },
      "source": [
        "Veamos como afecta un conjunto de datos balanceado o no a la solución de un problema.\n",
        "\n",
        "Para ello vamos a usar el algoritmo de Regresión Logística (se explicará con detenimiento más adelante) y la métrica de exactitud (o *accuracy*), ambos de la librería Scikit-Learn."
      ]
    },
    {
      "cell_type": "code",
      "metadata": {
        "id": "fU7SvGuEZc0w"
      },
      "source": [
        "#importamos las librerías correspondientes al algoritmo y la métrica\n",
        "from sklearn.linear_model import LogisticRegression\n",
        "from sklearn.metrics import accuracy_score\n",
        "from sklearn.neighbors import KNeighborsClassifier"
      ],
      "execution_count": null,
      "outputs": []
    },
    {
      "cell_type": "markdown",
      "metadata": {
        "id": "D3YLXaHhZnq9"
      },
      "source": [
        "A la hora de usar el algoritmo de Regresión Logística (que no nos engañe el nombre, es un algoritmo de clasificación), vamos a usarlo con los parámetros que vienen por defecto, ya que nuestra intención ahora es ver la diferencia entre datos balanceados y sin balancear."
      ]
    },
    {
      "cell_type": "markdown",
      "metadata": {
        "id": "_3RzhshYjZ_Z"
      },
      "source": [
        "Más adelante trabajaremos sobre como separar los datos para entrenar, testear y validar, en este punto vamos a entrenar y testear con todo el conjunto de datos."
      ]
    },
    {
      "cell_type": "code",
      "metadata": {
        "id": "OopDjzEdZnVN"
      },
      "source": [
        "# Separamos las características (X) y la variable objetivo (y)\n",
        "y = df.balance\n",
        "X = df.drop('balance', axis=1)\n",
        " \n",
        "# Entrenamos el modelo\n",
        "model_lr = LogisticRegression().fit(X, y)\n",
        "model_knn=KNeighborsClassifier().fit(X,y)\n",
        " \n",
        "# Predecimos sobre el conjunto de entreanmiento\n",
        "pred_y_lr = model_lr.predict(X)\n",
        "pred_y_knn=model_knn.predict(X)"
      ],
      "execution_count": null,
      "outputs": []
    },
    {
      "cell_type": "markdown",
      "metadata": {
        "id": "2IQhbeDRZyzj"
      },
      "source": [
        "Muchos algoritmos están diseñados para maximizar la exactitud (*accuracy*) por defecto:"
      ]
    },
    {
      "cell_type": "code",
      "metadata": {
        "id": "8MXI1yoWZ6Yi"
      },
      "source": [
        "#¿Cómo es la accuracy?\n",
        "print( accuracy_score(pred_y_lr, y) )\n",
        "print( accuracy_score(pred_y_knn, y) )"
      ],
      "execution_count": null,
      "outputs": []
    },
    {
      "cell_type": "markdown",
      "metadata": {
        "id": "uL0a9GrrZ_PM"
      },
      "source": [
        "Confirmamos así que el acierto de nuestro modelo es del 92% pero, ¿ocurre esto por qué sólo está prediciendo una clase?"
      ]
    },
    {
      "cell_type": "code",
      "metadata": {
        "id": "a2uVyxqwaADS"
      },
      "source": [
        "# Mostramos los valores predichos (una vez cada valor)\n",
        "print( np.unique( pred_y_lr ) )"
      ],
      "execution_count": null,
      "outputs": []
    },
    {
      "cell_type": "markdown",
      "metadata": {
        "id": "eosWh51XaHPh"
      },
      "source": [
        "De esta manera, comprobamos que este modelo sólo está prediciendo la clase 0, lo que significa que está ignorando la clase minoritaria a favor de la clase mayoritaria. "
      ]
    },
    {
      "cell_type": "markdown",
      "metadata": {
        "id": "P7iMQ1jqlh5j"
      },
      "source": [
        "EJERCICIO: comprueba si el modelo knn predice sólo una clase o por el contrario predice de las dos."
      ]
    },
    {
      "cell_type": "markdown",
      "metadata": {
        "id": "_5RHN5pjltOz"
      },
      "source": [
        "Veamos dos técnicas para equilibrar esto:"
      ]
    },
    {
      "cell_type": "markdown",
      "metadata": {
        "id": "32KjwshOeZQX"
      },
      "source": [
        "##Remuestreo Aleatorio"
      ]
    },
    {
      "cell_type": "markdown",
      "metadata": {
        "id": "wh0HNA1saK1J"
      },
      "source": [
        "####1. Aumentar la muestra de la clase minoritaria "
      ]
    },
    {
      "cell_type": "markdown",
      "metadata": {
        "id": "7fW7yzIxaNI3"
      },
      "source": [
        "El proceso de aumentar la muestra consiste en duplicar aleatoriamente las observaciones de la clase minoritaria para reforzar su señal.\n",
        "\n",
        "Existen varias heurísticas para hacerlo, pero la forma más común es simplemente volver a muestrear con reemplazo.\n",
        "\n",
        "Veamos como podemos hacerlo, pero primero cargamos el modulo *resample* de Scikit-Learn que vamos a usar:"
      ]
    },
    {
      "cell_type": "code",
      "metadata": {
        "id": "FUnQeUEAaBQE"
      },
      "source": [
        "from sklearn.utils import resample"
      ],
      "execution_count": null,
      "outputs": []
    },
    {
      "cell_type": "markdown",
      "metadata": {
        "id": "oWzPuRypm2br"
      },
      "source": [
        "El primer paso es crear un nuevo *DataFrame* con el nuevo conjunto de datos para la clase minoritaria. Para ello:\n",
        "1. Separamos las instancias en grupos, un grupo por cada una de las clases que hay.\n",
        "2. Re-muestreamos la clase minoritaria usando remplazamineto, y obteniendo el mismo número de muestras que la clase mayoritaria.\n",
        "3. Finalmente, combinaremos en un nuevo *DataFrame* el nuevo grupo de datos de la clase que era minoritaria y el grupo original de la clase mayoritaria.\n",
        "Para nuestro ejemplo, el código sería el siguiente:"
      ]
    },
    {
      "cell_type": "code",
      "metadata": {
        "id": "7w8mTKpEaUfz"
      },
      "source": [
        "# Separar las clases mayoritaria y minoritaria\n",
        "df_majority = df[df.balance==0]\n",
        "df_minority = df[df.balance==1]\n",
        " \n",
        "# Aumentar la muestra de la clase minoritaria\n",
        "df_minority_upsampled = resample(df_minority, \n",
        "                                 replace=True,     # muestra con remplazamiento\n",
        "                                 n_samples=576,    # número de muestras de la clase mayoritaria\n",
        "                                 random_state=123) # semilla para que los resultados sean reproducibles\n",
        " \n",
        "# Combinar el nuevo grupo con el grupo original mayoritario\n",
        "df_upsampled = pd.concat([df_majority, df_minority_upsampled])\n",
        " \n",
        "# Mostrar el número de instancias en cada clase\n",
        "df_upsampled.balance.value_counts()"
      ],
      "execution_count": null,
      "outputs": []
    },
    {
      "cell_type": "markdown",
      "metadata": {
        "id": "am_nSAZqab93"
      },
      "source": [
        "Como podemos ver, el nuevo *DataFrame* tiene más instancias que el original y ahora, el ratio entre las dos clases es de 1:1.\n",
        "\n",
        "Ahora, usando este conjunto de datos balanceado, vamos a entrenar un modelo de regresión logística."
      ]
    },
    {
      "cell_type": "code",
      "metadata": {
        "id": "fBlzSU-_aajW"
      },
      "source": [
        "# Separar las características (X) y la variable objetivo o clase (y)\n",
        "y = df_upsampled.balance\n",
        "X = df_upsampled.drop('balance', axis=1)\n",
        " \n",
        "# Entrenar el modelo\n",
        "model_lr = LogisticRegression().fit(X, y)\n",
        " \n",
        "# Predecir en el conjunto de entrenamiento\n",
        "pred_y_lr = model_lr.predict(X)\n",
        " \n",
        "# Comprobamos cuáles y cuántas clases predice nuestro modelo\n",
        "print( np.unique( pred_y_lr ) )\n"
      ],
      "execution_count": null,
      "outputs": []
    },
    {
      "cell_type": "code",
      "metadata": {
        "id": "QsvoE3GscVYn"
      },
      "source": [
        "# ¿qué accuracy tenemos ahora?\n",
        "print( accuracy_score(y, pred_y_lr) )"
      ],
      "execution_count": null,
      "outputs": []
    },
    {
      "cell_type": "markdown",
      "metadata": {
        "id": "lxfl0YBQapX9"
      },
      "source": [
        "Observamos que ahora nuestro modelo no predice sólo una clase, sin embargo es cierto que la *accuracy* ha disminuido.Pero tenemos que tener en cuenta que este valor es más significativo com métrica de lo que está sucediendo, de cuál es el rendimiento del modelo."
      ]
    },
    {
      "cell_type": "markdown",
      "metadata": {
        "id": "89g9YXBVat_c"
      },
      "source": [
        "####2. Disminuir la muestra de la clase mayoritaria"
      ]
    },
    {
      "cell_type": "markdown",
      "metadata": {
        "id": "6MxwMShca38M"
      },
      "source": [
        "Disminuir el número de instancias de la clase mayoritaria implica la eliminación aleatoria de observaciones para evitar que su señal domine el algoritmo de aprendizaje.\n",
        "\n",
        "La heurística más común para hacerlo es el remuestreo sin reemplazo.\n",
        "\n",
        "El proceso es similar al de muestreo visto anteriormente:\n",
        "\n",
        "1. Separamos las instancias de cada clase en diferentes *DataFrame*.\n",
        "2. Volvemos a muestrear la clase mayoritaria, esta vez sin remplazo y estableciendo el número de muestras para que coincida con el de la clase minoritaria.\n",
        "3. Finalmente, combinaremos el nuevo *DataFrame* de la clase mayoritaria con el *DataFrame* original de la clase minoritaria."
      ]
    },
    {
      "cell_type": "code",
      "metadata": {
        "id": "bXdGPRyKa7Ma"
      },
      "source": [
        "# Separar las clases en diferentes DataFrame\n",
        "df_majority = df[df.balance==0]\n",
        "df_minority = df[df.balance==1]\n",
        " \n",
        "# Disminuir la clase mayoritaria\n",
        "df_majority_downsampled = resample(df_majority, \n",
        "                                 replace=False,    # muestra sin remplazamiento\n",
        "                                 n_samples=49,     # número de muestras de la clase minoritaria\n",
        "                                 random_state=123) # semilla para que los datos sean reproducibles\n",
        " \n",
        "# Combinar el nuevo grupo con el grupo original minoritario\n",
        "df_downsampled = pd.concat([df_majority_downsampled, df_minority])\n",
        " \n",
        "# Mostrar el número de instancias en cada clase\n",
        "df_downsampled.balance.value_counts()"
      ],
      "execution_count": null,
      "outputs": []
    },
    {
      "cell_type": "markdown",
      "metadata": {
        "id": "jtwBJJ5NcKPQ"
      },
      "source": [
        "Esta vez, el nuevo *DataFrame* ha disminuido el número de instancias con respecto a su original, y el ratio entre las dos clases, vuelve a ser de 1:1.\n",
        "\n",
        "Veamos ahora que ocurre si entrenamos con el algoritmo de regresión logística."
      ]
    },
    {
      "cell_type": "code",
      "metadata": {
        "id": "kN9ruFuLcN27"
      },
      "source": [
        "# Separar las características (X) y la variable objetivo o clase (y)\n",
        "y = df_downsampled.balance\n",
        "X = df_downsampled.drop('balance', axis=1)\n",
        " \n",
        "# Entrenar el modelo\n",
        "clf_2 = LogisticRegression().fit(X, y)\n",
        " \n",
        "# Predecir en el conjunto de entrenamiento\n",
        "pred_y_2 = clf_2.predict(X)\n",
        " \n",
        "# Comprobamos cuáles y cuántas clases predice nuestro modelo\n",
        "print( np.unique( pred_y_2 ) )"
      ],
      "execution_count": null,
      "outputs": []
    },
    {
      "cell_type": "code",
      "metadata": {
        "id": "R8uPpvqHcYb_"
      },
      "source": [
        "# ¿qué accuracy tenemos ahora?\n",
        "print( accuracy_score(y, pred_y_2) )"
      ],
      "execution_count": null,
      "outputs": []
    },
    {
      "cell_type": "markdown",
      "metadata": {
        "id": "WNxcnYSKcmPk"
      },
      "source": [
        "Con esta técnica hemos vuelto a evitar que el modelo prediga sólo una clase y además parece que la *accuracy* es más alta.The model isn't predicting just one class, and the accuracy seems higher.\n",
        "\n",
        "Todavía nos quedaría validar el modelo sobre unos datos que no hayan sido usados en el entrenamiento."
      ]
    },
    {
      "cell_type": "markdown",
      "metadata": {
        "id": "KS5MTDVmeLnc"
      },
      "source": [
        "Veamos ahora otra técnica para balancear nuestras muestras."
      ]
    },
    {
      "cell_type": "markdown",
      "metadata": {
        "id": "Kx6SzDY_eUqF"
      },
      "source": [
        ""
      ]
    },
    {
      "cell_type": "markdown",
      "metadata": {
        "id": "YBaaowWTsEh5"
      },
      "source": [
        "####3. Combinar ambas técnicas: aumentar y disminuir muestras"
      ]
    },
    {
      "cell_type": "markdown",
      "metadata": {
        "id": "gDg-0uu_tOer"
      },
      "source": [
        "EJERCICIO: La clase mayoritaria tiene en nuestro ejemplo 576 instancias y la clase minoritaria 49, vamos a balancear el conjunto de datos aumentando la clase minoritaria y disminuyendo la clase mayoritaria a 312 muestras. Elegimos este número de instancias porque de esta manera hacemos que el número de muestras que se generan y que se eliminan en cada clase es el mismo.\n",
        "\n",
        "Comprueba que accuracy saldría si usamos el mismo método de entrenamiento que en los casos individuales."
      ]
    },
    {
      "cell_type": "markdown",
      "metadata": {
        "id": "lTwH_Oqqu2zB"
      },
      "source": [
        "EJERCICO: Visto que ocurre aplicando cada técnica por separado y combinándolas ¿qué número de muestra crees que será una mejor elección para nuestro ejemplo?\n",
        "- aquella que requiera que el número de muestras de oversampling sea mayor (400 instancias)\n",
        "- o aquella que requiera que el número de muestras de oversampling sea menor (100 instancias)\n",
        "\n",
        "Probar si nuestra hipótesis es cierta para este ejemplo. ¿qué ocurre?"
      ]
    },
    {
      "cell_type": "markdown",
      "metadata": {
        "id": "USWb_513v58_"
      },
      "source": [
        "EJERCICIO OPCIONAL: existe otra librería que incluye estos métodos de balanceo de datos *imblearn* y los métodos se definen como *RandomOverSampling* y *RandomUnderSampling*. Lee como se usa y prueba a usarlos como hemos hecho con los métodos de la librería Scikit-Learn (oversampling, undersampling, y combinado).\n"
      ]
    },
    {
      "cell_type": "markdown",
      "metadata": {
        "id": "lT7a8R3nefo9"
      },
      "source": [
        "### SMOTE: Synthetic Minority Oversampling TEchnique"
      ]
    },
    {
      "cell_type": "markdown",
      "metadata": {
        "id": "37FkAUMgeov6"
      },
      "source": [
        "Como hemos visto una manera de solucionar el problema de que una clase tenga menos muestras que otra, es duplicar las instancias de la clase minoritaria en el conjunto de entrenamiento. Así obtenemos un conjunto balanceado pero esta solución no proporciona información adicional al modelo.\n",
        "\n",
        "Si en lugar de duplicar las instancias de la clase minoritaria *sintetizamos* (creamos de manera artificial) nuevas instancias que pertenezcan a esta muestra."
      ]
    },
    {
      "cell_type": "markdown",
      "metadata": {
        "id": "DtxeHpVlgS5u"
      },
      "source": [
        "Quizás una de las técnicas más usadas es la que se denomina **Synthetic Minority Oversampling TEchnique** (SMOTE). Esta técnica fue descrita por Nitesh Chawla et al. en 2002 en el artículo \"[SMOTE: Synthetic Minority Oversampñling Technique](https://arxiv.org/abs/1106.1813)\"."
      ]
    },
    {
      "cell_type": "markdown",
      "metadata": {
        "id": "FJKmdwyUgm6U"
      },
      "source": [
        "SMOTE funciona seleccionando ejemplos cercanos en el espacio de características, dibujando una línea entre los ejemplos en el espacio de características y dibujando una nueva muestra en un punto a lo largo de esa línea.\n",
        "\n",
        "Específicamente, primero se elige un ejemplo aleatorio de la clase minoritaria. Entonces se encuentran k de los vecinos más cercanos para ese ejemplo (típicamente k = 5). Se elige un vecino seleccionado al azar y se crea un ejemplo sintético en un punto seleccionado al azar entre los dos ejemplos en el espacio de características.\n",
        "Este procedimiento se puede utilizar para crear tantos ejemplos sintéticos para la clase minoritaria como sean necesarios. Como se describe en el documento, sugiere usar primero un submuestreo aleatorio para recortar el número de ejemplos en la clase mayoritaria, luego usar SMOTE para sobremuestrear la clase minoritaria para equilibrar la distribución de clases."
      ]
    },
    {
      "cell_type": "markdown",
      "metadata": {
        "id": "jVUA9jEFhRhc"
      },
      "source": [
        "A continuación vemos un ejemplo de uso , y para ello vamos a necesitar la librería *imbalanced-learn*"
      ]
    },
    {
      "cell_type": "code",
      "metadata": {
        "id": "K4QdQVcYhcaO"
      },
      "source": [
        "# Comprobamos que está instalada y cuál es su versión\n",
        "import imblearn\n",
        "print(imblearn.__version__)\n",
        "from imblearn.over_sampling import SMOTE"
      ],
      "execution_count": null,
      "outputs": []
    },
    {
      "cell_type": "markdown",
      "metadata": {
        "id": "LCFsuie1jA5w"
      },
      "source": [
        "Importamos las librerías que se van a usar"
      ]
    },
    {
      "cell_type": "code",
      "metadata": {
        "id": "bIsBzFphi4f_"
      },
      "source": [
        "# Resto de librerías que vamos a usar\n",
        "from collections import Counter\n",
        "from sklearn.datasets import make_classification\n",
        "from matplotlib import pyplot\n",
        "from numpy import where"
      ],
      "execution_count": null,
      "outputs": []
    },
    {
      "cell_type": "markdown",
      "metadata": {
        "id": "ta8hYzDtjDuS"
      },
      "source": [
        "Definimos un conjunto de datos aleatorio con dos clases. Para ello usamos la instrucción *make_classification* del módulo datasets de la librería Scikit-Learn.\n",
        "\n",
        "Lo que hace este método es crear conjuntos de datos multiclase, asignando a cada clase una o más instancias distribuidas normalmente. Este método está especializado en introducir ruido por medio de las muestras, es decir, genera caracterísitcas correlacionas, redundantes y no informativas.\n"
      ]
    },
    {
      "cell_type": "code",
      "metadata": {
        "id": "nqBkZDwPi8aM"
      },
      "source": [
        "# Creamos el conjunto de datos aleatorio\n",
        "X, y = make_classification(n_samples=10000, n_features=2, n_redundant=0,\n",
        "\tn_clusters_per_class=1, weights=[0.99], flip_y=0, random_state=1)\n",
        "# Mostramos como está distribuida la variable objetivo \n",
        "counter = Counter(y)\n",
        "print(counter)"
      ],
      "execution_count": null,
      "outputs": []
    },
    {
      "cell_type": "markdown",
      "metadata": {
        "id": "HdmDfQ41jNPb"
      },
      "source": [
        "Dibujamos como sería nuestro dataset"
      ]
    },
    {
      "cell_type": "code",
      "metadata": {
        "id": "ul62HF02i-5c"
      },
      "source": [
        "# Dibujamos en un gráfico el dataset creado\n",
        "for label, _ in counter.items():\n",
        "\trow_ix = where(y == label)[0]\n",
        "\tpyplot.scatter(X[row_ix, 0], X[row_ix, 1], label=str(label))\n",
        "pyplot.legend()\n",
        "pyplot.show()"
      ],
      "execution_count": null,
      "outputs": []
    },
    {
      "cell_type": "markdown",
      "metadata": {
        "id": "iYYKe7lfjiuQ"
      },
      "source": [
        "Aplicamos la técnica SMOTE:"
      ]
    },
    {
      "cell_type": "code",
      "metadata": {
        "id": "3JG0UGhwjlAz"
      },
      "source": [
        "# Transformamos el conjunto de datos\n",
        "oversample = SMOTE()\n",
        "X, y = oversample.fit_resample(X, y)\n",
        "# Obtenemos la nueva distribución de clases en la variable y\n",
        "counter = Counter(y)\n",
        "print(counter)"
      ],
      "execution_count": null,
      "outputs": []
    },
    {
      "cell_type": "code",
      "metadata": {
        "id": "oLJO8F99j1sj"
      },
      "source": [
        "# # Dibujamos en un gráfico el dataset transformado\n",
        "for label, _ in counter.items():\n",
        "\trow_ix = where(y == label)[0]\n",
        "\tpyplot.scatter(X[row_ix, 0], X[row_ix, 1], label=str(label))\n",
        "pyplot.legend()\n",
        "pyplot.show()"
      ],
      "execution_count": null,
      "outputs": []
    },
    {
      "cell_type": "markdown",
      "metadata": {
        "id": "XqoSbMVNj-Vn"
      },
      "source": [
        "El artículo original sobre SMOTE sugirió combinar SMOTE con un submuestreo aleatorio de la clase mayoritaria.\n",
        "\n",
        "La biblioteca de aprendizaje desequilibrado admite submuestreo aleatorio a través de la clase RandomUnderSampler.\n",
        "\n",
        "Podemos actualizar el ejemplo para sobremuestrear primero la clase minoritaria para tener un 10 por ciento del número de ejemplos de la clase mayoritaria (por ejemplo, alrededor de 1000), luego usar un submuestreo aleatorio para reducir el número de ejemplos en la clase mayoritaria para tener un 50 por ciento más que el clase minoritaria (por ejemplo, alrededor de 2000).\n",
        "\n",
        "Para implementar esto, podemos especificar las proporciones deseadas como argumentos para las clases SMOTE y RandomUnderSampler;"
      ]
    },
    {
      "cell_type": "markdown",
      "metadata": {
        "id": "Gt-hwdt0kLxk"
      },
      "source": [
        "Volvemos a definir el conjunto de datos original."
      ]
    },
    {
      "cell_type": "code",
      "metadata": {
        "id": "qNjhT0_jkPqW"
      },
      "source": [
        "# define dataset\n",
        "X, y = make_classification(n_samples=10000, n_features=2, n_redundant=0,\n",
        "\tn_clusters_per_class=1, weights=[0.99], flip_y=0, random_state=1)\n",
        "# summarize class distribution\n",
        "counter = Counter(y)\n",
        "print(counter)"
      ],
      "execution_count": null,
      "outputs": []
    },
    {
      "cell_type": "markdown",
      "metadata": {
        "id": "nEZHJp_rkcJb"
      },
      "source": [
        "A continuación, se transforma el conjunto de datos, primero sobremuestreando la clase minoritaria y luego submuestreando la clase mayoritaria. \n",
        "\n",
        "La distribución de clases final después de esta secuencia de transformaciones coincide con una proporción de 1: 2 o aproximadamente 2000 ejemplos en la clase mayoritaria y aproximadamente 1000 ejemplos en la clase minoritaria."
      ]
    },
    {
      "cell_type": "code",
      "metadata": {
        "id": "sLHcTNSNieeb"
      },
      "source": [
        "# define pipeline\n",
        "over = SMOTE(sampling_strategy=0.1)\n",
        "under = RandomUnderSampler(sampling_strategy=0.5)\n",
        "steps = [('o', over), ('u', under)]\n",
        "pipeline = Pipeline(steps=steps)\n",
        "# transform the dataset\n",
        "X, y = pipeline.fit_resample(X, y)\n",
        "# summarize the new class distribution\n",
        "counter = Counter(y)\n",
        "print(counter)\n"
      ],
      "execution_count": null,
      "outputs": []
    },
    {
      "cell_type": "markdown",
      "metadata": {
        "id": "wAg9hf7Hkivr"
      },
      "source": [
        "Mostramos el resultado mediante un *ScatterPlot* o gráfico de puntos."
      ]
    },
    {
      "cell_type": "code",
      "metadata": {
        "id": "cHzZHW5-imVb"
      },
      "source": [
        "# scatter plot of examples by class label\n",
        "for label, _ in counter.items():\n",
        "\trow_ix = where(y == label)[0]\n",
        "\tpyplot.scatter(X[row_ix, 0], X[row_ix, 1], label=str(label))\n",
        "pyplot.legend()\n",
        "pyplot.show()"
      ],
      "execution_count": null,
      "outputs": []
    },
    {
      "cell_type": "markdown",
      "metadata": {
        "id": "EeRxqDYMlCOw"
      },
      "source": [
        "###ADASYN: Adaptative Synthetic Sampling Approach For Imbalanced Learning"
      ]
    },
    {
      "cell_type": "markdown",
      "metadata": {
        "id": "_3nnknDOlMwJ"
      },
      "source": [
        "Otro enfoque implica la generación de muestras sintéticas inversamente proporcional a la densidad de los ejemplos de la clase minoritaria.\n",
        "\n",
        "Es decir, generar más ejemplos sintéticos en regiones del espacio de características donde la densidad de ejemplos minoritarios es menor que la densidad de la clase mayoritaria.\n",
        "\n",
        "Esta modificación de SMOTE se conoce como Método de muestreo sintético adaptativo, o ADASYN, y se propuso a Haibo He, et al. en su artículo de 2008 llamado así por el método titulado “[ADASYN: Adaptive Synthetic Sampling Approach For Imbalanced Learning.](https://sci2s.ugr.es/keel/pdf/algorithm/congreso/2008-He-ieee.pdf)”.\n",
        "\n",
        "La idea clave del algoritmo ADASYN es utilizar una distribución de densidad como criterio para decidir automáticamente el número de muestras sintéticas que deben generarse para cada ejemplo de datos minoritarios.\n",
        "\n",
        "Podemos aplicar este procedimiento utilizando la clase ADASYN en la librería *imbalanced-learn*\n",
        "\n",
        "El siguiente ejemplo demuestra este enfoque alternativo al sobremuestreo en el conjunto de datos de clasificación binaria desequilibrado. "
      ]
    },
    {
      "cell_type": "markdown",
      "metadata": {
        "id": "IJX1P29vlUnE"
      },
      "source": [
        "La idea clave del algoritmo ADASYN es utilizar una distribución de densidad como criterio para decidir automáticamente el número de muestras sintéticas que deben generarse para cada ejemplo de datos minoritarios."
      ]
    },
    {
      "cell_type": "markdown",
      "metadata": {
        "id": "y2x5oIRoleiU"
      },
      "source": [
        "Cargamos las librerías que vamos a necesitar:"
      ]
    },
    {
      "cell_type": "code",
      "metadata": {
        "id": "EDT1E_jNlb00"
      },
      "source": [
        "# Oversample and plot imbalanced dataset with ADASYN\n",
        "from collections import Counter\n",
        "from sklearn.datasets import make_classification\n",
        "from imblearn.over_sampling import ADASYN\n",
        "from matplotlib import pyplot\n",
        "from numpy import where"
      ],
      "execution_count": null,
      "outputs": []
    },
    {
      "cell_type": "markdown",
      "metadata": {
        "id": "h-8JIbAXlnxb"
      },
      "source": [
        "Volvemos a crear un conjunto de datos de dos clases con dos características para usarlo como ejemplo."
      ]
    },
    {
      "cell_type": "code",
      "metadata": {
        "id": "2-fP0cVglkMM"
      },
      "source": [
        "# Definir un dataset  aleatorio dónde de 10000 muestras 100 sean de una clase y el resto de la otra\n",
        "X, y = make_classification(n_samples=10000, n_features=2, n_redundant=0,\n",
        "\tn_clusters_per_class=1, weights=[0.99], flip_y=0, random_state=1)\n",
        "# Resumen de la distribución\n",
        "counter = Counter(y)\n",
        "print(counter)"
      ],
      "execution_count": null,
      "outputs": []
    },
    {
      "cell_type": "markdown",
      "metadata": {
        "id": "YnH2lrRFl3P3"
      },
      "source": [
        "Usamos el método ADASYN que está en la librería imbalanced-learn."
      ]
    },
    {
      "cell_type": "code",
      "metadata": {
        "id": "HEF7zHJ-luRl"
      },
      "source": [
        "# Transformar el conjunto de datos\n",
        "oversample = ADASYN()\n",
        "X, y = oversample.fit_resample(X, y)\n",
        "# Resumen de la distribución\n",
        "counter = Counter(y)\n",
        "print(counter)"
      ],
      "execution_count": null,
      "outputs": []
    },
    {
      "cell_type": "code",
      "metadata": {
        "id": "rHCbfHxHmFpr"
      },
      "source": [
        "# Dibujar como es la distribución de la muestra\n",
        "for label, _ in counter.items():\n",
        "\trow_ix = where(y == label)[0]\n",
        "\tpyplot.scatter(X[row_ix, 0], X[row_ix, 1], label=str(label))\n",
        "pyplot.legend()\n",
        "pyplot.show()"
      ],
      "execution_count": null,
      "outputs": []
    },
    {
      "cell_type": "markdown",
      "metadata": {
        "id": "eqVdQaH_lmdW"
      },
      "source": [
        "EJERCICIO: Tanto el método SMOTE y ADASYN se basan para sintetizar nuevas muestras en el estudio de los k vecinos de cada una de las muestras. Por defecto se ha comentado que ambos métodos usan k=5. Prueba a ver que ocurre con k=3 y con k=7, ¿cambia mucho el conjunto final según el número de vecinos que usemos? "
      ]
    },
    {
      "cell_type": "markdown",
      "metadata": {
        "id": "BBr6xMGVu_Cp"
      },
      "source": [
        "EJERCICIO:\n",
        "\n",
        "Aplica las técnicas de Aumentar la muestra (Oversampling), Disminuir la muestra (Undersampling), SMOTE y ADASYN sobre el conjunto de datos que se encuentra en 'https://raw.githubusercontent.com/jbrownlee/Datasets/master/pima-indians-diabetes.data.csv'. \n",
        "\n",
        "Este conjunto de datos es original National Institute of Diabetes and Digestive and Kidney Diseases y se usa para predecir si un paciente tiene diabetes o no basada en las medidas de diagnóstico que se recogen en los datos.\n",
        "\n",
        "El nombre de las columnas del conjunto de datos son ['NO_PREG','PLASMA_GLUCOSE','DIASTOLIC_BP','SKIN_THICKNESS','SERUM_INSULIN','BMI','DIA_PEDI_FUNC','AGE','TARGET'] siendo la última, la característica objetivo."
      ]
    },
    {
      "cell_type": "markdown",
      "metadata": {
        "id": "qGlrUGlKo_7n"
      },
      "source": [
        "EJERCICIO OPCIONAL: Una vez tengas los conjuntos balanceados para los cuatro tipos de métodos, calcula la *accuracy* que sale al aplicar el método de Regresión Logística sobre cada conjunto, teniendo en cuenta que el valor de la *accuracy* ha de estar entre 0 y 1 siendo 1 el mejor resultado: ¿Hay alguno que sea claramente mejor?"
      ]
    },
    {
      "cell_type": "markdown",
      "metadata": {
        "id": "6uEIjhVC4GqT"
      },
      "source": [
        "###One-Class Classification"
      ]
    },
    {
      "cell_type": "markdown",
      "metadata": {
        "id": "Xpcm4-6KpLFm"
      },
      "source": [
        "EJERCICIO OPCIONAL: En clase de teoría se ha explicado que una estrategia para balancear una clase y de esta manera poder eliminar ruido del dataset (posibles datos anómalos) es usar el método *One-Class Classification* (Clasificación de una clase).\n",
        "\n",
        "Crea una conjunto de datos aleatorio con 10000 muestras, dónde de la clase minoritaria sólo haya 10, siendo la distribución de la muestra 1:1000.\n",
        "\n",
        "La librería *scikit-learn* tiene implementado varios algoritmos de clasificación para una clase, en particular: \n",
        "\n",
        "\n",
        "*   One-class SVM\n",
        "*   Isolation Forest\n",
        "\n",
        "Busca como usar uno de estos dos métodos y ponlo en práctica en el conjunto de datos generado. \n",
        "\n"
      ]
    }
  ]
}