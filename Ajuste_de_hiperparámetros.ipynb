{
  "nbformat": 4,
  "nbformat_minor": 0,
  "metadata": {
    "accelerator": "TPU",
    "colab": {
      "name": "Ajuste de hiperparámetros.ipynb",
      "provenance": [],
      "collapsed_sections": [
        "vScVbzmJfalX",
        "HFDCJT6Bfane",
        "NlIzk9uzfao3",
        "UXOJ3ep1gGHo",
        "kP5cASVbctTG",
        "0ThCLvR_iF6q",
        "xb2KiP1WPsFw",
        "R8Ce28bjs-ro",
        "jj0NOQcckfHX",
        "KIY8tThnSKv3"
      ]
    },
    "kernelspec": {
      "display_name": "Python 3",
      "language": "python",
      "name": "python3"
    },
    "language_info": {
      "codemirror_mode": {
        "name": "ipython",
        "version": 3
      },
      "file_extension": ".py",
      "mimetype": "text/x-python",
      "name": "python",
      "nbconvert_exporter": "python",
      "pygments_lexer": "ipython3",
      "version": "3.7.6"
    },
    "nav_menu": {
      "height": "279px",
      "width": "309px"
    },
    "toc": {
      "nav_menu": {},
      "number_sections": true,
      "sideBar": true,
      "skip_h1_title": false,
      "toc_cell": false,
      "toc_position": {},
      "toc_section_display": "block",
      "toc_window_display": false
    }
  },
  "cells": [
    {
      "cell_type": "markdown",
      "metadata": {
        "id": "HxrpBVQ9falP"
      },
      "source": [
        "# **Ajuste de hiperparámetros**\n",
        "\n",
        "En este notebook practicaremos los distintos métodos de búsqueda automática de los mejores hiperparámetros vistos en la sesión de teoría.\n",
        "\n"
      ]
    },
    {
      "cell_type": "markdown",
      "metadata": {
        "id": "vScVbzmJfalX"
      },
      "source": [
        "# Obtención de los datos"
      ]
    },
    {
      "cell_type": "markdown",
      "metadata": {
        "id": "HPMPVW4khiGm"
      },
      "source": [
        "Vamos a utilizar la base de datos Diabetes del repositorio StatLib. Es una base de datos habitual para hacer pruebas. El objetivo es construir un modelo que sea capaz de predecir la progresión de la diabetes a un año a partir de carácterísticas personales y datos de analíticas de sangre."
      ]
    },
    {
      "cell_type": "markdown",
      "metadata": {
        "id": "upEkrNoyd8xh"
      },
      "source": [
        "Cargamos directament la BD desde los datasets de sklearn. \n",
        "La base de datos contiene información sobre 442 pacientes de 10 variables diferentes. Podemos encontrar más información sobre la base de datos en [[1]](https://www4.stat.ncsu.edu/~boos/var.select/diabetes.html) [[2]](https://web.stanford.edu/~hastie/Papers/LARS/LeastAngle_2002.pdf)."
      ]
    },
    {
      "cell_type": "code",
      "metadata": {
        "id": "zgxapDV8jKJQ",
        "colab": {
          "base_uri": "https://localhost:8080/"
        },
        "outputId": "3566af5a-7590-4a5c-b5c0-53fc862dd099"
      },
      "source": [
        "from sklearn import datasets\n",
        "\n",
        "diabetes_BD = datasets.load_diabetes()\n",
        "print(diabetes_BD.DESCR)\n"
      ],
      "execution_count": 18,
      "outputs": [
        {
          "output_type": "stream",
          "name": "stdout",
          "text": [
            ".. _diabetes_dataset:\n",
            "\n",
            "Diabetes dataset\n",
            "----------------\n",
            "\n",
            "Ten baseline variables, age, sex, body mass index, average blood\n",
            "pressure, and six blood serum measurements were obtained for each of n =\n",
            "442 diabetes patients, as well as the response of interest, a\n",
            "quantitative measure of disease progression one year after baseline.\n",
            "\n",
            "**Data Set Characteristics:**\n",
            "\n",
            "  :Number of Instances: 442\n",
            "\n",
            "  :Number of Attributes: First 10 columns are numeric predictive values\n",
            "\n",
            "  :Target: Column 11 is a quantitative measure of disease progression one year after baseline\n",
            "\n",
            "  :Attribute Information:\n",
            "      - age     age in years\n",
            "      - sex\n",
            "      - bmi     body mass index\n",
            "      - bp      average blood pressure\n",
            "      - s1      tc, T-Cells (a type of white blood cells)\n",
            "      - s2      ldl, low-density lipoproteins\n",
            "      - s3      hdl, high-density lipoproteins\n",
            "      - s4      tch, thyroid stimulating hormone\n",
            "      - s5      ltg, lamotrigine\n",
            "      - s6      glu, blood sugar level\n",
            "\n",
            "Note: Each of these 10 feature variables have been mean centered and scaled by the standard deviation times `n_samples` (i.e. the sum of squares of each column totals 1).\n",
            "\n",
            "Source URL:\n",
            "https://www4.stat.ncsu.edu/~boos/var.select/diabetes.html\n",
            "\n",
            "For more information see:\n",
            "Bradley Efron, Trevor Hastie, Iain Johnstone and Robert Tibshirani (2004) \"Least Angle Regression,\" Annals of Statistics (with discussion), 407-499.\n",
            "(https://web.stanford.edu/~hastie/Papers/LARS/LeastAngle_2002.pdf)\n"
          ]
        }
      ]
    },
    {
      "cell_type": "markdown",
      "metadata": {
        "id": "_bOgiwqfqpY1"
      },
      "source": [
        "Esta base de datos tiene variables como la edad, el sexo, el índice de masa corporal, la presión arterial, y otras derivadas de la analítica en sangre. Queremos inferir una variable cuantitativa que representa la progresión de la enfermedad a un año. Se trata por lo tanto de un problema de regresión."
      ]
    },
    {
      "cell_type": "markdown",
      "metadata": {
        "id": "LO0gP2v_IG5A"
      },
      "source": [
        "Miramos las primeras filas de la base de datos."
      ]
    },
    {
      "cell_type": "code",
      "metadata": {
        "id": "ASCHdP6XmjLX",
        "colab": {
          "base_uri": "https://localhost:8080/",
          "height": 0
        },
        "outputId": "75277db0-70de-4e47-ff22-e7217765ae7c"
      },
      "source": [
        "import pandas as pd\n",
        "df=pd.DataFrame(data=diabetes_BD.data,columns=diabetes_BD.feature_names)\n",
        "target=pd.DataFrame(data=diabetes_BD.target,columns=['target'])\n",
        "df=pd.concat([df,target],sort=True,axis=1)\n",
        "df.head(15)"
      ],
      "execution_count": 19,
      "outputs": [
        {
          "output_type": "execute_result",
          "data": {
            "text/html": [
              "\n",
              "  <div id=\"df-28822fe7-3592-4f9b-ab44-1213d441b810\">\n",
              "    <div class=\"colab-df-container\">\n",
              "      <div>\n",
              "<style scoped>\n",
              "    .dataframe tbody tr th:only-of-type {\n",
              "        vertical-align: middle;\n",
              "    }\n",
              "\n",
              "    .dataframe tbody tr th {\n",
              "        vertical-align: top;\n",
              "    }\n",
              "\n",
              "    .dataframe thead th {\n",
              "        text-align: right;\n",
              "    }\n",
              "</style>\n",
              "<table border=\"1\" class=\"dataframe\">\n",
              "  <thead>\n",
              "    <tr style=\"text-align: right;\">\n",
              "      <th></th>\n",
              "      <th>age</th>\n",
              "      <th>sex</th>\n",
              "      <th>bmi</th>\n",
              "      <th>bp</th>\n",
              "      <th>s1</th>\n",
              "      <th>s2</th>\n",
              "      <th>s3</th>\n",
              "      <th>s4</th>\n",
              "      <th>s5</th>\n",
              "      <th>s6</th>\n",
              "      <th>target</th>\n",
              "    </tr>\n",
              "  </thead>\n",
              "  <tbody>\n",
              "    <tr>\n",
              "      <th>0</th>\n",
              "      <td>0.038076</td>\n",
              "      <td>0.050680</td>\n",
              "      <td>0.061696</td>\n",
              "      <td>0.021872</td>\n",
              "      <td>-0.044223</td>\n",
              "      <td>-0.034821</td>\n",
              "      <td>-0.043401</td>\n",
              "      <td>-0.002592</td>\n",
              "      <td>0.019908</td>\n",
              "      <td>-0.017646</td>\n",
              "      <td>151.0</td>\n",
              "    </tr>\n",
              "    <tr>\n",
              "      <th>1</th>\n",
              "      <td>-0.001882</td>\n",
              "      <td>-0.044642</td>\n",
              "      <td>-0.051474</td>\n",
              "      <td>-0.026328</td>\n",
              "      <td>-0.008449</td>\n",
              "      <td>-0.019163</td>\n",
              "      <td>0.074412</td>\n",
              "      <td>-0.039493</td>\n",
              "      <td>-0.068330</td>\n",
              "      <td>-0.092204</td>\n",
              "      <td>75.0</td>\n",
              "    </tr>\n",
              "    <tr>\n",
              "      <th>2</th>\n",
              "      <td>0.085299</td>\n",
              "      <td>0.050680</td>\n",
              "      <td>0.044451</td>\n",
              "      <td>-0.005671</td>\n",
              "      <td>-0.045599</td>\n",
              "      <td>-0.034194</td>\n",
              "      <td>-0.032356</td>\n",
              "      <td>-0.002592</td>\n",
              "      <td>0.002864</td>\n",
              "      <td>-0.025930</td>\n",
              "      <td>141.0</td>\n",
              "    </tr>\n",
              "    <tr>\n",
              "      <th>3</th>\n",
              "      <td>-0.089063</td>\n",
              "      <td>-0.044642</td>\n",
              "      <td>-0.011595</td>\n",
              "      <td>-0.036656</td>\n",
              "      <td>0.012191</td>\n",
              "      <td>0.024991</td>\n",
              "      <td>-0.036038</td>\n",
              "      <td>0.034309</td>\n",
              "      <td>0.022692</td>\n",
              "      <td>-0.009362</td>\n",
              "      <td>206.0</td>\n",
              "    </tr>\n",
              "    <tr>\n",
              "      <th>4</th>\n",
              "      <td>0.005383</td>\n",
              "      <td>-0.044642</td>\n",
              "      <td>-0.036385</td>\n",
              "      <td>0.021872</td>\n",
              "      <td>0.003935</td>\n",
              "      <td>0.015596</td>\n",
              "      <td>0.008142</td>\n",
              "      <td>-0.002592</td>\n",
              "      <td>-0.031991</td>\n",
              "      <td>-0.046641</td>\n",
              "      <td>135.0</td>\n",
              "    </tr>\n",
              "    <tr>\n",
              "      <th>5</th>\n",
              "      <td>-0.092695</td>\n",
              "      <td>-0.044642</td>\n",
              "      <td>-0.040696</td>\n",
              "      <td>-0.019442</td>\n",
              "      <td>-0.068991</td>\n",
              "      <td>-0.079288</td>\n",
              "      <td>0.041277</td>\n",
              "      <td>-0.076395</td>\n",
              "      <td>-0.041180</td>\n",
              "      <td>-0.096346</td>\n",
              "      <td>97.0</td>\n",
              "    </tr>\n",
              "    <tr>\n",
              "      <th>6</th>\n",
              "      <td>-0.045472</td>\n",
              "      <td>0.050680</td>\n",
              "      <td>-0.047163</td>\n",
              "      <td>-0.015999</td>\n",
              "      <td>-0.040096</td>\n",
              "      <td>-0.024800</td>\n",
              "      <td>0.000779</td>\n",
              "      <td>-0.039493</td>\n",
              "      <td>-0.062913</td>\n",
              "      <td>-0.038357</td>\n",
              "      <td>138.0</td>\n",
              "    </tr>\n",
              "    <tr>\n",
              "      <th>7</th>\n",
              "      <td>0.063504</td>\n",
              "      <td>0.050680</td>\n",
              "      <td>-0.001895</td>\n",
              "      <td>0.066630</td>\n",
              "      <td>0.090620</td>\n",
              "      <td>0.108914</td>\n",
              "      <td>0.022869</td>\n",
              "      <td>0.017703</td>\n",
              "      <td>-0.035817</td>\n",
              "      <td>0.003064</td>\n",
              "      <td>63.0</td>\n",
              "    </tr>\n",
              "    <tr>\n",
              "      <th>8</th>\n",
              "      <td>0.041708</td>\n",
              "      <td>0.050680</td>\n",
              "      <td>0.061696</td>\n",
              "      <td>-0.040099</td>\n",
              "      <td>-0.013953</td>\n",
              "      <td>0.006202</td>\n",
              "      <td>-0.028674</td>\n",
              "      <td>-0.002592</td>\n",
              "      <td>-0.014956</td>\n",
              "      <td>0.011349</td>\n",
              "      <td>110.0</td>\n",
              "    </tr>\n",
              "    <tr>\n",
              "      <th>9</th>\n",
              "      <td>-0.070900</td>\n",
              "      <td>-0.044642</td>\n",
              "      <td>0.039062</td>\n",
              "      <td>-0.033214</td>\n",
              "      <td>-0.012577</td>\n",
              "      <td>-0.034508</td>\n",
              "      <td>-0.024993</td>\n",
              "      <td>-0.002592</td>\n",
              "      <td>0.067736</td>\n",
              "      <td>-0.013504</td>\n",
              "      <td>310.0</td>\n",
              "    </tr>\n",
              "    <tr>\n",
              "      <th>10</th>\n",
              "      <td>-0.096328</td>\n",
              "      <td>-0.044642</td>\n",
              "      <td>-0.083808</td>\n",
              "      <td>0.008101</td>\n",
              "      <td>-0.103389</td>\n",
              "      <td>-0.090561</td>\n",
              "      <td>-0.013948</td>\n",
              "      <td>-0.076395</td>\n",
              "      <td>-0.062913</td>\n",
              "      <td>-0.034215</td>\n",
              "      <td>101.0</td>\n",
              "    </tr>\n",
              "    <tr>\n",
              "      <th>11</th>\n",
              "      <td>0.027178</td>\n",
              "      <td>0.050680</td>\n",
              "      <td>0.017506</td>\n",
              "      <td>-0.033214</td>\n",
              "      <td>-0.007073</td>\n",
              "      <td>0.045972</td>\n",
              "      <td>-0.065491</td>\n",
              "      <td>0.071210</td>\n",
              "      <td>-0.096433</td>\n",
              "      <td>-0.059067</td>\n",
              "      <td>69.0</td>\n",
              "    </tr>\n",
              "    <tr>\n",
              "      <th>12</th>\n",
              "      <td>0.016281</td>\n",
              "      <td>-0.044642</td>\n",
              "      <td>-0.028840</td>\n",
              "      <td>-0.009113</td>\n",
              "      <td>-0.004321</td>\n",
              "      <td>-0.009769</td>\n",
              "      <td>0.044958</td>\n",
              "      <td>-0.039493</td>\n",
              "      <td>-0.030751</td>\n",
              "      <td>-0.042499</td>\n",
              "      <td>179.0</td>\n",
              "    </tr>\n",
              "    <tr>\n",
              "      <th>13</th>\n",
              "      <td>0.005383</td>\n",
              "      <td>0.050680</td>\n",
              "      <td>-0.001895</td>\n",
              "      <td>0.008101</td>\n",
              "      <td>-0.004321</td>\n",
              "      <td>-0.015719</td>\n",
              "      <td>-0.002903</td>\n",
              "      <td>-0.002592</td>\n",
              "      <td>0.038393</td>\n",
              "      <td>-0.013504</td>\n",
              "      <td>185.0</td>\n",
              "    </tr>\n",
              "    <tr>\n",
              "      <th>14</th>\n",
              "      <td>0.045341</td>\n",
              "      <td>-0.044642</td>\n",
              "      <td>-0.025607</td>\n",
              "      <td>-0.012556</td>\n",
              "      <td>0.017694</td>\n",
              "      <td>-0.000061</td>\n",
              "      <td>0.081775</td>\n",
              "      <td>-0.039493</td>\n",
              "      <td>-0.031991</td>\n",
              "      <td>-0.075636</td>\n",
              "      <td>118.0</td>\n",
              "    </tr>\n",
              "  </tbody>\n",
              "</table>\n",
              "</div>\n",
              "      <button class=\"colab-df-convert\" onclick=\"convertToInteractive('df-28822fe7-3592-4f9b-ab44-1213d441b810')\"\n",
              "              title=\"Convert this dataframe to an interactive table.\"\n",
              "              style=\"display:none;\">\n",
              "        \n",
              "  <svg xmlns=\"http://www.w3.org/2000/svg\" height=\"24px\"viewBox=\"0 0 24 24\"\n",
              "       width=\"24px\">\n",
              "    <path d=\"M0 0h24v24H0V0z\" fill=\"none\"/>\n",
              "    <path d=\"M18.56 5.44l.94 2.06.94-2.06 2.06-.94-2.06-.94-.94-2.06-.94 2.06-2.06.94zm-11 1L8.5 8.5l.94-2.06 2.06-.94-2.06-.94L8.5 2.5l-.94 2.06-2.06.94zm10 10l.94 2.06.94-2.06 2.06-.94-2.06-.94-.94-2.06-.94 2.06-2.06.94z\"/><path d=\"M17.41 7.96l-1.37-1.37c-.4-.4-.92-.59-1.43-.59-.52 0-1.04.2-1.43.59L10.3 9.45l-7.72 7.72c-.78.78-.78 2.05 0 2.83L4 21.41c.39.39.9.59 1.41.59.51 0 1.02-.2 1.41-.59l7.78-7.78 2.81-2.81c.8-.78.8-2.07 0-2.86zM5.41 20L4 18.59l7.72-7.72 1.47 1.35L5.41 20z\"/>\n",
              "  </svg>\n",
              "      </button>\n",
              "      \n",
              "  <style>\n",
              "    .colab-df-container {\n",
              "      display:flex;\n",
              "      flex-wrap:wrap;\n",
              "      gap: 12px;\n",
              "    }\n",
              "\n",
              "    .colab-df-convert {\n",
              "      background-color: #E8F0FE;\n",
              "      border: none;\n",
              "      border-radius: 50%;\n",
              "      cursor: pointer;\n",
              "      display: none;\n",
              "      fill: #1967D2;\n",
              "      height: 32px;\n",
              "      padding: 0 0 0 0;\n",
              "      width: 32px;\n",
              "    }\n",
              "\n",
              "    .colab-df-convert:hover {\n",
              "      background-color: #E2EBFA;\n",
              "      box-shadow: 0px 1px 2px rgba(60, 64, 67, 0.3), 0px 1px 3px 1px rgba(60, 64, 67, 0.15);\n",
              "      fill: #174EA6;\n",
              "    }\n",
              "\n",
              "    [theme=dark] .colab-df-convert {\n",
              "      background-color: #3B4455;\n",
              "      fill: #D2E3FC;\n",
              "    }\n",
              "\n",
              "    [theme=dark] .colab-df-convert:hover {\n",
              "      background-color: #434B5C;\n",
              "      box-shadow: 0px 1px 3px 1px rgba(0, 0, 0, 0.15);\n",
              "      filter: drop-shadow(0px 1px 2px rgba(0, 0, 0, 0.3));\n",
              "      fill: #FFFFFF;\n",
              "    }\n",
              "  </style>\n",
              "\n",
              "      <script>\n",
              "        const buttonEl =\n",
              "          document.querySelector('#df-28822fe7-3592-4f9b-ab44-1213d441b810 button.colab-df-convert');\n",
              "        buttonEl.style.display =\n",
              "          google.colab.kernel.accessAllowed ? 'block' : 'none';\n",
              "\n",
              "        async function convertToInteractive(key) {\n",
              "          const element = document.querySelector('#df-28822fe7-3592-4f9b-ab44-1213d441b810');\n",
              "          const dataTable =\n",
              "            await google.colab.kernel.invokeFunction('convertToInteractive',\n",
              "                                                     [key], {});\n",
              "          if (!dataTable) return;\n",
              "\n",
              "          const docLinkHtml = 'Like what you see? Visit the ' +\n",
              "            '<a target=\"_blank\" href=https://colab.research.google.com/notebooks/data_table.ipynb>data table notebook</a>'\n",
              "            + ' to learn more about interactive tables.';\n",
              "          element.innerHTML = '';\n",
              "          dataTable['output_type'] = 'display_data';\n",
              "          await google.colab.output.renderOutput(dataTable, element);\n",
              "          const docLink = document.createElement('div');\n",
              "          docLink.innerHTML = docLinkHtml;\n",
              "          element.appendChild(docLink);\n",
              "        }\n",
              "      </script>\n",
              "    </div>\n",
              "  </div>\n",
              "  "
            ],
            "text/plain": [
              "         age       sex       bmi  ...        s5        s6  target\n",
              "0   0.038076  0.050680  0.061696  ...  0.019908 -0.017646   151.0\n",
              "1  -0.001882 -0.044642 -0.051474  ... -0.068330 -0.092204    75.0\n",
              "2   0.085299  0.050680  0.044451  ...  0.002864 -0.025930   141.0\n",
              "3  -0.089063 -0.044642 -0.011595  ...  0.022692 -0.009362   206.0\n",
              "4   0.005383 -0.044642 -0.036385  ... -0.031991 -0.046641   135.0\n",
              "5  -0.092695 -0.044642 -0.040696  ... -0.041180 -0.096346    97.0\n",
              "6  -0.045472  0.050680 -0.047163  ... -0.062913 -0.038357   138.0\n",
              "7   0.063504  0.050680 -0.001895  ... -0.035817  0.003064    63.0\n",
              "8   0.041708  0.050680  0.061696  ... -0.014956  0.011349   110.0\n",
              "9  -0.070900 -0.044642  0.039062  ...  0.067736 -0.013504   310.0\n",
              "10 -0.096328 -0.044642 -0.083808  ... -0.062913 -0.034215   101.0\n",
              "11  0.027178  0.050680  0.017506  ... -0.096433 -0.059067    69.0\n",
              "12  0.016281 -0.044642 -0.028840  ... -0.030751 -0.042499   179.0\n",
              "13  0.005383  0.050680 -0.001895  ...  0.038393 -0.013504   185.0\n",
              "14  0.045341 -0.044642 -0.025607  ... -0.031991 -0.075636   118.0\n",
              "\n",
              "[15 rows x 11 columns]"
            ]
          },
          "metadata": {},
          "execution_count": 19
        }
      ]
    },
    {
      "cell_type": "markdown",
      "metadata": {
        "id": "3C7py7YvIfix"
      },
      "source": [
        "Las columnas son numéricas y no contienen valores nulos. Además, como indican en la información de la BD, las variables están estandarizadas (media 0 y varianza 1). \n",
        "Además, como vemos a continuación, no contienen valores nulos."
      ]
    },
    {
      "cell_type": "code",
      "metadata": {
        "id": "iDcn3kjoqTdL",
        "colab": {
          "base_uri": "https://localhost:8080/"
        },
        "outputId": "75e2952c-b4d8-4f17-e201-d27a241ff7e7"
      },
      "source": [
        "df.info()"
      ],
      "execution_count": 20,
      "outputs": [
        {
          "output_type": "stream",
          "name": "stdout",
          "text": [
            "<class 'pandas.core.frame.DataFrame'>\n",
            "Int64Index: 442 entries, 0 to 441\n",
            "Data columns (total 11 columns):\n",
            " #   Column  Non-Null Count  Dtype  \n",
            "---  ------  --------------  -----  \n",
            " 0   age     442 non-null    float64\n",
            " 1   sex     442 non-null    float64\n",
            " 2   bmi     442 non-null    float64\n",
            " 3   bp      442 non-null    float64\n",
            " 4   s1      442 non-null    float64\n",
            " 5   s2      442 non-null    float64\n",
            " 6   s3      442 non-null    float64\n",
            " 7   s4      442 non-null    float64\n",
            " 8   s5      442 non-null    float64\n",
            " 9   s6      442 non-null    float64\n",
            " 10  target  442 non-null    float64\n",
            "dtypes: float64(11)\n",
            "memory usage: 41.4 KB\n"
          ]
        }
      ]
    },
    {
      "cell_type": "markdown",
      "metadata": {
        "id": "GXg1Pdu_tnxq"
      },
      "source": [
        "Separamos las variables que usaremos para inferir de la variable objetivo."
      ]
    },
    {
      "cell_type": "code",
      "metadata": {
        "id": "06ZzgcAtlHHN"
      },
      "source": [
        "diabetes=diabetes_BD[\"data\"] # Datos de a usar \n",
        "feature_names=diabetes_BD[\"feature_names\"] # Nombre de las variables\n",
        "diabetes_target=diabetes_BD[\"target\"] # Dato a inferir."
      ],
      "execution_count": 21,
      "outputs": []
    },
    {
      "cell_type": "code",
      "metadata": {
        "id": "izNPpdznfalm",
        "colab": {
          "base_uri": "https://localhost:8080/"
        },
        "outputId": "e6a7995e-9651-4352-f714-4563d313b9e2"
      },
      "source": [
        "diabetes.shape"
      ],
      "execution_count": 22,
      "outputs": [
        {
          "output_type": "execute_result",
          "data": {
            "text/plain": [
              "(442, 10)"
            ]
          },
          "metadata": {},
          "execution_count": 22
        }
      ]
    },
    {
      "cell_type": "code",
      "metadata": {
        "id": "RWl1ZPdKnL14",
        "colab": {
          "base_uri": "https://localhost:8080/"
        },
        "outputId": "b6b9486e-abb9-4b66-f2b8-467cf66e3f76"
      },
      "source": [
        "from scipy import stats\n",
        "stats.describe(diabetes_target)"
      ],
      "execution_count": 23,
      "outputs": [
        {
          "output_type": "execute_result",
          "data": {
            "text/plain": [
              "DescribeResult(nobs=442, minmax=(25.0, 346.0), mean=152.13348416289594, variance=5943.331347923785, skewness=0.43906639932477265, kurtosis=-0.8866436055681386)"
            ]
          },
          "metadata": {},
          "execution_count": 23
        }
      ]
    },
    {
      "cell_type": "markdown",
      "metadata": {
        "id": "sXK0niYJUQkG"
      },
      "source": [
        "Fijarse que la progresión media de la enfermedad es de unos 152 puntos con un mínimo de unos 25 y un máximo de 346."
      ]
    },
    {
      "cell_type": "markdown",
      "metadata": {
        "id": "HFDCJT6Bfane"
      },
      "source": [
        "# División en conjunto de entrenamiento y conjunto de test"
      ]
    },
    {
      "cell_type": "markdown",
      "metadata": {
        "id": "5AfTSaq8S5GA"
      },
      "source": [
        "Como se ha comentado en otras sesiones, el preprocesamiento puede tener un efecto muy grande en el rendimiento del modelo. Esta base de datos ya está preprocesada (variables estandarizadas, sin nulos...)."
      ]
    },
    {
      "cell_type": "markdown",
      "metadata": {
        "id": "CdcOzCOonYVN"
      },
      "source": [
        "Dividimos el conjunto entrenamiento y test (20%)"
      ]
    },
    {
      "cell_type": "code",
      "metadata": {
        "id": "v336HopenWq5"
      },
      "source": [
        "from sklearn.model_selection import train_test_split\n",
        "X_train,  X_test, y_train, y_test = train_test_split(diabetes, diabetes_target, test_size=0.2, random_state=42)"
      ],
      "execution_count": 24,
      "outputs": []
    },
    {
      "cell_type": "code",
      "metadata": {
        "id": "i2-gVYrATLOr",
        "colab": {
          "base_uri": "https://localhost:8080/"
        },
        "outputId": "24a987bf-cefd-4602-9c3c-d51be40df033"
      },
      "source": [
        "X_test.shape"
      ],
      "execution_count": 25,
      "outputs": [
        {
          "output_type": "execute_result",
          "data": {
            "text/plain": [
              "(89, 10)"
            ]
          },
          "metadata": {},
          "execution_count": 25
        }
      ]
    },
    {
      "cell_type": "code",
      "metadata": {
        "id": "YnugnNLlTRm_",
        "colab": {
          "base_uri": "https://localhost:8080/"
        },
        "outputId": "35cb8520-9b35-4d29-aa2a-cf5c2ad3173e"
      },
      "source": [
        "X_train.shape"
      ],
      "execution_count": 26,
      "outputs": [
        {
          "output_type": "execute_result",
          "data": {
            "text/plain": [
              "(353, 10)"
            ]
          },
          "metadata": {},
          "execution_count": 26
        }
      ]
    },
    {
      "cell_type": "markdown",
      "metadata": {
        "id": "NlIzk9uzfao3"
      },
      "source": [
        "# Definición y entrenamiento de un modelo con los hiperparámetros por defecto"
      ]
    },
    {
      "cell_type": "markdown",
      "metadata": {
        "id": "niwmILvMwH7u"
      },
      "source": [
        "Elelgimos tres modelos: SVM, árbol de decisión y un random forest. \n",
        "\n",
        "Definimos primero los modelos de SVM para regresión ([SVR](https://towardsdatascience.com/an-introduction-to-support-vector-regression-svr-a3ebc1672c2)) y árbol de decisión para regresión ([decision tree regressor](https://dev.to/nexttech/classification-and-regression-analysis-with-decision-trees-jgp))."
      ]
    },
    {
      "cell_type": "code",
      "metadata": {
        "id": "Wmj4xTgaoELe",
        "colab": {
          "base_uri": "https://localhost:8080/"
        },
        "outputId": "f95f6671-cf99-40e9-d12f-7f5f9da197e1"
      },
      "source": [
        "from sklearn.svm import SVR\n",
        "svm_reg = SVR()\n",
        "svm_reg.fit(X_train, y_train)"
      ],
      "execution_count": 27,
      "outputs": [
        {
          "output_type": "execute_result",
          "data": {
            "text/plain": [
              "SVR()"
            ]
          },
          "metadata": {},
          "execution_count": 27
        }
      ]
    },
    {
      "cell_type": "code",
      "metadata": {
        "id": "EhujAdvxfapC",
        "colab": {
          "base_uri": "https://localhost:8080/"
        },
        "outputId": "db87c189-9ee7-4a92-956c-477a9ccf49f7"
      },
      "source": [
        "from sklearn.tree import DecisionTreeRegressor\n",
        "tree_reg = DecisionTreeRegressor(random_state=42)\n",
        "tree_reg.fit(X_train, y_train)"
      ],
      "execution_count": 28,
      "outputs": [
        {
          "output_type": "execute_result",
          "data": {
            "text/plain": [
              "DecisionTreeRegressor(random_state=42)"
            ]
          },
          "metadata": {},
          "execution_count": 28
        }
      ]
    },
    {
      "cell_type": "markdown",
      "metadata": {
        "id": "WuGhK45NYA-E"
      },
      "source": [
        "## Validación cruzada de los modelos"
      ]
    },
    {
      "cell_type": "markdown",
      "metadata": {
        "id": "rgizO091YOQH"
      },
      "source": [
        "Primero el SVM.\n",
        "\n",
        "Usamos validación cruzada con k=3. (Nota: Habitualmente se usa una k=10. Usamos k=3 por motivo de que los modelos se entrenen más rápido en el laboratorio).\n",
        "\n",
        "El conjunto de entrenamiento se divide en 3 partes de forma aleatoria, se entrena con 2 de ellas y se hace test con la tercera. El resultado es un array con 3 resultados."
      ]
    },
    {
      "cell_type": "code",
      "metadata": {
        "id": "lxQ8adcToSYw"
      },
      "source": [
        "import numpy as np\n",
        "\n",
        "from sklearn.model_selection import cross_val_score\n",
        "\n",
        "svm_scores = cross_val_score(svm_reg, X_train, y_train, scoring=\"neg_mean_squared_error\", cv=3)\n",
        "svm_rmse_scores = np.sqrt(-svm_scores)"
      ],
      "execution_count": 29,
      "outputs": []
    },
    {
      "cell_type": "markdown",
      "metadata": {
        "id": "zDFkdMhqmTJY"
      },
      "source": [
        "La función de cross-validation de Scikit-Learn espera una función que marque que mayor es mejor en lugar de una funión de coste (menor es mejor), por ello la función score es el opuesto de del Error Cuadrático Medio (MSE). Así, el código anterior calcula -scores antes de hacer la raíz cuadrada del error cuadrático medio. Recordar que el RMSE nos permite interpretar el error cometido en las mismas unidades de la variable objetivo. "
      ]
    },
    {
      "cell_type": "markdown",
      "metadata": {
        "id": "Km9OMLytaZfe"
      },
      "source": [
        "Como tenemos 3 folds podemos hacer la media y calcular la desviación típica de los resultados."
      ]
    },
    {
      "cell_type": "code",
      "metadata": {
        "id": "0GbjU5wqfapH",
        "colab": {
          "base_uri": "https://localhost:8080/"
        },
        "outputId": "440b8dd6-0ac6-482a-d0d4-fdbac1eb80bb"
      },
      "source": [
        "def display_scores(scores):\n",
        "    print(\"Scores:\", scores)\n",
        "    print(\"Mean:\", scores.mean())\n",
        "    print(\"Standard deviation:\", scores.std())\n",
        "display_scores(svm_rmse_scores)"
      ],
      "execution_count": 30,
      "outputs": [
        {
          "output_type": "stream",
          "name": "stdout",
          "text": [
            "Scores: [75.44008165 74.32625658 71.84309681]\n",
            "Mean: 73.86981167866297\n",
            "Standard deviation: 1.503513984198996\n"
          ]
        }
      ]
    },
    {
      "cell_type": "markdown",
      "metadata": {
        "id": "cUbLFW9Kcu-o"
      },
      "source": [
        "Obtenermos un error medio cercano a 74 puntos.\n",
        "\n",
        "Ahora, del árbol de decisión"
      ]
    },
    {
      "cell_type": "code",
      "metadata": {
        "id": "JTCzBEEFfapF",
        "colab": {
          "base_uri": "https://localhost:8080/"
        },
        "outputId": "5dac3424-c826-4c3c-af9b-870ad1a8304c"
      },
      "source": [
        "scores = cross_val_score(tree_reg, X_train, y_train,\n",
        "                         scoring=\"neg_mean_squared_error\", cv=3)\n",
        "tree_rmse_scores = np.sqrt(-scores)\n",
        "display_scores(tree_rmse_scores)"
      ],
      "execution_count": 31,
      "outputs": [
        {
          "output_type": "stream",
          "name": "stdout",
          "text": [
            "Scores: [76.29903258 82.97314248 82.48973   ]\n",
            "Mean: 80.58730168710123\n",
            "Standard deviation: 3.0386796307312474\n"
          ]
        }
      ]
    },
    {
      "cell_type": "markdown",
      "metadata": {
        "id": "iNY82M29dC8A"
      },
      "source": [
        "Obtenemos un resultado algo peor."
      ]
    },
    {
      "cell_type": "markdown",
      "metadata": {
        "id": "E0EWJMJUZOto"
      },
      "source": [
        "Tratamos de crear un Random Forest. Los fundamentos los explicaremos en el tema siguiente. Por ahora, saber simplemente que es un conjunto de árboles de decisión.\n",
        "\n"
      ]
    },
    {
      "cell_type": "code",
      "metadata": {
        "id": "xYZUq30SfapJ",
        "colab": {
          "base_uri": "https://localhost:8080/"
        },
        "outputId": "3ebc9b9c-2d24-4088-8eeb-ed335ce930d7"
      },
      "source": [
        "from sklearn.ensemble import RandomForestRegressor\n",
        "forest_reg = RandomForestRegressor(random_state=42)\n",
        "forest_reg.get_params() #Obtiene los valores de los hiperparámetros que se han usado al definir el modelo"
      ],
      "execution_count": 32,
      "outputs": [
        {
          "output_type": "execute_result",
          "data": {
            "text/plain": [
              "{'bootstrap': True,\n",
              " 'ccp_alpha': 0.0,\n",
              " 'criterion': 'mse',\n",
              " 'max_depth': None,\n",
              " 'max_features': 'auto',\n",
              " 'max_leaf_nodes': None,\n",
              " 'max_samples': None,\n",
              " 'min_impurity_decrease': 0.0,\n",
              " 'min_impurity_split': None,\n",
              " 'min_samples_leaf': 1,\n",
              " 'min_samples_split': 2,\n",
              " 'min_weight_fraction_leaf': 0.0,\n",
              " 'n_estimators': 100,\n",
              " 'n_jobs': None,\n",
              " 'oob_score': False,\n",
              " 'random_state': 42,\n",
              " 'verbose': 0,\n",
              " 'warm_start': False}"
            ]
          },
          "metadata": {},
          "execution_count": 32
        }
      ]
    },
    {
      "cell_type": "code",
      "metadata": {
        "id": "7h0LOBNSfapR",
        "colab": {
          "base_uri": "https://localhost:8080/"
        },
        "outputId": "d60910c0-fc9d-499e-8f83-e380519e05e8"
      },
      "source": [
        "scores = cross_val_score(forest_reg, X_train, y_train, scoring=\"neg_mean_squared_error\", cv=3)\n",
        "forest_rmse_scores = np.sqrt(-scores)\n",
        "display_scores(forest_rmse_scores)"
      ],
      "execution_count": 33,
      "outputs": [
        {
          "output_type": "stream",
          "name": "stdout",
          "text": [
            "Scores: [56.12612733 64.14891558 58.61625271]\n",
            "Mean: 59.63043187364237\n",
            "Standard deviation: 3.3528795940096567\n"
          ]
        }
      ]
    },
    {
      "cell_type": "markdown",
      "metadata": {
        "id": "0PLbcxAFdfDX"
      },
      "source": [
        "Mejora el resultado con un error medio de aproximadamente 60 puntos."
      ]
    },
    {
      "cell_type": "markdown",
      "metadata": {
        "id": "N8YBj9tBfapF"
      },
      "source": [
        "# Ajustar los parámetros del modelo"
      ]
    },
    {
      "cell_type": "markdown",
      "metadata": {
        "id": "UXOJ3ep1gGHo"
      },
      "source": [
        "# Grid Search"
      ]
    },
    {
      "cell_type": "markdown",
      "metadata": {
        "id": "7CjV9CP4gLTT"
      },
      "source": [
        "En lugar de probar parámetros manualmente, podemos indicar con qué hiperparámetros queremos experimentar y qué valores para ellos queremos probar. El método de búsqueda por cuadrícula evaluará todas las posibles combinaciones, usando validación cruzada. \n"
      ]
    },
    {
      "cell_type": "markdown",
      "metadata": {
        "id": "3_iTbfoahM0D"
      },
      "source": [
        "En el siguiente código se busca la mejor combinación para los parámetros 'n_estimators' con [30, 100, 300] y  'max_features' con [3, 6, 8, 'auto'] para los hiperparámetros de un RandomForestRegressor. \n",
        "Por defecto, ha usado antes 'n_estimators=100' y 'max_features=auto'\n",
        "\n",
        "La búsqueda explorará 12 combinaciones del RandomForestRegressor, entrenará el modelo 3 veces (ya que hemos indicado 3-fold cross validation). En otras palabras, tendremos 12 × 3 = 36\n",
        "rondas de entrenamiento. Puede llevarle un tiempo, pero obtendremos la mejor combinación de hiperparámetros.\n",
        "\n",
        "Habitualmente se elige validación cruzada con 10 folds (o con 5). Elegimos aquí 3 para acelerar un poco los algoritmos en este laboratorio."
      ]
    },
    {
      "cell_type": "code",
      "metadata": {
        "id": "_P1cyQe0fapU",
        "colab": {
          "base_uri": "https://localhost:8080/"
        },
        "outputId": "9a4d2edf-e5cf-43c7-ede8-5f1f6f8f62d0"
      },
      "source": [
        "%%time\n",
        "from sklearn.model_selection import GridSearchCV\n",
        "\n",
        "param_grid = {\n",
        "    # 12 (3×4) combinaciones de hiperparámetros\n",
        "    'n_estimators': [30, 100, 300],\n",
        "    'max_features': [3, 6, 8, 'auto']\n",
        "    }   \n",
        "\n",
        "forest_reg = RandomForestRegressor(random_state=42) \n",
        "# entrena con 3 folds, es decir un total de 12*3=36 rondas de entrenamiento \n",
        "grid_search_RF = GridSearchCV(forest_reg, param_grid, cv=3,\n",
        "                           scoring='neg_mean_squared_error',\n",
        "                           refit= True, verbose=2, n_jobs=-1)\n",
        "grid_search_RF.fit(X_train, y_train)"
      ],
      "execution_count": 34,
      "outputs": [
        {
          "output_type": "stream",
          "name": "stdout",
          "text": [
            "Fitting 3 folds for each of 12 candidates, totalling 36 fits\n"
          ]
        },
        {
          "output_type": "stream",
          "name": "stderr",
          "text": [
            "[Parallel(n_jobs=-1)]: Using backend LokyBackend with 2 concurrent workers.\n",
            "[Parallel(n_jobs=-1)]: Done  36 out of  36 | elapsed:   10.3s finished\n"
          ]
        },
        {
          "output_type": "stream",
          "name": "stdout",
          "text": [
            "CPU times: user 784 ms, sys: 87.6 ms, total: 872 ms\n",
            "Wall time: 10.9 s\n"
          ]
        }
      ]
    },
    {
      "cell_type": "markdown",
      "metadata": {
        "id": "ZmqxCjXHfapW"
      },
      "source": [
        "Podemos acceder a la mejor combinación de hiperparámetros en *best_params_*:"
      ]
    },
    {
      "cell_type": "code",
      "metadata": {
        "id": "vR0N9up1fapW",
        "colab": {
          "base_uri": "https://localhost:8080/"
        },
        "outputId": "346e8b0c-296d-4f25-fad8-37d37929f1dd"
      },
      "source": [
        "grid_search_RF.best_params_"
      ],
      "execution_count": 35,
      "outputs": [
        {
          "output_type": "execute_result",
          "data": {
            "text/plain": [
              "{'max_features': 3, 'n_estimators': 300}"
            ]
          },
          "metadata": {},
          "execution_count": 35
        }
      ]
    },
    {
      "cell_type": "markdown",
      "metadata": {
        "id": "zrpOB8Hah7bM"
      },
      "source": [
        "También se pode acceder al mejor modelo directamente en *best_estimator_*:"
      ]
    },
    {
      "cell_type": "code",
      "metadata": {
        "id": "45fv6XtlfapY",
        "colab": {
          "base_uri": "https://localhost:8080/"
        },
        "outputId": "9756e680-3b3b-49a6-e815-183d9006e862"
      },
      "source": [
        "grid_search_RF.best_estimator_"
      ],
      "execution_count": 36,
      "outputs": [
        {
          "output_type": "execute_result",
          "data": {
            "text/plain": [
              "RandomForestRegressor(max_features=3, n_estimators=300, random_state=42)"
            ]
          },
          "metadata": {},
          "execution_count": 36
        }
      ]
    },
    {
      "cell_type": "markdown",
      "metadata": {
        "id": "AudVQ0tKiT-_"
      },
      "source": [
        "Como el parámetro **refit** de GridSearchCV tiene el valor True (por defecto), entonces una vez encuentra el mejor modelo usando validación cruzada, se reentrena el mejor modelo con todos los datos de entrenamiento."
      ]
    },
    {
      "cell_type": "markdown",
      "metadata": {
        "id": "OcJ-R-R2XV3e"
      },
      "source": [
        "Accedemos al resultado del mejor modelo en *best_score_*"
      ]
    },
    {
      "cell_type": "code",
      "metadata": {
        "id": "tE2eSGDcXTVU",
        "colab": {
          "base_uri": "https://localhost:8080/"
        },
        "outputId": "19f8a927-7e66-4e97-86dd-a7c09b38b646"
      },
      "source": [
        "negative_mse = grid_search_RF.best_score_\n",
        "rmse = np.sqrt(-negative_mse)\n",
        "rmse"
      ],
      "execution_count": 37,
      "outputs": [
        {
          "output_type": "execute_result",
          "data": {
            "text/plain": [
              "57.25330008381234"
            ]
          },
          "metadata": {},
          "execution_count": 37
        }
      ]
    },
    {
      "cell_type": "markdown",
      "metadata": {
        "id": "GZP3hQlpfapZ"
      },
      "source": [
        "Podemos acceder al resultado de todos los estimadores testados durante la búsqueda por cuadrícula:"
      ]
    },
    {
      "cell_type": "code",
      "metadata": {
        "id": "be8u-myGfapZ",
        "colab": {
          "base_uri": "https://localhost:8080/"
        },
        "outputId": "bd8dd9f6-3f69-4786-c391-eaf624066c11"
      },
      "source": [
        "cvres = grid_search_RF.cv_results_\n",
        "for mean_score, params in zip(cvres[\"mean_test_score\"], cvres[\"params\"]):\n",
        "    print(np.sqrt(-mean_score), params)"
      ],
      "execution_count": 38,
      "outputs": [
        {
          "output_type": "stream",
          "name": "stdout",
          "text": [
            "58.87807465618285 {'max_features': 3, 'n_estimators': 30}\n",
            "57.52122537271336 {'max_features': 3, 'n_estimators': 100}\n",
            "57.25330008381234 {'max_features': 3, 'n_estimators': 300}\n",
            "59.3967947690589 {'max_features': 6, 'n_estimators': 30}\n",
            "58.45983587918955 {'max_features': 6, 'n_estimators': 100}\n",
            "57.98039799163481 {'max_features': 6, 'n_estimators': 300}\n",
            "60.63682802688271 {'max_features': 8, 'n_estimators': 30}\n",
            "59.335775330199624 {'max_features': 8, 'n_estimators': 100}\n",
            "58.69285061929609 {'max_features': 8, 'n_estimators': 300}\n",
            "60.15638993685321 {'max_features': 'auto', 'n_estimators': 30}\n",
            "59.72461977282928 {'max_features': 'auto', 'n_estimators': 100}\n",
            "58.99224792465137 {'max_features': 'auto', 'n_estimators': 300}\n"
          ]
        }
      ]
    },
    {
      "cell_type": "markdown",
      "metadata": {
        "id": "NAim1DY7iZA3"
      },
      "source": [
        "En este ejemplo, obtenemos la mejor solución para los hiperparámtros max_features = 3, n_estimators= 300. El RMSE para esta combinación es aproximadamente 57 puntos, que es mejor que la que obteníamos en nuestro primer intento."
      ]
    },
    {
      "cell_type": "markdown",
      "metadata": {
        "id": "f0sNZqpx9BjG"
      },
      "source": [
        "## Ejercicios Grid Search. "
      ]
    },
    {
      "cell_type": "markdown",
      "metadata": {
        "id": "OJNEngaC9Bjb"
      },
      "source": [
        "Trataremos de buscar una combinación adecuada de hiperparámetros para un modelo Support Vector Machine Regressor (`sklearn.svm.SVR`). Definimos a continuación el modelo.  "
      ]
    },
    {
      "cell_type": "code",
      "metadata": {
        "id": "Mzn9zaE19Bjc"
      },
      "source": [
        "from sklearn.model_selection import GridSearchCV\n",
        "from sklearn.svm import SVR\n",
        "svm_reg = SVR()"
      ],
      "execution_count": 39,
      "outputs": []
    },
    {
      "cell_type": "markdown",
      "metadata": {
        "id": "6LSQBTSl9OYY"
      },
      "source": [
        "PREGUNTA: ¿Qué parámetros ha utilizado por defecto el modelo?"
      ]
    },
    {
      "cell_type": "code",
      "metadata": {
        "id": "k1Fd8qQt9WQp"
      },
      "source": [
        "#Solución\n"
      ],
      "execution_count": 40,
      "outputs": []
    },
    {
      "cell_type": "markdown",
      "metadata": {
        "id": "r15H6YJd9Bjd"
      },
      "source": [
        "EJERCICIO:\n",
        "Utilizar el métod de GridSearch para encontrar la mejor combinación de hiperparámetros para el hiperparámetro 'kernel', 'C' y 'gamma'.\n",
        "\n",
        "En particular para: \n",
        "\n",
        "- 'kernel': ['linear'], 'C': [1.0, 3.0];\n",
        "\n",
        "o\n",
        "\n",
        "- 'kernel': ['rbf'], 'C': [1.0, 3.0, 5.0],        'gamma': [0.01, 0.1, 1.0]\n",
        "\n",
        "\n",
        "(Poner entre corchetes [] dos listas {} separadas por una coma)\n",
        "\n",
        "Usa cross validation con tres folds."
      ]
    },
    {
      "cell_type": "code",
      "metadata": {
        "id": "gVOVBp1dv2yX",
        "colab": {
          "base_uri": "https://localhost:8080/"
        },
        "outputId": "c8843c1a-e0af-4a42-be8b-40987f787850"
      },
      "source": [
        "#SOLUCIÓN\n",
        "param_grid = [\n",
        "              {'kernel':['linear'], 'C': [1.0, 30.]},\n",
        "              {'kernel': [1.0, 3.0, 5.0],'gamma': [0.01, 0.1, 1.0]}\n",
        "             ]\n",
        "grid_search_svm_reg = GridSearchCV(svm_reg, param_grid, cv=3, scoring='neg_mean_squared_error', verbose=3, n_jobs=-1)\n",
        "grid_search_svm_reg.fit(X_train, y_train)"
      ],
      "execution_count": 41,
      "outputs": [
        {
          "output_type": "stream",
          "name": "stdout",
          "text": [
            "Fitting 3 folds for each of 11 candidates, totalling 33 fits\n"
          ]
        },
        {
          "output_type": "stream",
          "name": "stderr",
          "text": [
            "[Parallel(n_jobs=-1)]: Using backend LokyBackend with 2 concurrent workers.\n",
            "[Parallel(n_jobs=-1)]: Done  30 out of  33 | elapsed:    0.1s remaining:    0.0s\n",
            "[Parallel(n_jobs=-1)]: Done  33 out of  33 | elapsed:    0.2s finished\n"
          ]
        },
        {
          "output_type": "execute_result",
          "data": {
            "text/plain": [
              "GridSearchCV(cv=3, estimator=SVR(), n_jobs=-1,\n",
              "             param_grid=[{'C': [1.0, 30.0], 'kernel': ['linear']},\n",
              "                         {'gamma': [0.01, 0.1, 1.0],\n",
              "                          'kernel': [1.0, 3.0, 5.0]}],\n",
              "             scoring='neg_mean_squared_error', verbose=3)"
            ]
          },
          "metadata": {},
          "execution_count": 41
        }
      ]
    },
    {
      "cell_type": "markdown",
      "metadata": {
        "id": "IXMhGnPi96f5"
      },
      "source": [
        "PREGUNTA:\n",
        "¿Qué RMSE alcanza la mejor solución?"
      ]
    },
    {
      "cell_type": "code",
      "metadata": {
        "id": "BN_C05Kl9Bjg"
      },
      "source": [
        "#RESPUESTA \n"
      ],
      "execution_count": 42,
      "outputs": []
    },
    {
      "cell_type": "markdown",
      "metadata": {
        "id": "m17bhJoo-XEz"
      },
      "source": [
        "PREGUNTA:\n",
        "¿Cuál es la mejor combinación de hiperparámetros?"
      ]
    },
    {
      "cell_type": "code",
      "metadata": {
        "id": "Z3xMcMmn9Bjh"
      },
      "source": [
        "#RESPUESTA\n"
      ],
      "execution_count": 43,
      "outputs": []
    },
    {
      "cell_type": "markdown",
      "metadata": {
        "id": "u4-0cA5EsZLn"
      },
      "source": [
        "EJERCICIO: Obtén los resultados de todos los hiperparámetros que ha probado. ¿Puedes extraer alguna conclusión sobre los parámetros usados en la mejor opción? Por ejemplo, si el parámetro elegido como mejor opción es el mayor (o menor) usado, podría valer la pena incluir mayores (o menores valores) para ese parámetro."
      ]
    },
    {
      "cell_type": "code",
      "metadata": {
        "id": "obFXw3CJ9Bjg",
        "colab": {
          "base_uri": "https://localhost:8080/"
        },
        "outputId": "7c06fd8e-b62c-4f90-e85f-a2ccd7d65fcc"
      },
      "source": [
        "#RESPUESTA:\n",
        "cvres = grid_search_RF.cv_results_\n",
        "for mean_score, params in zip(cvres[\"mean_test_score\"],cvres[\"params\"]):\n",
        "  print(np.sqrt(-mean_score),params)"
      ],
      "execution_count": 44,
      "outputs": [
        {
          "output_type": "stream",
          "name": "stdout",
          "text": [
            "58.87807465618285 {'max_features': 3, 'n_estimators': 30}\n",
            "57.52122537271336 {'max_features': 3, 'n_estimators': 100}\n",
            "57.25330008381234 {'max_features': 3, 'n_estimators': 300}\n",
            "59.3967947690589 {'max_features': 6, 'n_estimators': 30}\n",
            "58.45983587918955 {'max_features': 6, 'n_estimators': 100}\n",
            "57.98039799163481 {'max_features': 6, 'n_estimators': 300}\n",
            "60.63682802688271 {'max_features': 8, 'n_estimators': 30}\n",
            "59.335775330199624 {'max_features': 8, 'n_estimators': 100}\n",
            "58.69285061929609 {'max_features': 8, 'n_estimators': 300}\n",
            "60.15638993685321 {'max_features': 'auto', 'n_estimators': 30}\n",
            "59.72461977282928 {'max_features': 'auto', 'n_estimators': 100}\n",
            "58.99224792465137 {'max_features': 'auto', 'n_estimators': 300}\n"
          ]
        }
      ]
    },
    {
      "cell_type": "markdown",
      "metadata": {
        "id": "o65WO6099Bji"
      },
      "source": [
        "Parece que el mejor \"C\" es al máximo testeado. Por ello, es conveniente repetir la búsqueda borrando los valores pequeños de C y cambiándolos por otros mayores."
      ]
    },
    {
      "cell_type": "markdown",
      "metadata": {
        "id": "-Uas_X0IwNLY"
      },
      "source": [
        "EJERCICIO (Opcional): Prueba a usar el kernel 'poly' con distintos valores para los parámetros 'C', 'gamma' y 'degree'; y el kernel 'sigmoid' con distintos valores para los parámetros 'C' y 'gamma'. Prueba también a cambiar el hiperparámetro 'epsilon' en todos los kernels ¿Consigues mejorar el resultado?"
      ]
    },
    {
      "cell_type": "code",
      "metadata": {
        "id": "JJIFD4XQ9Bje",
        "colab": {
          "base_uri": "https://localhost:8080/"
        },
        "outputId": "d3a11a19-f479-4438-a475-60b20a69ca61"
      },
      "source": [
        "#SOLUCIÓN\n",
        "%%time\n"
      ],
      "execution_count": 45,
      "outputs": [
        {
          "output_type": "stream",
          "name": "stderr",
          "text": [
            "UsageError: %%time is a cell magic, but the cell body is empty. Did you mean the line magic %time (single %)?\n"
          ]
        }
      ]
    },
    {
      "cell_type": "code",
      "metadata": {
        "id": "MlFXi4gswMS0"
      },
      "source": [
        "#RESPUESTA El mejor modelo alcanza el siguiente score, (usando 3-fold cross validation):\n"
      ],
      "execution_count": null,
      "outputs": []
    },
    {
      "cell_type": "markdown",
      "metadata": {
        "id": "kP5cASVbctTG"
      },
      "source": [
        "# Curva de validación"
      ]
    },
    {
      "cell_type": "markdown",
      "metadata": {
        "id": "dNd7plWccxHy"
      },
      "source": [
        "Determina los resultados del modelo cuando varía el valor de un parámetro. Para ello realiza validación cruzada sobre el conjunto de entrenamiento y permite representar los resultados (sobre entrenamiento y validación) para detectar, por ejemplo, si variar un determinado valor produce sobreentrenamiento.\n",
        "\n",
        "Es similar a una búsqueda en red pero con un único parámetro.\n",
        "\n"
      ]
    },
    {
      "cell_type": "code",
      "metadata": {
        "id": "1UIQN6kQaaQ-",
        "colab": {
          "base_uri": "https://localhost:8080/",
          "height": 0
        },
        "outputId": "447ad46c-420a-41fe-b1c7-14a02a7b3642"
      },
      "source": [
        "import matplotlib.pyplot as plt\n",
        "import numpy as np\n",
        "from sklearn.model_selection import validation_curve\n",
        "\n",
        "#Lista de parámetros\n",
        "param_range = list(range(2,10,2)) \n",
        "\n",
        "#Curva de validación\n",
        "train_scores, validation_scores = validation_curve(    \n",
        "    forest_reg, X_train, y_train, param_name=\"max_depth\", param_range=param_range,\n",
        "    scoring='neg_root_mean_squared_error', cv=3, n_jobs=1)\n",
        "\n",
        "#Pintamos la curva\n",
        "train_scores_mean = np.mean(train_scores, axis=1)\n",
        "train_scores_std = np.std(train_scores, axis=1)\n",
        "validation_scores_mean = np.mean(validation_scores, axis=1)\n",
        "validation_scores_std = np.std(validation_scores, axis=1)\n",
        "\n",
        "plt.title(\"Curva de validation para forest regressor\")\n",
        "plt.xlabel(r\"max_depth\")\n",
        "plt.ylabel(\"Score\")\n",
        "lw = 2\n",
        "plt.plot(param_range, train_scores_mean, label=\"Training score\",\n",
        "             color=\"darkorange\", lw=lw)\n",
        "plt.fill_between(param_range, train_scores_mean - train_scores_std,\n",
        "                 train_scores_mean + train_scores_std, alpha=0.2,\n",
        "                 color=\"darkorange\", lw=lw)\n",
        "plt.plot(param_range, validation_scores_mean, label=\"Cross-validation score\",\n",
        "             color=\"navy\", lw=lw)\n",
        "plt.fill_between(param_range, validation_scores_mean - validation_scores_std,\n",
        "                 validation_scores_mean + validation_scores_std, alpha=0.2,\n",
        "                 color=\"navy\", lw=lw)\n",
        "plt.legend(loc=\"best\")\n",
        "plt.show()"
      ],
      "execution_count": 46,
      "outputs": [
        {
          "output_type": "display_data",
          "data": {
            "image/png": "[encoded data removed]",
            "text/plain": [
              "<Figure size 432x288 with 1 Axes>"
            ]
          },
          "metadata": {
            "needs_background": "light"
          }
        }
      ]
    },
    {
      "cell_type": "markdown",
      "metadata": {
        "id": "YrdHpwvCk3OJ"
      },
      "source": [
        "Se observa que variar el parámetro \"máxima profundidad\" mejora el entrenamiento, pero produce sobre-entrenamiento. De hecho aumenta ligeramente el resultado hasta 4 características y después disminuye."
      ]
    },
    {
      "cell_type": "markdown",
      "metadata": {
        "id": "SFowrnqcYijK"
      },
      "source": [
        "## Ejercicios Curva de validación"
      ]
    },
    {
      "cell_type": "markdown",
      "metadata": {
        "id": "M16ayaQSYpEX"
      },
      "source": [
        "EJERCICIO: Obtén la curva de validación para método de random forest anterior para el parámetro 'n_estimators' entre 10 y 200, con incrementos de 10. Da una interpretación a la gráfica obtenida."
      ]
    },
    {
      "cell_type": "code",
      "metadata": {
        "id": "xW-tY1gl2TWQ"
      },
      "source": [
        "# Solución\n"
      ],
      "execution_count": 47,
      "outputs": []
    },
    {
      "cell_type": "code",
      "metadata": {
        "outputId": "049d97ee-6fa7-4494-d6b1-6302e6566e49",
        "colab": {
          "base_uri": "https://localhost:8080/",
          "height": 0
        },
        "id": "t0bOVdQJqSAH"
      },
      "source": [
        "import matplotlib.pyplot as plt\n",
        "import numpy as np\n",
        "from sklearn.model_selection import validation_curve\n",
        "\n",
        "#Lista de parámetros\n",
        "param_range = list(range(10,200,10)) \n",
        "\n",
        "#Curva de validación\n",
        "train_scores, validation_scores = validation_curve(    \n",
        "    forest_reg, X_train, y_train, param_name=\"max_depth\", param_range=param_range,\n",
        "    scoring='neg_root_mean_squared_error', cv=3, n_jobs=1)\n",
        "\n",
        "#Pintamos la curva\n",
        "train_scores_mean = np.mean(train_scores, axis=1)\n",
        "train_scores_std = np.std(train_scores, axis=1)\n",
        "validation_scores_mean = np.mean(validation_scores, axis=1)\n",
        "validation_scores_std = np.std(validation_scores, axis=1)\n",
        "\n",
        "plt.title(\"Curva de validation para forest regressor\")\n",
        "plt.xlabel(r\"n_estimators\")\n",
        "plt.ylabel(\"Score\")\n",
        "lw = 2\n",
        "plt.plot(param_range, train_scores_mean, label=\"Training score\",\n",
        "             color=\"darkorange\", lw=lw)\n",
        "plt.fill_between(param_range, train_scores_mean - train_scores_std,\n",
        "                 train_scores_mean + train_scores_std, alpha=0.2,\n",
        "                 color=\"darkorange\", lw=lw)\n",
        "plt.plot(param_range, validation_scores_mean, label=\"Cross-validation score\",\n",
        "             color=\"navy\", lw=lw)\n",
        "plt.fill_between(param_range, validation_scores_mean - validation_scores_std,\n",
        "                 validation_scores_mean + validation_scores_std, alpha=0.2,\n",
        "                 color=\"navy\", lw=lw)\n",
        "plt.legend(loc=\"best\")\n",
        "plt.show()"
      ],
      "execution_count": 48,
      "outputs": [
        {
          "output_type": "display_data",
          "data": {
            "image/png": "[encoded data removed]",
            "text/plain": [
              "<Figure size 432x288 with 1 Axes>"
            ]
          },
          "metadata": {
            "needs_background": "light"
          }
        }
      ]
    },
    {
      "cell_type": "markdown",
      "metadata": {
        "id": "0YXX4BCc5xil"
      },
      "source": [
        "EJERCICIO (Opcional): Obtén la curva de validación para método de SVR anterior para el parámetro 'C' entre 0.1 y 40, con incrementos de 0.5. Da una interpretación a la gráfica obtenida."
      ]
    },
    {
      "cell_type": "code",
      "metadata": {
        "id": "xO5JVlG-agYt"
      },
      "source": [
        "#Solución\n"
      ],
      "execution_count": 49,
      "outputs": []
    },
    {
      "cell_type": "code",
      "metadata": {
        "outputId": "244d82fd-80b8-4c41-b1c2-ac470ff0823f",
        "colab": {
          "base_uri": "https://localhost:8080/",
          "height": 0
        },
        "id": "q3zogWe7rJf6"
      },
      "source": [
        "import matplotlib.pyplot as plt\n",
        "import numpy as np\n",
        "from sklearn.model_selection import validation_curve\n",
        "\n",
        "#Lista de parámetros\n",
        "param_range = list(range(1,40,5)) \n",
        "\n",
        "#Curva de validación\n",
        "train_scores, validation_scores = validation_curve(    \n",
        "    forest_reg, X_train, y_train, param_name=\"max_depth\", param_range=param_range,\n",
        "    scoring='neg_root_mean_squared_error', cv=3, n_jobs=1)\n",
        "\n",
        "#Pintamos la curva\n",
        "train_scores_mean = np.mean(train_scores, axis=1)\n",
        "train_scores_std = np.std(train_scores, axis=1)\n",
        "validation_scores_mean = np.mean(validation_scores, axis=1)\n",
        "validation_scores_std = np.std(validation_scores, axis=1)\n",
        "\n",
        "plt.title(\"Curva de validation para forest regressor\")\n",
        "plt.xlabel(r\"max_depth\")\n",
        "plt.ylabel(\"Score\")\n",
        "lw = 2\n",
        "plt.plot(param_range, train_scores_mean, label=\"Training score\",\n",
        "             color=\"darkorange\", lw=lw)\n",
        "plt.fill_between(param_range, train_scores_mean - train_scores_std,\n",
        "                 train_scores_mean + train_scores_std, alpha=0.2,\n",
        "                 color=\"darkorange\", lw=lw)\n",
        "plt.plot(param_range, validation_scores_mean, label=\"Cross-validation score\",\n",
        "             color=\"navy\", lw=lw)\n",
        "plt.fill_between(param_range, validation_scores_mean - validation_scores_std,\n",
        "                 validation_scores_mean + validation_scores_std, alpha=0.2,\n",
        "                 color=\"navy\", lw=lw)\n",
        "plt.legend(loc=\"best\")\n",
        "plt.show()"
      ],
      "execution_count": 50,
      "outputs": [
        {
          "output_type": "display_data",
          "data": {
            "image/png": "[encoded data removed]",
            "text/plain": [
              "<Figure size 432x288 with 1 Axes>"
            ]
          },
          "metadata": {
            "needs_background": "light"
          }
        }
      ]
    },
    {
      "cell_type": "markdown",
      "metadata": {
        "id": "0ThCLvR_iF6q"
      },
      "source": [
        "# Random Search"
      ]
    },
    {
      "cell_type": "markdown",
      "metadata": {
        "id": "ZjEb_UkTi-R2"
      },
      "source": [
        "La búsqueda aleatoria evalúa un número determinado de combinaciones seleccionando un valor aleatorio para cada hiperparámetro en cada iteración (en lugar de fijar los valores en los que buscar). Este enfoque tiene dos beneficios principales:\n",
        "\n",
        "- Si se deja que la búsqueda aleatoria se realice para, digamos, 1.000 iteraciones, este enfoque explorará 1.000 valores diferentes para cada hiperparámetro (en lugar de sólo unos pocos valores por hiperparámetro con el enfoque de búsqueda en cuadrícula).\n",
        "- Se tiene más control sobre la cantidad de computación que desea asignar a la búsqueda de hiperparámetros, simplemente estableciendo el número de iteraciones."
      ]
    },
    {
      "cell_type": "code",
      "metadata": {
        "id": "yn_IjSP1fapc",
        "colab": {
          "base_uri": "https://localhost:8080/"
        },
        "outputId": "600ed3ff-70c6-43c5-8fd8-462d146b3c57"
      },
      "source": [
        "%%time\n",
        "\n",
        "from sklearn.model_selection import RandomizedSearchCV\n",
        "from scipy.stats import randint\n",
        "\n",
        "# ver https://docs.scipy.org/doc/scipy/reference/stats.html\n",
        "# para documentación sobre posibles funciones de distribución de probalidad.\n",
        "\n",
        "param_distribs = {\n",
        "        'n_estimators': randint(low=30, high=300), #A uniform discrete random variable.\n",
        "        'max_features': randint(low=2, high=10)\n",
        "    }\n",
        "\n",
        "forest_reg = RandomForestRegressor(random_state=42) \n",
        "\n",
        "rnd_search_RF = RandomizedSearchCV(forest_reg, param_distributions=param_distribs,\n",
        "                                n_iter=10, cv=3, scoring='neg_mean_squared_error', random_state=42, verbose=2, n_jobs=-1)\n",
        "\n",
        "rnd_search_RF.fit(X_train, y_train)\n",
        "\n",
        "negative_mse = rnd_search_RF.best_score_\n",
        "rmse = np.sqrt(-negative_mse)\n",
        "print(\"rmse del mejor modelo\", rmse)"
      ],
      "execution_count": 51,
      "outputs": [
        {
          "output_type": "stream",
          "name": "stdout",
          "text": [
            "Fitting 3 folds for each of 10 candidates, totalling 30 fits\n"
          ]
        },
        {
          "output_type": "stream",
          "name": "stderr",
          "text": [
            "[Parallel(n_jobs=-1)]: Using backend LokyBackend with 2 concurrent workers.\n",
            "[Parallel(n_jobs=-1)]: Done  30 out of  30 | elapsed:    9.0s finished\n"
          ]
        },
        {
          "output_type": "stream",
          "name": "stdout",
          "text": [
            "rmse del mejor modelo 57.380655404005566\n",
            "CPU times: user 645 ms, sys: 25 ms, total: 670 ms\n",
            "Wall time: 9.53 s\n"
          ]
        }
      ]
    },
    {
      "cell_type": "code",
      "metadata": {
        "id": "q_cqK1PCmAHt",
        "colab": {
          "base_uri": "https://localhost:8080/"
        },
        "outputId": "c98d5a47-4ff8-4d4c-9a3d-2e6fd8bd1239"
      },
      "source": [
        "rnd_search_RF.best_params_"
      ],
      "execution_count": 52,
      "outputs": [
        {
          "output_type": "execute_result",
          "data": {
            "text/plain": [
              "{'max_features': 3, 'n_estimators': 244}"
            ]
          },
          "metadata": {},
          "execution_count": 52
        }
      ]
    },
    {
      "cell_type": "markdown",
      "source": [
        "Las opciones que ha probado son:"
      ],
      "metadata": {
        "id": "Lncgzx6Ik9qB"
      }
    },
    {
      "cell_type": "code",
      "metadata": {
        "id": "3HP_PBkTfape",
        "colab": {
          "base_uri": "https://localhost:8080/"
        },
        "outputId": "8d19f49c-28ef-4173-d211-36ea5c097aa7"
      },
      "source": [
        "cvres = rnd_search_RF.cv_results_\n",
        "for mean_score, params in zip(cvres[\"mean_test_score\"], cvres[\"params\"]):\n",
        "    print(np.sqrt(-mean_score), params)"
      ],
      "execution_count": 53,
      "outputs": [
        {
          "output_type": "stream",
          "name": "stdout",
          "text": [
            "59.01024058917472 {'max_features': 8, 'n_estimators': 136}\n",
            "58.899733902105936 {'max_features': 9, 'n_estimators': 218}\n",
            "58.438668465294924 {'max_features': 6, 'n_estimators': 132}\n",
            "57.380655404005566 {'max_features': 3, 'n_estimators': 244}\n",
            "57.461174101148394 {'max_features': 4, 'n_estimators': 117}\n",
            "58.46932035459565 {'max_features': 6, 'n_estimators': 129}\n",
            "58.827479879303425 {'max_features': 9, 'n_estimators': 181}\n",
            "57.40578930884499 {'max_features': 4, 'n_estimators': 179}\n",
            "57.943134856237585 {'max_features': 6, 'n_estimators': 287}\n",
            "58.891985585400334 {'max_features': 9, 'n_estimators': 221}\n"
          ]
        }
      ]
    },
    {
      "cell_type": "markdown",
      "metadata": {
        "id": "nw_JI1NJkjCw"
      },
      "source": [
        "Se obtiene un error similar (es un poco peor) probando 10 candidatos."
      ]
    },
    {
      "cell_type": "markdown",
      "metadata": {
        "id": "v4dTj62WlMKf"
      },
      "source": [
        "Vamos a evaluar los mejores modelos encontrados con grid search y con random search sobre el conjunto de test. \n"
      ]
    },
    {
      "cell_type": "code",
      "metadata": {
        "id": "uXbryv4pfapn",
        "colab": {
          "base_uri": "https://localhost:8080/"
        },
        "outputId": "7ca9ca11-7fc0-4c04-fa17-c60084ecfb1d"
      },
      "source": [
        "from sklearn.metrics import mean_squared_error\n",
        "\n",
        "final_model_grid_RF = grid_search_RF.best_estimator_\n",
        "\n",
        "final_predictions_grid_RF = final_model_grid_RF.predict(X_test)\n",
        "\n",
        "final_mse_grid = mean_squared_error(y_test, final_predictions_grid_RF)\n",
        "final_rmse_grid = np.sqrt(final_mse_grid)\n",
        "print('Mejor resultado con grid search sobre el conjunto de test',final_rmse_grid)"
      ],
      "execution_count": 54,
      "outputs": [
        {
          "output_type": "stream",
          "name": "stdout",
          "text": [
            "Mejor resultado con grid search sobre el conjunto de test 53.66166130378976\n"
          ]
        }
      ]
    },
    {
      "cell_type": "code",
      "metadata": {
        "id": "tt7CCiTajZNI",
        "colab": {
          "base_uri": "https://localhost:8080/"
        },
        "outputId": "7a8fa04a-7bb6-4e73-f4f2-6900f734bc30"
      },
      "source": [
        "final_model_rnd_RF = rnd_search_RF.best_estimator_\n",
        "final_predictions_rnd_RF = final_model_rnd_RF.predict(X_test)\n",
        "\n",
        "final_mse_rnd = mean_squared_error(y_test, final_predictions_rnd_RF)\n",
        "final_rmse_rnd = np.sqrt(final_mse_rnd)\n",
        "print('Mejor resultado con random search sobre el conjunto de test', final_rmse_rnd)"
      ],
      "execution_count": 55,
      "outputs": [
        {
          "output_type": "stream",
          "name": "stdout",
          "text": [
            "Mejor resultado con random search sobre el conjunto de test 53.62728128823331\n"
          ]
        }
      ]
    },
    {
      "cell_type": "markdown",
      "metadata": {
        "id": "BGyFPZNvnOrX"
      },
      "source": [
        "El rendimiento que obtenemos es un poco mejor en este caso, mirando menos alternativas. Debemos resistirnos a continuar haciendo ajuste de los hiperparámetros una vez testeado nuestro modelo en el conjunto de test, ya que las mejoras podrían no generalizarse a un nuevo conjunto de datos."
      ]
    },
    {
      "cell_type": "markdown",
      "metadata": {
        "id": "d6wuvHtwAb0w"
      },
      "source": [
        "## Ejercicios Random Search."
      ]
    },
    {
      "cell_type": "markdown",
      "metadata": {
        "id": "9RRJQFskALuM"
      },
      "source": [
        "EJERCICIO: Sobre el Ejercicio para Random Search para modelo Support Vector Machine Regressor cambiar la búsqueda GridSearchCV por una búsqueda RandomizedSearchCV."
      ]
    },
    {
      "cell_type": "markdown",
      "metadata": {
        "id": "bJstJDLFA2CF"
      },
      "source": [
        "Como distribuciones de búsqueda usar:\n",
        "\n",
        "- Un lista ['linear', 'rbf'] para el parámetro 'kernel'\n",
        "- loguniform(1, 20) para el parámetro 'C'\n",
        "- expon(scale=1.0) para el parámetro 'gamma'\n",
        "\n",
        "Utiliza un máximo de 10 modelos y cross validation con 3 folds.\n",
        "\n",
        "Podemos encontrar en el siguiente [enlace](https://docs.scipy.org/doc/scipy/reference/stats.html) documentación para las funciones de distribución de probabilidad `expon()` y `loguniform()`."
      ]
    },
    {
      "cell_type": "code",
      "metadata": {
        "id": "-7rt8TRjALuP"
      },
      "source": [
        "#Respuesta\n",
        "\n"
      ],
      "execution_count": 56,
      "outputs": []
    },
    {
      "cell_type": "code",
      "metadata": {
        "outputId": "cf9c70fc-22e3-4881-c9a8-b9173beeb915",
        "colab": {
          "base_uri": "https://localhost:8080/"
        },
        "id": "16XEpcdHsgLJ"
      },
      "source": [
        "%%time\n",
        "\n",
        "from sklearn.model_selection import RandomizedSearchCV\n",
        "from scipy.stats import randint\n"
      ],
      "execution_count": 57,
      "outputs": [
        {
          "output_type": "stream",
          "name": "stdout",
          "text": [
            "CPU times: user 20 µs, sys: 1e+03 ns, total: 21 µs\n",
            "Wall time: 26.2 µs\n"
          ]
        }
      ]
    },
    {
      "cell_type": "markdown",
      "metadata": {
        "id": "2iRQxAxWALuR"
      },
      "source": [
        "PREGUNTA:\n",
        "¿Cuál es el mejor RMSE que se obtiene?¿Cuáles son los hiperparámetros del modelo que obtiene este mejor resultado?"
      ]
    },
    {
      "cell_type": "code",
      "metadata": {
        "id": "U499wmYgALuR"
      },
      "source": [
        "#RESPUESTA: El mejor modelo se obtiene:"
      ],
      "execution_count": 58,
      "outputs": []
    },
    {
      "cell_type": "code",
      "metadata": {
        "id": "LNX5H3zbALuR"
      },
      "source": [
        "#RESPUESTA: Los hiperparámetros que usa son:"
      ],
      "execution_count": 59,
      "outputs": []
    },
    {
      "cell_type": "markdown",
      "metadata": {
        "id": "0B8yzZvtALuS"
      },
      "source": [
        "PREGUNTA: ¿Se supera el resultado obtenido con Grid Search? ¿Qué parámetros obtienen el mejor resultado?"
      ]
    },
    {
      "cell_type": "code",
      "metadata": {
        "id": "BwNZQ5PrALuS"
      },
      "source": [
        "#Respueta"
      ],
      "execution_count": 60,
      "outputs": []
    },
    {
      "cell_type": "markdown",
      "metadata": {
        "id": "SiDiysU4ALuT"
      },
      "source": [
        "EJERCICIO (Opcional): Fijarse que hemos decidido usar una escala con distribución logarítmica uniforme para C y exponencial para 'gamma'. \n",
        "En el siguiente gráfico representamos estas distribuciones para 1000 elementos. Explica brevemente qué repercusión tiene la anterior decisión en los valores elegidos para estas variables. Atendiendo al valor óptimo que hemos obtenido para el parámetro C, ¿crees que ha sido una buena decisión elegir la distribución logarítmica para C? "
      ]
    },
    {
      "cell_type": "code",
      "metadata": {
        "id": "onFx6VqeGiS4"
      },
      "source": [
        "#Respuesta"
      ],
      "execution_count": 61,
      "outputs": []
    },
    {
      "cell_type": "markdown",
      "metadata": {
        "id": "jablC-zX-hAt"
      },
      "source": [
        "EJERCICIO (Opcional): A la vista del resultado obtenido para C, ¿cambiarías de distribución estadística para este parámetro? Prueba a cambiar simplemente la escala a loguniform(1,200) y comprueba cuáles son los mejores valores para los hiperparámetros así como los resultados que obtienes tanto en el conjunto de validación como en el conjunto de test."
      ]
    },
    {
      "cell_type": "code",
      "metadata": {
        "id": "4GvKjTl1E1FU"
      },
      "source": [
        "#RESPUESTA\n"
      ],
      "execution_count": 62,
      "outputs": []
    },
    {
      "cell_type": "markdown",
      "metadata": {
        "id": "xb2KiP1WPsFw"
      },
      "source": [
        "# Optimización Bayesiana"
      ]
    },
    {
      "cell_type": "markdown",
      "metadata": {
        "id": "FTiSJF7ILKy4"
      },
      "source": [
        "Es un ejemplo de modelo secuencial que permiten utilizar los resultados de una iteración para mejorar el modelo en la siguiente. En particular permite construir un modelo de probabilidad bayesiano de la función objetivo y usarlo para seleccionar los parámetros más prometedores en la función objetivo real.\n",
        "\n"
      ]
    },
    {
      "cell_type": "markdown",
      "metadata": {
        "id": "O2Hs6kwfJ1fG"
      },
      "source": [
        "Existen varias librerías en python que han implementado métodos de optimización bayesiana. Entre ellas se encuentran [scikit-optimice](https://scikit-optimize.github.io/stable/) y [hyperopt](https://github.com/hyperopt/hyperopt)."
      ]
    },
    {
      "cell_type": "markdown",
      "metadata": {
        "id": "5PIdWYVKukSA"
      },
      "source": [
        "Usamos a continuación el método BayesSearchCV de la librería scikit-optimize"
      ]
    },
    {
      "cell_type": "code",
      "metadata": {
        "id": "lOaRMVnEQVXE",
        "colab": {
          "base_uri": "https://localhost:8080/"
        },
        "outputId": "fefae716-95d7-4710-cd6a-1e83b8e2a141"
      },
      "source": [
        "! pip install scikit-optimize"
      ],
      "execution_count": 63,
      "outputs": [
        {
          "output_type": "stream",
          "name": "stdout",
          "text": [
            "Requirement already satisfied: scikit-optimize in /usr/local/lib/python3.7/dist-packages (0.9.0)\n",
            "Requirement already satisfied: numpy>=1.13.3 in /usr/local/lib/python3.7/dist-packages (from scikit-optimize) (1.19.5)\n",
            "Requirement already satisfied: scipy>=0.19.1 in /usr/local/lib/python3.7/dist-packages (from scikit-optimize) (1.4.1)\n",
            "Requirement already satisfied: joblib>=0.11 in /usr/local/lib/python3.7/dist-packages (from scikit-optimize) (1.1.0)\n",
            "Requirement already satisfied: scikit-learn>=0.20.0 in /usr/local/lib/python3.7/dist-packages (from scikit-optimize) (0.23.2)\n",
            "Requirement already satisfied: pyaml>=16.9 in /usr/local/lib/python3.7/dist-packages (from scikit-optimize) (21.10.1)\n",
            "Requirement already satisfied: PyYAML in /usr/local/lib/python3.7/dist-packages (from pyaml>=16.9->scikit-optimize) (3.13)\n",
            "Requirement already satisfied: threadpoolctl>=2.0.0 in /usr/local/lib/python3.7/dist-packages (from scikit-learn>=0.20.0->scikit-optimize) (3.0.0)\n"
          ]
        }
      ]
    },
    {
      "cell_type": "code",
      "metadata": {
        "id": "mRC38f-aSMMm"
      },
      "source": [
        "from skopt import BayesSearchCV"
      ],
      "execution_count": 64,
      "outputs": []
    },
    {
      "cell_type": "code",
      "metadata": {
        "id": "zDhokvKcSMn-",
        "colab": {
          "base_uri": "https://localhost:8080/"
        },
        "outputId": "60333105-4d8a-440f-c021-c2ac2ccc57b1"
      },
      "source": [
        "%%time\n",
        "\n",
        "from skopt.space import Real, Categorical, Integer #Permite definir el tipo\n",
        "param_distribs_exp = {  #permite indicar la distribución de los parámetros\n",
        "        'n_estimators': Integer(3, 300, 'uniform'), #Permite Integer, Categorical o Real\n",
        "        'max_features': Integer(3, 8, 'uniform'), #Permite 'uniform' o 'log-uniform'\n",
        "    }\n",
        "\n",
        "\n",
        "forest_reg = RandomForestRegressor(random_state=42)\n",
        "\n",
        "bayes_search_RF = BayesSearchCV(\n",
        "    forest_reg,\n",
        "    param_distribs_exp,\n",
        "    n_iter=20,\n",
        "    cv=3, scoring='neg_mean_squared_error', random_state=42,\n",
        "    n_jobs=-1,\n",
        "    optimizer_kwargs={'base_estimator': 'GP'} # 'GP': Gaussean Process,'RF': Random Forest regressor,'ET': Extra Trees regressor, 'GBRT': gradient boosted trees\n",
        "  )\n",
        "bayes_search_RF.fit(X_train, y_train)\n",
        "\n",
        "print(bayes_search_RF.best_params_)\n",
        "mean_score = bayes_search_RF.cv_results_['mean_test_score'][bayes_search_RF.best_index_]\n",
        "print(\"score\", np.sqrt(-mean_score))\n",
        "\n"
      ],
      "execution_count": 65,
      "outputs": [
        {
          "output_type": "stream",
          "name": "stderr",
          "text": [
            "/usr/local/lib/python3.7/dist-packages/skopt/optimizer/optimizer.py:449: UserWarning: The objective has been evaluated at this point before.\n",
            "  warnings.warn(\"The objective has been evaluated \"\n",
            "/usr/local/lib/python3.7/dist-packages/skopt/optimizer/optimizer.py:449: UserWarning: The objective has been evaluated at this point before.\n",
            "  warnings.warn(\"The objective has been evaluated \"\n",
            "/usr/local/lib/python3.7/dist-packages/skopt/optimizer/optimizer.py:449: UserWarning: The objective has been evaluated at this point before.\n",
            "  warnings.warn(\"The objective has been evaluated \"\n"
          ]
        },
        {
          "output_type": "stream",
          "name": "stdout",
          "text": [
            "OrderedDict([('max_features', 3), ('n_estimators', 300)])\n",
            "score 57.25330008381234\n",
            "CPU times: user 13.3 s, sys: 6.48 s, total: 19.8 s\n",
            "Wall time: 35.5 s\n"
          ]
        }
      ]
    },
    {
      "cell_type": "markdown",
      "metadata": {
        "id": "ftr_VVD935RZ"
      },
      "source": [
        "Obtiene un resultado similar."
      ]
    },
    {
      "cell_type": "code",
      "metadata": {
        "id": "_J8Ur69jfwfr",
        "colab": {
          "base_uri": "https://localhost:8080/"
        },
        "outputId": "8e48c51d-abe0-4cf4-abc8-2cf1e245e76c"
      },
      "source": [
        "cvres_bayes = bayes_search_RF.cv_results_\n",
        "for mean_score, params in zip(cvres_bayes[\"mean_test_score\"], cvres_bayes[\"params\"]):\n",
        "    print(np.sqrt(-mean_score), params)"
      ],
      "execution_count": 66,
      "outputs": [
        {
          "output_type": "stream",
          "name": "stdout",
          "text": [
            "57.60445972475531 OrderedDict([('max_features', 5), ('n_estimators', 219)])\n",
            "58.14575573869346 OrderedDict([('max_features', 7), ('n_estimators', 265)])\n",
            "57.45427014702818 OrderedDict([('max_features', 5), ('n_estimators', 276)])\n",
            "58.503375740290586 OrderedDict([('max_features', 7), ('n_estimators', 54)])\n",
            "58.408155383961294 OrderedDict([('max_features', 7), ('n_estimators', 133)])\n",
            "58.127490777658885 OrderedDict([('max_features', 7), ('n_estimators', 282)])\n",
            "58.10485735320156 OrderedDict([('max_features', 6), ('n_estimators', 233)])\n",
            "57.9363960178765 OrderedDict([('max_features', 6), ('n_estimators', 276)])\n",
            "58.69510218545334 OrderedDict([('max_features', 8), ('n_estimators', 211)])\n",
            "57.40145660446197 OrderedDict([('max_features', 3), ('n_estimators', 246)])\n",
            "57.318250488923816 OrderedDict([('max_features', 4), ('n_estimators', 300)])\n",
            "65.49228227234809 OrderedDict([('max_features', 3), ('n_estimators', 3)])\n",
            "57.36656082679393 OrderedDict([('max_features', 4), ('n_estimators', 270)])\n",
            "57.33819479091365 OrderedDict([('max_features', 4), ('n_estimators', 275)])\n",
            "57.33311661060886 OrderedDict([('max_features', 3), ('n_estimators', 277)])\n",
            "57.318250488923816 OrderedDict([('max_features', 4), ('n_estimators', 300)])\n",
            "57.332582644527946 OrderedDict([('max_features', 4), ('n_estimators', 295)])\n",
            "57.25330008381234 OrderedDict([('max_features', 3), ('n_estimators', 300)])\n",
            "57.25330008381234 OrderedDict([('max_features', 3), ('n_estimators', 300)])\n",
            "57.25330008381234 OrderedDict([('max_features', 3), ('n_estimators', 300)])\n"
          ]
        }
      ]
    },
    {
      "cell_type": "code",
      "metadata": {
        "id": "KFOdXPZEp8Pp",
        "colab": {
          "base_uri": "https://localhost:8080/",
          "height": 265
        },
        "outputId": "651cc641-8902-4b9a-b08c-f15f4c27adc7"
      },
      "source": [
        "x = np.arange(0, 20)\n",
        "plt.plot(x, [np.sqrt(-x) for x in cvres_bayes[\"mean_test_score\"]])\n",
        "plt.show()"
      ],
      "execution_count": 67,
      "outputs": [
        {
          "output_type": "display_data",
          "data": {
            "image/png": "[encoded data removed]",
            "text/plain": [
              "<Figure size 432x288 with 1 Axes>"
            ]
          },
          "metadata": {
            "needs_background": "light"
          }
        }
      ]
    },
    {
      "cell_type": "markdown",
      "metadata": {
        "id": "M_w_P8SfeFOP"
      },
      "source": [
        "Probamos en el conjunto de test."
      ]
    },
    {
      "cell_type": "code",
      "metadata": {
        "id": "n0bNB5RYgann",
        "colab": {
          "base_uri": "https://localhost:8080/"
        },
        "outputId": "2fb93221-3d1e-4b59-ba62-450c572b918f"
      },
      "source": [
        "from sklearn.metrics import mean_squared_error\n",
        "\n",
        "final_model_bayes = bayes_search_RF.best_estimator_\n",
        "\n",
        "final_predictions_bayes = final_model_bayes.predict(X_test)\n",
        "\n",
        "final_mse_bayes = mean_squared_error(y_test, final_predictions_bayes)\n",
        "final_rmse_bayes = np.sqrt(final_mse_bayes)\n",
        "final_rmse_bayes\n",
        "\n",
        "\n"
      ],
      "execution_count": 68,
      "outputs": [
        {
          "output_type": "execute_result",
          "data": {
            "text/plain": [
              "53.66166130378976"
            ]
          },
          "metadata": {},
          "execution_count": 68
        }
      ]
    },
    {
      "cell_type": "markdown",
      "metadata": {
        "id": "qo8rv5_igXeb"
      },
      "source": [
        "## Ejercicios Optimización bayesiana"
      ]
    },
    {
      "cell_type": "markdown",
      "metadata": {
        "id": "qwBK76xggeW2"
      },
      "source": [
        "EJERCICIO: Utiliza para el SVR() del ejemplo anterior el método BayesSearchCV. Usa el espacio de búsqueda que se propone. \n",
        "\n",
        "Utiliza el algoritmo 'ET' con 10 iteraciones.\n",
        "\n",
        "¿Cuál es el mejor resultado que obtienes?¿Con qué configuración de parámetros?"
      ]
    },
    {
      "cell_type": "code",
      "metadata": {
        "id": "uNmtlKELIyAZ"
      },
      "source": [
        "from skopt.space import Real, Categorical, Integer\n",
        "param_distribs_exp = {\n",
        "        'kernel':  Categorical(['linear', 'rbf']),\n",
        "        'C': Real(1, 20, 'log-uniform'),\n",
        "        'gamma': Real(1e-6, 5, 'log-uniform'), \n",
        "    }\n",
        "\n",
        "\n",
        "svm_reg = SVR()"
      ],
      "execution_count": 69,
      "outputs": []
    },
    {
      "cell_type": "code",
      "metadata": {
        "id": "racebucfkzhv",
        "colab": {
          "base_uri": "https://localhost:8080/",
          "height": 1000
        },
        "outputId": "2291cdb6-a5f5-40fc-a827-b727afda0cba"
      },
      "source": [
        "# Solución\n",
        "\n",
        "bayes_search_svm_reg = BayesSearchCV(\n",
        "    svm_reg,\n",
        "    param_distribs_exp,\n",
        "    n_iter=50,\n",
        "    cv=3, scoring='neg_mean_squared_error',\n",
        "    n_jobs=-1, verbose=2,\n",
        "    optimizer_kwargs={'base_estimator': 'RF'} \n",
        "  )\n",
        "bayes_search_svm_reg.fit(X_train, y_train)\n",
        "\n",
        "print(bayes_search_RF.best_params_)\n",
        "mean_score = bayes_search_RF.cv_results_['mean_test_score'][bayes_search_RF.best_index_]\n",
        "print(\"score\", np.sqrt(-mean_score))\n",
        "\n",
        "negative_mse = grid_search_RF.best_score_\n",
        "rmse = np.sqrt(-negative_mse)\n",
        "print(rmse)\n",
        "\n"
      ],
      "execution_count": 73,
      "outputs": [
        {
          "output_type": "stream",
          "name": "stdout",
          "text": [
            "Fitting 3 folds for each of 1 candidates, totalling 3 fits\n"
          ]
        },
        {
          "output_type": "stream",
          "name": "stderr",
          "text": [
            "[Parallel(n_jobs=-1)]: Using backend LokyBackend with 2 concurrent workers.\n",
            "[Parallel(n_jobs=-1)]: Done   3 out of   3 | elapsed:    1.3s finished\n",
            "[Parallel(n_jobs=-1)]: Using backend LokyBackend with 2 concurrent workers.\n",
            "[Parallel(n_jobs=-1)]: Done   3 out of   3 | elapsed:    0.0s finished\n",
            "[Parallel(n_jobs=-1)]: Using backend LokyBackend with 2 concurrent workers.\n",
            "[Parallel(n_jobs=-1)]: Done   3 out of   3 | elapsed:    0.0s finished\n",
            "[Parallel(n_jobs=-1)]: Using backend LokyBackend with 2 concurrent workers.\n",
            "[Parallel(n_jobs=-1)]: Done   3 out of   3 | elapsed:    0.0s finished\n",
            "[Parallel(n_jobs=-1)]: Using backend LokyBackend with 2 concurrent workers.\n",
            "[Parallel(n_jobs=-1)]: Done   3 out of   3 | elapsed:    0.0s finished\n",
            "[Parallel(n_jobs=-1)]: Using backend LokyBackend with 2 concurrent workers.\n",
            "[Parallel(n_jobs=-1)]: Done   3 out of   3 | elapsed:    0.0s finished\n",
            "[Parallel(n_jobs=-1)]: Using backend LokyBackend with 2 concurrent workers.\n",
            "[Parallel(n_jobs=-1)]: Done   3 out of   3 | elapsed:    0.0s finished\n",
            "[Parallel(n_jobs=-1)]: Using backend LokyBackend with 2 concurrent workers.\n",
            "[Parallel(n_jobs=-1)]: Done   3 out of   3 | elapsed:    0.0s finished\n",
            "[Parallel(n_jobs=-1)]: Using backend LokyBackend with 2 concurrent workers.\n"
          ]
        },
        {
          "output_type": "stream",
          "name": "stdout",
          "text": [
            "Fitting 3 folds for each of 1 candidates, totalling 3 fits\n",
            "Fitting 3 folds for each of 1 candidates, totalling 3 fits\n",
            "Fitting 3 folds for each of 1 candidates, totalling 3 fits\n",
            "Fitting 3 folds for each of 1 candidates, totalling 3 fits\n",
            "Fitting 3 folds for each of 1 candidates, totalling 3 fits\n",
            "Fitting 3 folds for each of 1 candidates, totalling 3 fits\n",
            "Fitting 3 folds for each of 1 candidates, totalling 3 fits\n",
            "Fitting 3 folds for each of 1 candidates, totalling 3 fits\n"
          ]
        },
        {
          "output_type": "stream",
          "name": "stderr",
          "text": [
            "[Parallel(n_jobs=-1)]: Done   3 out of   3 | elapsed:    0.0s finished\n"
          ]
        },
        {
          "output_type": "stream",
          "name": "stdout",
          "text": [
            "Fitting 3 folds for each of 1 candidates, totalling 3 fits\n"
          ]
        },
        {
          "output_type": "stream",
          "name": "stderr",
          "text": [
            "[Parallel(n_jobs=-1)]: Using backend LokyBackend with 2 concurrent workers.\n",
            "[Parallel(n_jobs=-1)]: Done   3 out of   3 | elapsed:    0.0s finished\n"
          ]
        },
        {
          "output_type": "stream",
          "name": "stdout",
          "text": [
            "Fitting 3 folds for each of 1 candidates, totalling 3 fits\n"
          ]
        },
        {
          "output_type": "stream",
          "name": "stderr",
          "text": [
            "[Parallel(n_jobs=-1)]: Using backend LokyBackend with 2 concurrent workers.\n",
            "[Parallel(n_jobs=-1)]: Done   3 out of   3 | elapsed:    0.0s finished\n"
          ]
        },
        {
          "output_type": "stream",
          "name": "stdout",
          "text": [
            "Fitting 3 folds for each of 1 candidates, totalling 3 fits\n"
          ]
        },
        {
          "output_type": "stream",
          "name": "stderr",
          "text": [
            "[Parallel(n_jobs=-1)]: Using backend LokyBackend with 2 concurrent workers.\n",
            "[Parallel(n_jobs=-1)]: Done   3 out of   3 | elapsed:    0.0s finished\n"
          ]
        },
        {
          "output_type": "stream",
          "name": "stdout",
          "text": [
            "Fitting 3 folds for each of 1 candidates, totalling 3 fits\n"
          ]
        },
        {
          "output_type": "stream",
          "name": "stderr",
          "text": [
            "[Parallel(n_jobs=-1)]: Using backend LokyBackend with 2 concurrent workers.\n",
            "[Parallel(n_jobs=-1)]: Done   3 out of   3 | elapsed:    0.0s finished\n"
          ]
        },
        {
          "output_type": "stream",
          "name": "stdout",
          "text": [
            "Fitting 3 folds for each of 1 candidates, totalling 3 fits\n"
          ]
        },
        {
          "output_type": "stream",
          "name": "stderr",
          "text": [
            "[Parallel(n_jobs=-1)]: Using backend LokyBackend with 2 concurrent workers.\n",
            "[Parallel(n_jobs=-1)]: Done   3 out of   3 | elapsed:    0.0s finished\n"
          ]
        },
        {
          "output_type": "stream",
          "name": "stdout",
          "text": [
            "Fitting 3 folds for each of 1 candidates, totalling 3 fits\n"
          ]
        },
        {
          "output_type": "stream",
          "name": "stderr",
          "text": [
            "[Parallel(n_jobs=-1)]: Using backend LokyBackend with 2 concurrent workers.\n",
            "[Parallel(n_jobs=-1)]: Done   3 out of   3 | elapsed:    0.0s finished\n"
          ]
        },
        {
          "output_type": "stream",
          "name": "stdout",
          "text": [
            "Fitting 3 folds for each of 1 candidates, totalling 3 fits\n"
          ]
        },
        {
          "output_type": "stream",
          "name": "stderr",
          "text": [
            "[Parallel(n_jobs=-1)]: Using backend LokyBackend with 2 concurrent workers.\n",
            "[Parallel(n_jobs=-1)]: Done   3 out of   3 | elapsed:    0.0s finished\n"
          ]
        },
        {
          "output_type": "stream",
          "name": "stdout",
          "text": [
            "Fitting 3 folds for each of 1 candidates, totalling 3 fits\n"
          ]
        },
        {
          "output_type": "stream",
          "name": "stderr",
          "text": [
            "[Parallel(n_jobs=-1)]: Using backend LokyBackend with 2 concurrent workers.\n",
            "[Parallel(n_jobs=-1)]: Done   3 out of   3 | elapsed:    0.0s finished\n"
          ]
        },
        {
          "output_type": "stream",
          "name": "stdout",
          "text": [
            "Fitting 3 folds for each of 1 candidates, totalling 3 fits\n"
          ]
        },
        {
          "output_type": "stream",
          "name": "stderr",
          "text": [
            "[Parallel(n_jobs=-1)]: Using backend LokyBackend with 2 concurrent workers.\n",
            "[Parallel(n_jobs=-1)]: Done   3 out of   3 | elapsed:    0.0s finished\n"
          ]
        },
        {
          "output_type": "stream",
          "name": "stdout",
          "text": [
            "Fitting 3 folds for each of 1 candidates, totalling 3 fits\n"
          ]
        },
        {
          "output_type": "stream",
          "name": "stderr",
          "text": [
            "[Parallel(n_jobs=-1)]: Using backend LokyBackend with 2 concurrent workers.\n",
            "[Parallel(n_jobs=-1)]: Done   3 out of   3 | elapsed:    0.0s finished\n"
          ]
        },
        {
          "output_type": "stream",
          "name": "stdout",
          "text": [
            "Fitting 3 folds for each of 1 candidates, totalling 3 fits\n"
          ]
        },
        {
          "output_type": "stream",
          "name": "stderr",
          "text": [
            "[Parallel(n_jobs=-1)]: Using backend LokyBackend with 2 concurrent workers.\n",
            "[Parallel(n_jobs=-1)]: Done   3 out of   3 | elapsed:    0.0s finished\n"
          ]
        },
        {
          "output_type": "stream",
          "name": "stdout",
          "text": [
            "Fitting 3 folds for each of 1 candidates, totalling 3 fits\n"
          ]
        },
        {
          "output_type": "stream",
          "name": "stderr",
          "text": [
            "[Parallel(n_jobs=-1)]: Using backend LokyBackend with 2 concurrent workers.\n",
            "[Parallel(n_jobs=-1)]: Done   3 out of   3 | elapsed:    0.0s finished\n"
          ]
        },
        {
          "output_type": "stream",
          "name": "stdout",
          "text": [
            "Fitting 3 folds for each of 1 candidates, totalling 3 fits\n"
          ]
        },
        {
          "output_type": "stream",
          "name": "stderr",
          "text": [
            "[Parallel(n_jobs=-1)]: Using backend LokyBackend with 2 concurrent workers.\n",
            "[Parallel(n_jobs=-1)]: Done   3 out of   3 | elapsed:    0.0s finished\n"
          ]
        },
        {
          "output_type": "stream",
          "name": "stdout",
          "text": [
            "Fitting 3 folds for each of 1 candidates, totalling 3 fits\n"
          ]
        },
        {
          "output_type": "stream",
          "name": "stderr",
          "text": [
            "[Parallel(n_jobs=-1)]: Using backend LokyBackend with 2 concurrent workers.\n",
            "[Parallel(n_jobs=-1)]: Done   3 out of   3 | elapsed:    0.0s finished\n"
          ]
        },
        {
          "output_type": "stream",
          "name": "stdout",
          "text": [
            "Fitting 3 folds for each of 1 candidates, totalling 3 fits\n"
          ]
        },
        {
          "output_type": "stream",
          "name": "stderr",
          "text": [
            "[Parallel(n_jobs=-1)]: Using backend LokyBackend with 2 concurrent workers.\n",
            "[Parallel(n_jobs=-1)]: Done   3 out of   3 | elapsed:    0.0s finished\n"
          ]
        },
        {
          "output_type": "stream",
          "name": "stdout",
          "text": [
            "Fitting 3 folds for each of 1 candidates, totalling 3 fits\n"
          ]
        },
        {
          "output_type": "stream",
          "name": "stderr",
          "text": [
            "[Parallel(n_jobs=-1)]: Using backend LokyBackend with 2 concurrent workers.\n",
            "[Parallel(n_jobs=-1)]: Done   3 out of   3 | elapsed:    0.0s finished\n"
          ]
        },
        {
          "output_type": "stream",
          "name": "stdout",
          "text": [
            "Fitting 3 folds for each of 1 candidates, totalling 3 fits\n"
          ]
        },
        {
          "output_type": "stream",
          "name": "stderr",
          "text": [
            "[Parallel(n_jobs=-1)]: Using backend LokyBackend with 2 concurrent workers.\n",
            "[Parallel(n_jobs=-1)]: Done   3 out of   3 | elapsed:    0.0s finished\n"
          ]
        },
        {
          "output_type": "stream",
          "name": "stdout",
          "text": [
            "Fitting 3 folds for each of 1 candidates, totalling 3 fits\n"
          ]
        },
        {
          "output_type": "stream",
          "name": "stderr",
          "text": [
            "[Parallel(n_jobs=-1)]: Using backend LokyBackend with 2 concurrent workers.\n",
            "[Parallel(n_jobs=-1)]: Done   3 out of   3 | elapsed:    0.0s finished\n"
          ]
        },
        {
          "output_type": "stream",
          "name": "stdout",
          "text": [
            "Fitting 3 folds for each of 1 candidates, totalling 3 fits\n"
          ]
        },
        {
          "output_type": "stream",
          "name": "stderr",
          "text": [
            "[Parallel(n_jobs=-1)]: Using backend LokyBackend with 2 concurrent workers.\n",
            "[Parallel(n_jobs=-1)]: Done   3 out of   3 | elapsed:    0.0s finished\n"
          ]
        },
        {
          "output_type": "stream",
          "name": "stdout",
          "text": [
            "Fitting 3 folds for each of 1 candidates, totalling 3 fits\n"
          ]
        },
        {
          "output_type": "stream",
          "name": "stderr",
          "text": [
            "[Parallel(n_jobs=-1)]: Using backend LokyBackend with 2 concurrent workers.\n",
            "[Parallel(n_jobs=-1)]: Done   3 out of   3 | elapsed:    0.0s finished\n"
          ]
        },
        {
          "output_type": "stream",
          "name": "stdout",
          "text": [
            "Fitting 3 folds for each of 1 candidates, totalling 3 fits\n"
          ]
        },
        {
          "output_type": "stream",
          "name": "stderr",
          "text": [
            "[Parallel(n_jobs=-1)]: Using backend LokyBackend with 2 concurrent workers.\n",
            "[Parallel(n_jobs=-1)]: Done   3 out of   3 | elapsed:    0.0s finished\n"
          ]
        },
        {
          "output_type": "stream",
          "name": "stdout",
          "text": [
            "Fitting 3 folds for each of 1 candidates, totalling 3 fits\n"
          ]
        },
        {
          "output_type": "stream",
          "name": "stderr",
          "text": [
            "[Parallel(n_jobs=-1)]: Using backend LokyBackend with 2 concurrent workers.\n",
            "[Parallel(n_jobs=-1)]: Done   3 out of   3 | elapsed:    0.0s finished\n"
          ]
        },
        {
          "output_type": "stream",
          "name": "stdout",
          "text": [
            "Fitting 3 folds for each of 1 candidates, totalling 3 fits\n"
          ]
        },
        {
          "output_type": "stream",
          "name": "stderr",
          "text": [
            "[Parallel(n_jobs=-1)]: Using backend LokyBackend with 2 concurrent workers.\n",
            "[Parallel(n_jobs=-1)]: Done   3 out of   3 | elapsed:    0.0s finished\n"
          ]
        },
        {
          "output_type": "stream",
          "name": "stdout",
          "text": [
            "Fitting 3 folds for each of 1 candidates, totalling 3 fits\n"
          ]
        },
        {
          "output_type": "stream",
          "name": "stderr",
          "text": [
            "[Parallel(n_jobs=-1)]: Using backend LokyBackend with 2 concurrent workers.\n",
            "[Parallel(n_jobs=-1)]: Done   3 out of   3 | elapsed:    0.0s finished\n"
          ]
        },
        {
          "output_type": "stream",
          "name": "stdout",
          "text": [
            "Fitting 3 folds for each of 1 candidates, totalling 3 fits\n"
          ]
        },
        {
          "output_type": "stream",
          "name": "stderr",
          "text": [
            "[Parallel(n_jobs=-1)]: Using backend LokyBackend with 2 concurrent workers.\n",
            "[Parallel(n_jobs=-1)]: Done   3 out of   3 | elapsed:    0.0s finished\n"
          ]
        },
        {
          "output_type": "stream",
          "name": "stdout",
          "text": [
            "Fitting 3 folds for each of 1 candidates, totalling 3 fits\n"
          ]
        },
        {
          "output_type": "stream",
          "name": "stderr",
          "text": [
            "[Parallel(n_jobs=-1)]: Using backend LokyBackend with 2 concurrent workers.\n",
            "[Parallel(n_jobs=-1)]: Done   3 out of   3 | elapsed:    0.0s finished\n"
          ]
        },
        {
          "output_type": "stream",
          "name": "stdout",
          "text": [
            "Fitting 3 folds for each of 1 candidates, totalling 3 fits\n"
          ]
        },
        {
          "output_type": "stream",
          "name": "stderr",
          "text": [
            "[Parallel(n_jobs=-1)]: Using backend LokyBackend with 2 concurrent workers.\n",
            "[Parallel(n_jobs=-1)]: Done   3 out of   3 | elapsed:    0.0s finished\n"
          ]
        },
        {
          "output_type": "stream",
          "name": "stdout",
          "text": [
            "Fitting 3 folds for each of 1 candidates, totalling 3 fits\n"
          ]
        },
        {
          "output_type": "stream",
          "name": "stderr",
          "text": [
            "[Parallel(n_jobs=-1)]: Using backend LokyBackend with 2 concurrent workers.\n",
            "[Parallel(n_jobs=-1)]: Done   3 out of   3 | elapsed:    0.0s finished\n"
          ]
        },
        {
          "output_type": "stream",
          "name": "stdout",
          "text": [
            "Fitting 3 folds for each of 1 candidates, totalling 3 fits\n"
          ]
        },
        {
          "output_type": "stream",
          "name": "stderr",
          "text": [
            "[Parallel(n_jobs=-1)]: Using backend LokyBackend with 2 concurrent workers.\n",
            "[Parallel(n_jobs=-1)]: Done   3 out of   3 | elapsed:    0.0s finished\n"
          ]
        },
        {
          "output_type": "stream",
          "name": "stdout",
          "text": [
            "Fitting 3 folds for each of 1 candidates, totalling 3 fits\n"
          ]
        },
        {
          "output_type": "stream",
          "name": "stderr",
          "text": [
            "[Parallel(n_jobs=-1)]: Using backend LokyBackend with 2 concurrent workers.\n",
            "[Parallel(n_jobs=-1)]: Done   3 out of   3 | elapsed:    0.0s finished\n"
          ]
        },
        {
          "output_type": "stream",
          "name": "stdout",
          "text": [
            "Fitting 3 folds for each of 1 candidates, totalling 3 fits\n"
          ]
        },
        {
          "output_type": "stream",
          "name": "stderr",
          "text": [
            "[Parallel(n_jobs=-1)]: Using backend LokyBackend with 2 concurrent workers.\n",
            "[Parallel(n_jobs=-1)]: Done   3 out of   3 | elapsed:    0.0s finished\n"
          ]
        },
        {
          "output_type": "stream",
          "name": "stdout",
          "text": [
            "Fitting 3 folds for each of 1 candidates, totalling 3 fits\n"
          ]
        },
        {
          "output_type": "stream",
          "name": "stderr",
          "text": [
            "[Parallel(n_jobs=-1)]: Using backend LokyBackend with 2 concurrent workers.\n",
            "[Parallel(n_jobs=-1)]: Done   3 out of   3 | elapsed:    0.0s finished\n"
          ]
        },
        {
          "output_type": "stream",
          "name": "stdout",
          "text": [
            "Fitting 3 folds for each of 1 candidates, totalling 3 fits\n"
          ]
        },
        {
          "output_type": "stream",
          "name": "stderr",
          "text": [
            "[Parallel(n_jobs=-1)]: Using backend LokyBackend with 2 concurrent workers.\n",
            "[Parallel(n_jobs=-1)]: Done   3 out of   3 | elapsed:    0.0s finished\n"
          ]
        },
        {
          "output_type": "stream",
          "name": "stdout",
          "text": [
            "Fitting 3 folds for each of 1 candidates, totalling 3 fits\n"
          ]
        },
        {
          "output_type": "stream",
          "name": "stderr",
          "text": [
            "[Parallel(n_jobs=-1)]: Using backend LokyBackend with 2 concurrent workers.\n",
            "[Parallel(n_jobs=-1)]: Done   3 out of   3 | elapsed:    0.0s finished\n"
          ]
        },
        {
          "output_type": "stream",
          "name": "stdout",
          "text": [
            "Fitting 3 folds for each of 1 candidates, totalling 3 fits\n"
          ]
        },
        {
          "output_type": "stream",
          "name": "stderr",
          "text": [
            "[Parallel(n_jobs=-1)]: Using backend LokyBackend with 2 concurrent workers.\n",
            "[Parallel(n_jobs=-1)]: Done   3 out of   3 | elapsed:    0.0s finished\n"
          ]
        },
        {
          "output_type": "stream",
          "name": "stdout",
          "text": [
            "Fitting 3 folds for each of 1 candidates, totalling 3 fits\n"
          ]
        },
        {
          "output_type": "stream",
          "name": "stderr",
          "text": [
            "[Parallel(n_jobs=-1)]: Using backend LokyBackend with 2 concurrent workers.\n",
            "[Parallel(n_jobs=-1)]: Done   3 out of   3 | elapsed:    0.0s finished\n"
          ]
        },
        {
          "output_type": "stream",
          "name": "stdout",
          "text": [
            "Fitting 3 folds for each of 1 candidates, totalling 3 fits\n"
          ]
        },
        {
          "output_type": "stream",
          "name": "stderr",
          "text": [
            "[Parallel(n_jobs=-1)]: Using backend LokyBackend with 2 concurrent workers.\n",
            "[Parallel(n_jobs=-1)]: Done   3 out of   3 | elapsed:    0.0s finished\n"
          ]
        },
        {
          "output_type": "stream",
          "name": "stdout",
          "text": [
            "Fitting 3 folds for each of 1 candidates, totalling 3 fits\n"
          ]
        },
        {
          "output_type": "stream",
          "name": "stderr",
          "text": [
            "[Parallel(n_jobs=-1)]: Using backend LokyBackend with 2 concurrent workers.\n",
            "[Parallel(n_jobs=-1)]: Done   3 out of   3 | elapsed:    0.0s finished\n"
          ]
        },
        {
          "output_type": "stream",
          "name": "stdout",
          "text": [
            "Fitting 3 folds for each of 1 candidates, totalling 3 fits\n"
          ]
        },
        {
          "output_type": "stream",
          "name": "stderr",
          "text": [
            "[Parallel(n_jobs=-1)]: Using backend LokyBackend with 2 concurrent workers.\n",
            "[Parallel(n_jobs=-1)]: Done   3 out of   3 | elapsed:    0.0s finished\n"
          ]
        },
        {
          "output_type": "stream",
          "name": "stdout",
          "text": [
            "Fitting 3 folds for each of 1 candidates, totalling 3 fits\n"
          ]
        },
        {
          "output_type": "stream",
          "name": "stderr",
          "text": [
            "[Parallel(n_jobs=-1)]: Using backend LokyBackend with 2 concurrent workers.\n",
            "[Parallel(n_jobs=-1)]: Done   3 out of   3 | elapsed:    0.0s finished\n"
          ]
        },
        {
          "output_type": "stream",
          "name": "stdout",
          "text": [
            "Fitting 3 folds for each of 1 candidates, totalling 3 fits\n"
          ]
        },
        {
          "output_type": "stream",
          "name": "stderr",
          "text": [
            "[Parallel(n_jobs=-1)]: Using backend LokyBackend with 2 concurrent workers.\n",
            "[Parallel(n_jobs=-1)]: Done   3 out of   3 | elapsed:    0.0s finished\n"
          ]
        },
        {
          "output_type": "error",
          "ename": "AttributeError",
          "evalue": "ignored",
          "traceback": [
            "\u001b[0;31m---------------------------------------------------------------------------\u001b[0m",
            "\u001b[0;31mAttributeError\u001b[0m                            Traceback (most recent call last)",
            "\u001b[0;32m<ipython-input-73-ca99d73c42f8>\u001b[0m in \u001b[0;36m<module>\u001b[0;34m()\u001b[0m\n\u001b[1;32m     11\u001b[0m \u001b[0mbayes_search_svm_reg\u001b[0m\u001b[0;34m.\u001b[0m\u001b[0mfit\u001b[0m\u001b[0;34m(\u001b[0m\u001b[0mX_train\u001b[0m\u001b[0;34m,\u001b[0m \u001b[0my_train\u001b[0m\u001b[0;34m)\u001b[0m\u001b[0;34m\u001b[0m\u001b[0;34m\u001b[0m\u001b[0m\n\u001b[1;32m     12\u001b[0m \u001b[0;34m\u001b[0m\u001b[0m\n\u001b[0;32m---> 13\u001b[0;31m \u001b[0mprint\u001b[0m\u001b[0;34m(\u001b[0m\u001b[0mbayes_search_RF\u001b[0m\u001b[0;34m.\u001b[0m\u001b[0mbest_params_\u001b[0m\u001b[0;34m)\u001b[0m\u001b[0;34m\u001b[0m\u001b[0;34m\u001b[0m\u001b[0m\n\u001b[0m\u001b[1;32m     14\u001b[0m \u001b[0mmean_score\u001b[0m \u001b[0;34m=\u001b[0m \u001b[0mbayes_search_RF\u001b[0m\u001b[0;34m.\u001b[0m\u001b[0mcv_results_\u001b[0m\u001b[0;34m[\u001b[0m\u001b[0;34m'mean_test_score'\u001b[0m\u001b[0;34m]\u001b[0m\u001b[0;34m[\u001b[0m\u001b[0mbayes_search_RF\u001b[0m\u001b[0;34m.\u001b[0m\u001b[0mbest_index_\u001b[0m\u001b[0;34m]\u001b[0m\u001b[0;34m\u001b[0m\u001b[0;34m\u001b[0m\u001b[0m\n\u001b[1;32m     15\u001b[0m \u001b[0mprint\u001b[0m\u001b[0;34m(\u001b[0m\u001b[0;34m\"score\"\u001b[0m\u001b[0;34m,\u001b[0m \u001b[0mnp\u001b[0m\u001b[0;34m.\u001b[0m\u001b[0msqrt\u001b[0m\u001b[0;34m(\u001b[0m\u001b[0;34m-\u001b[0m\u001b[0mmean_score\u001b[0m\u001b[0;34m)\u001b[0m\u001b[0;34m)\u001b[0m\u001b[0;34m\u001b[0m\u001b[0;34m\u001b[0m\u001b[0m\n",
            "\u001b[0;31mAttributeError\u001b[0m: 'BayesSearchCV' object has no attribute 'best_params_'"
          ]
        }
      ]
    },
    {
      "cell_type": "markdown",
      "metadata": {
        "id": "zfNIKZPwbc7c"
      },
      "source": [
        "EJERCICIO: Sobre el mismo espacio de búsqueda anterior y usando el algoritmo 'RF' y 50 iteraciones, obtén el resultado sobre el conjunto de entrenamiento de los 50 modelos. ¿Se observa una mejoría en la predicción a medida que se van obteniendo modelos?¿Por qué? Muestra la evolución de los resultados en una gráfica."
      ]
    },
    {
      "cell_type": "code",
      "metadata": {
        "id": "GYkZ3GpiR_FM",
        "outputId": "e258be12-9718-4fb7-f7c7-f882097f7b9f",
        "colab": {
          "base_uri": "https://localhost:8080/",
          "height": 265
        }
      },
      "source": [
        "import matplotlib.pyplot as plt\n",
        "x = np.arange(0, 50)\n",
        "plt.plot(x, [np.sqrt(-x) for x in bayes_search_svm_reg.cv_results_[\"mean_test_score\"]])\n",
        "plt.show()\n",
        "\n"
      ],
      "execution_count": 74,
      "outputs": [
        {
          "output_type": "display_data",
          "data": {
            "image/png": "[encoded data removed]",
            "text/plain": [
              "<Figure size 432x288 with 1 Axes>"
            ]
          },
          "metadata": {
            "needs_background": "light"
          }
        }
      ]
    },
    {
      "cell_type": "markdown",
      "metadata": {
        "id": "ab_fBQCXquEj"
      },
      "source": [
        "EJERCICIO: Obtén sobre el conjunto de test los resultados con el mejor método obtenido. ¿Mejora los métodos aplicados previamente sobre el SVR? "
      ]
    },
    {
      "cell_type": "code",
      "metadata": {
        "id": "74UiPeANq3Vr"
      },
      "source": [
        "#Solución\n"
      ],
      "execution_count": null,
      "outputs": []
    },
    {
      "cell_type": "markdown",
      "metadata": {
        "id": "zPkiatDgLTm0"
      },
      "source": [
        "EJERCICIO (Opcional). Prueba a cambiar los kernels, añadir hiperparámetros (por ejemplo 'epsilon' o 'degree') y/o aumentar el número de iteraciones. Comprueba si se obtiene alguna mejora sobre el conjunto de validación. Prueba a cambiar el estimador base: 'RF', 'GP', 'ET', 'GBRT'.  Finalmente, comprueba los resultados de la mejor opción sobre el conjunto de test."
      ]
    },
    {
      "cell_type": "code",
      "metadata": {
        "id": "7fz4o30YHsP0"
      },
      "source": [
        "from skopt.space import Real, Categorical, Integer\n",
        "param_distribs_exp = {\n",
        "        'kernel':  Categorical(['linear', 'rbf', 'poly']),\n",
        "        'C': Real(1, 20, 'log-uniform'),\n",
        "        'gamma': Real(1e-6, 5, 'log-uniform'),\n",
        "        'epsilon': Real(1e-6, 5, 'log-uniform'), \n",
        "        'degree': [2, 3, 4] \n",
        "    }\n",
        "\n",
        "\n",
        "svm_reg = SVR()\n",
        "\n",
        "# Solución\n"
      ],
      "execution_count": 75,
      "outputs": []
    },
    {
      "cell_type": "code",
      "metadata": {
        "id": "tQT3UMdAJTob"
      },
      "source": [
        "#Solución\n"
      ],
      "execution_count": null,
      "outputs": []
    },
    {
      "cell_type": "markdown",
      "metadata": {
        "id": "R8Ce28bjs-ro"
      },
      "source": [
        "# Hyperband"
      ]
    },
    {
      "cell_type": "markdown",
      "metadata": {
        "id": "p00COLIfs-rr"
      },
      "source": [
        "Implementa un algoritmo basado en la división de recursos. \n",
        "\n",
        "Este tipo de algoritmos para el ajuste de hiperparámetros se basan en el supuesto de que si una configuración está destinada a ser la mejor después de un gran número de iteraciones, es más probable que funcione en la mitad superior de las configuraciones después de un pequeño número de iteraciones. \n",
        "\n",
        "Así no se hace hincapié en el rendimiento absoluto de un algoritmo, sino más bien en su rendimiento relativo en comparación con muchas alternativas entrenadas para el mismo número de iteraciones."
      ]
    },
    {
      "cell_type": "markdown",
      "metadata": {
        "id": "gTT5cht9jJiZ"
      },
      "source": [
        "En esta sesión cargamos la librería de hyperband que todavía no están actualizadas para la nueva versión scikit-learn.\n",
        "Cargamos una versión anterior.\n",
        "NOTA: Debemos reiniciar la sesión para que la actualización tenga efecto."
      ]
    },
    {
      "cell_type": "code",
      "metadata": {
        "id": "9rh-ORlth76A",
        "outputId": "9e1240ed-f861-4c25-c7ee-07d77c0ae219",
        "colab": {
          "base_uri": "https://localhost:8080/"
        }
      },
      "source": [
        "!pip install 'scikit-learn==0.23.2'\n",
        "#Restart kernel after installation\n",
        "import IPython\n",
        "IPython.Application.instance().kernel.do_shutdown(True)"
      ],
      "execution_count": 76,
      "outputs": [
        {
          "output_type": "stream",
          "name": "stdout",
          "text": [
            "Requirement already satisfied: scikit-learn==0.23.2 in /usr/local/lib/python3.7/dist-packages (0.23.2)\n",
            "Requirement already satisfied: numpy>=1.13.3 in /usr/local/lib/python3.7/dist-packages (from scikit-learn==0.23.2) (1.19.5)\n",
            "Requirement already satisfied: scipy>=0.19.1 in /usr/local/lib/python3.7/dist-packages (from scikit-learn==0.23.2) (1.4.1)\n",
            "Requirement already satisfied: joblib>=0.11 in /usr/local/lib/python3.7/dist-packages (from scikit-learn==0.23.2) (1.1.0)\n",
            "Requirement already satisfied: threadpoolctl>=2.0.0 in /usr/local/lib/python3.7/dist-packages (from scikit-learn==0.23.2) (3.0.0)\n"
          ]
        },
        {
          "output_type": "execute_result",
          "data": {
            "text/plain": [
              "{'restart': True, 'status': 'ok'}"
            ]
          },
          "metadata": {},
          "execution_count": 76
        }
      ]
    },
    {
      "cell_type": "markdown",
      "metadata": {
        "id": "0axvb5uKs-rs"
      },
      "source": [
        "Descargamos Hyperband y lo cargamos en Colab"
      ]
    },
    {
      "cell_type": "code",
      "metadata": {
        "id": "N_W4AVDws-ru"
      },
      "source": [
        "%%capture\n",
        "!git clone https://github.com/thuijskens/scikit-hyperband.git\n",
        "%cd scikit-hyperband\n",
        "!python setup.py install \n",
        "\n"
      ],
      "execution_count": 1,
      "outputs": []
    },
    {
      "cell_type": "code",
      "metadata": {
        "id": "jQifkrEks-rv"
      },
      "source": [
        "from hyperband import HyperbandSearchCV\n",
        "import warnings\n",
        "warnings.filterwarnings('ignore')"
      ],
      "execution_count": 2,
      "outputs": []
    },
    {
      "cell_type": "markdown",
      "metadata": {
        "id": "RzgbMbfwIzPo"
      },
      "source": [
        "Cargamos la DB diabetes de nuevo y repartimos los conjuntos train y test como antes.\n",
        "\n",
        "La volvemos a probar sobre el random forest."
      ]
    },
    {
      "cell_type": "code",
      "metadata": {
        "id": "6dmk0lqRIzPp",
        "outputId": "33a4de25-f2ea-41b7-cc3b-94b376541586",
        "colab": {
          "base_uri": "https://localhost:8080/"
        }
      },
      "source": [
        "from sklearn import datasets\n",
        "\n",
        "diabetes_BD = datasets.load_diabetes()\n",
        "print(diabetes_BD.DESCR)\n"
      ],
      "execution_count": 3,
      "outputs": [
        {
          "output_type": "stream",
          "name": "stdout",
          "text": [
            ".. _diabetes_dataset:\n",
            "\n",
            "Diabetes dataset\n",
            "----------------\n",
            "\n",
            "Ten baseline variables, age, sex, body mass index, average blood\n",
            "pressure, and six blood serum measurements were obtained for each of n =\n",
            "442 diabetes patients, as well as the response of interest, a\n",
            "quantitative measure of disease progression one year after baseline.\n",
            "\n",
            "**Data Set Characteristics:**\n",
            "\n",
            "  :Number of Instances: 442\n",
            "\n",
            "  :Number of Attributes: First 10 columns are numeric predictive values\n",
            "\n",
            "  :Target: Column 11 is a quantitative measure of disease progression one year after baseline\n",
            "\n",
            "  :Attribute Information:\n",
            "      - age     age in years\n",
            "      - sex\n",
            "      - bmi     body mass index\n",
            "      - bp      average blood pressure\n",
            "      - s1      tc, T-Cells (a type of white blood cells)\n",
            "      - s2      ldl, low-density lipoproteins\n",
            "      - s3      hdl, high-density lipoproteins\n",
            "      - s4      tch, thyroid stimulating hormone\n",
            "      - s5      ltg, lamotrigine\n",
            "      - s6      glu, blood sugar level\n",
            "\n",
            "Note: Each of these 10 feature variables have been mean centered and scaled by the standard deviation times `n_samples` (i.e. the sum of squares of each column totals 1).\n",
            "\n",
            "Source URL:\n",
            "https://www4.stat.ncsu.edu/~boos/var.select/diabetes.html\n",
            "\n",
            "For more information see:\n",
            "Bradley Efron, Trevor Hastie, Iain Johnstone and Robert Tibshirani (2004) \"Least Angle Regression,\" Annals of Statistics (with discussion), 407-499.\n",
            "(https://web.stanford.edu/~hastie/Papers/LARS/LeastAngle_2002.pdf)\n"
          ]
        }
      ]
    },
    {
      "cell_type": "code",
      "metadata": {
        "id": "gAHTBRUTIzPq"
      },
      "source": [
        "diabetes=diabetes_BD[\"data\"] # Datos de las casas a usar \n",
        "feature_names=diabetes_BD[\"feature_names\"] # Nombre de las variables\n",
        "diabetes_target=diabetes_BD[\"target\"] # Dato a inferir. Precio medio de las casas"
      ],
      "execution_count": 4,
      "outputs": []
    },
    {
      "cell_type": "code",
      "metadata": {
        "id": "Y4gBLiV6IzPr"
      },
      "source": [
        "from sklearn.model_selection import train_test_split\n",
        "X_train,  X_test, y_train, y_test = train_test_split(diabetes, diabetes_target, test_size=0.2, random_state=42)"
      ],
      "execution_count": 5,
      "outputs": []
    },
    {
      "cell_type": "code",
      "metadata": {
        "id": "RpIVIJSAIzPs",
        "outputId": "baa2c88b-002e-4051-b35e-0611ea7fe1c9",
        "colab": {
          "base_uri": "https://localhost:8080/"
        }
      },
      "source": [
        "from sklearn.ensemble import RandomForestRegressor\n",
        "forest_reg = RandomForestRegressor(random_state=42)\n",
        "forest_reg"
      ],
      "execution_count": 6,
      "outputs": [
        {
          "output_type": "execute_result",
          "data": {
            "text/plain": [
              "RandomForestRegressor(random_state=42)"
            ]
          },
          "metadata": {},
          "execution_count": 6
        }
      ]
    },
    {
      "cell_type": "markdown",
      "metadata": {
        "id": "G6dJurOps-rw"
      },
      "source": [
        "Vamos a aplicar el algoritmo a un Random Forest. \n",
        "\n",
        "Cuando se aplica a Random Forest, el parámetro que se ajusta en cada estimación (resource_param) suele ser el número de árboles. En este ejemplo, coincide que también es uno de los parámetros a combinar.\n",
        "\n",
        "Añadimos algún parámetro más a probar como *max_depth* para aumentar el espacio de búsqueda. Recordar que n_estimators lo usaremos para ir repartiendo los recursos.\n"
      ]
    },
    {
      "cell_type": "code",
      "metadata": {
        "id": "hdKJV6AYs-rx"
      },
      "source": [
        "# Distributions or lists of parameters to try. Distributions must provide a rvs method for sampling (such as those from scipy.stats.distributions). If a list is given, it is sampled uniformly.\n",
        "param_grid = {  \n",
        "     #'n_estimators': [30, 100, 300, 500],\n",
        "     'max_features': [2, 4, 6, 8],\n",
        "     'max_depth' : [7, 9, None],\n",
        "     }\n",
        "\n"
      ],
      "execution_count": 7,
      "outputs": []
    },
    {
      "cell_type": "markdown",
      "metadata": {
        "id": "ggTJCV6QtnO8"
      },
      "source": [
        "\n",
        "max_iter y min_iter marcan el número máximo de árboles que se asinganarán a una combinación de hiperparámetros, y eta la reducción de recursos en cada iteración."
      ]
    },
    {
      "cell_type": "code",
      "metadata": {
        "id": "PIduUZCZs-ry",
        "outputId": "37795c40-0464-491c-a02c-cead36708401",
        "colab": {
          "base_uri": "https://localhost:8080/"
        }
      },
      "source": [
        "%%time\n",
        "\n",
        "Hyb_search_RF = HyperbandSearchCV(forest_reg,\n",
        "                           param_grid,\n",
        "                           resource_param='n_estimators', #Recursos que se asignarán en cada estimacion. En Random Forest tipicamente el número de árboles\n",
        "                           verbose =1,\n",
        "                           max_iter=1000, #Numero de árboles máximo en una iteración\n",
        "                           min_iter=30, #Numero de árboles mínimo en una iteración\n",
        "                           eta=3, #Reducción de recursos en cada iteración, en este caso se reducira un tercio\n",
        "                           cv=3,\n",
        "                           scoring='neg_mean_squared_error',\n",
        "                           random_state = 42)\n",
        "\n",
        "Hyb_search_RF.fit(X_train, y_train)"
      ],
      "execution_count": 8,
      "outputs": [
        {
          "output_type": "stream",
          "name": "stdout",
          "text": [
            "Starting bracket 1 (out of 4) of hyperband\n",
            "Starting successive halving iteration 1 out of 4. Fitting 12 configurations, with resource_param n_estimators set to 37, and keeping the best 9 configurations.\n",
            "Fitting 3 folds for each of 12 candidates, totalling 36 fits\n"
          ]
        },
        {
          "output_type": "stream",
          "name": "stderr",
          "text": [
            "[Parallel(n_jobs=1)]: Using backend SequentialBackend with 1 concurrent workers.\n",
            "[Parallel(n_jobs=1)]: Done  36 out of  36 | elapsed:    2.5s finished\n",
            "[Parallel(n_jobs=1)]: Using backend SequentialBackend with 1 concurrent workers.\n"
          ]
        },
        {
          "output_type": "stream",
          "name": "stdout",
          "text": [
            "Starting successive halving iteration 2 out of 4. Fitting 9 configurations, with resource_param n_estimators set to 111, and keeping the best 3 configurations.\n",
            "Fitting 3 folds for each of 9 candidates, totalling 27 fits\n"
          ]
        },
        {
          "output_type": "stream",
          "name": "stderr",
          "text": [
            "[Parallel(n_jobs=1)]: Done  27 out of  27 | elapsed:    5.2s finished\n",
            "[Parallel(n_jobs=1)]: Using backend SequentialBackend with 1 concurrent workers.\n"
          ]
        },
        {
          "output_type": "stream",
          "name": "stdout",
          "text": [
            "Starting successive halving iteration 3 out of 4. Fitting 3 configurations, with resource_param n_estimators set to 333, and keeping the best 1 configurations.\n",
            "Fitting 3 folds for each of 3 candidates, totalling 9 fits\n"
          ]
        },
        {
          "output_type": "stream",
          "name": "stderr",
          "text": [
            "[Parallel(n_jobs=1)]: Done   9 out of   9 | elapsed:    4.6s finished\n",
            "[Parallel(n_jobs=1)]: Using backend SequentialBackend with 1 concurrent workers.\n"
          ]
        },
        {
          "output_type": "stream",
          "name": "stdout",
          "text": [
            "Starting successive halving iteration 4 out of 4. Fitting 1 configurations, with resource_param n_estimators set to 1000\n",
            "Fitting 3 folds for each of 1 candidates, totalling 3 fits\n"
          ]
        },
        {
          "output_type": "stream",
          "name": "stderr",
          "text": [
            "[Parallel(n_jobs=1)]: Done   3 out of   3 | elapsed:    4.4s finished\n",
            "[Parallel(n_jobs=1)]: Using backend SequentialBackend with 1 concurrent workers.\n"
          ]
        },
        {
          "output_type": "stream",
          "name": "stdout",
          "text": [
            "Starting bracket 2 (out of 4) of hyperband\n",
            "Starting successive halving iteration 1 out of 3. Fitting 9 configurations, with resource_param n_estimators set to 111, and keeping the best 3 configurations.\n",
            "Fitting 3 folds for each of 9 candidates, totalling 27 fits\n"
          ]
        },
        {
          "output_type": "stream",
          "name": "stderr",
          "text": [
            "[Parallel(n_jobs=1)]: Done  27 out of  27 | elapsed:    5.2s finished\n",
            "[Parallel(n_jobs=1)]: Using backend SequentialBackend with 1 concurrent workers.\n"
          ]
        },
        {
          "output_type": "stream",
          "name": "stdout",
          "text": [
            "Starting successive halving iteration 2 out of 3. Fitting 3 configurations, with resource_param n_estimators set to 333, and keeping the best 1 configurations.\n",
            "Fitting 3 folds for each of 3 candidates, totalling 9 fits\n"
          ]
        },
        {
          "output_type": "stream",
          "name": "stderr",
          "text": [
            "[Parallel(n_jobs=1)]: Done   9 out of   9 | elapsed:    4.4s finished\n",
            "[Parallel(n_jobs=1)]: Using backend SequentialBackend with 1 concurrent workers.\n"
          ]
        },
        {
          "output_type": "stream",
          "name": "stdout",
          "text": [
            "Starting successive halving iteration 3 out of 3. Fitting 1 configurations, with resource_param n_estimators set to 1000\n",
            "Fitting 3 folds for each of 1 candidates, totalling 3 fits\n"
          ]
        },
        {
          "output_type": "stream",
          "name": "stderr",
          "text": [
            "[Parallel(n_jobs=1)]: Done   3 out of   3 | elapsed:    4.5s finished\n",
            "[Parallel(n_jobs=1)]: Using backend SequentialBackend with 1 concurrent workers.\n"
          ]
        },
        {
          "output_type": "stream",
          "name": "stdout",
          "text": [
            "Starting bracket 3 (out of 4) of hyperband\n",
            "Starting successive halving iteration 1 out of 2. Fitting 6 configurations, with resource_param n_estimators set to 333, and keeping the best 2 configurations.\n",
            "Fitting 3 folds for each of 6 candidates, totalling 18 fits\n"
          ]
        },
        {
          "output_type": "stream",
          "name": "stderr",
          "text": [
            "[Parallel(n_jobs=1)]: Done  18 out of  18 | elapsed:   10.2s finished\n",
            "[Parallel(n_jobs=1)]: Using backend SequentialBackend with 1 concurrent workers.\n"
          ]
        },
        {
          "output_type": "stream",
          "name": "stdout",
          "text": [
            "Starting successive halving iteration 2 out of 2. Fitting 2 configurations, with resource_param n_estimators set to 1000\n",
            "Fitting 3 folds for each of 2 candidates, totalling 6 fits\n"
          ]
        },
        {
          "output_type": "stream",
          "name": "stderr",
          "text": [
            "[Parallel(n_jobs=1)]: Done   6 out of   6 | elapsed:    9.0s finished\n",
            "[Parallel(n_jobs=1)]: Using backend SequentialBackend with 1 concurrent workers.\n"
          ]
        },
        {
          "output_type": "stream",
          "name": "stdout",
          "text": [
            "Starting bracket 4 (out of 4) of hyperband\n",
            "Starting successive halving iteration 1 out of 1. Fitting 4 configurations, with resource_param n_estimators set to 1000, and keeping the best 1 configurations.\n",
            "Fitting 3 folds for each of 4 candidates, totalling 12 fits\n"
          ]
        },
        {
          "output_type": "stream",
          "name": "stderr",
          "text": [
            "[Parallel(n_jobs=1)]: Done  12 out of  12 | elapsed:   21.7s finished\n"
          ]
        },
        {
          "output_type": "stream",
          "name": "stdout",
          "text": [
            "CPU times: user 1min 12s, sys: 538 ms, total: 1min 13s\n",
            "Wall time: 1min 13s\n"
          ]
        }
      ]
    },
    {
      "cell_type": "markdown",
      "metadata": {
        "id": "GvMC3kKUs-ry"
      },
      "source": [
        "Así, el número de árboles con los que prueba son 500 y opciones de repartir 500 entre 3.\n",
        "\n",
        "Fijarse cómo en la primera iteración realiza la realiza sobre los 4 candidatos, después sobre 3, 2 y 1 candidato. En la siguiente iteración ya solo realiza sobre 3, 2 y 1...\n",
        "\n",
        "La mejor combinación que ha encontrado es:"
      ]
    },
    {
      "cell_type": "code",
      "metadata": {
        "id": "Mz9G0cLSs-rz",
        "outputId": "85913f1c-2f40-49d1-b40c-a498637a2ab4",
        "colab": {
          "base_uri": "https://localhost:8080/"
        }
      },
      "source": [
        "Hyb_search_RF.best_params_"
      ],
      "execution_count": 9,
      "outputs": [
        {
          "output_type": "execute_result",
          "data": {
            "text/plain": [
              "{'max_depth': 7, 'max_features': 2, 'n_estimators': 1000}"
            ]
          },
          "metadata": {},
          "execution_count": 9
        }
      ]
    },
    {
      "cell_type": "markdown",
      "metadata": {
        "id": "sNBKA0681hZV"
      },
      "source": [
        "El resultado obtenido es:"
      ]
    },
    {
      "cell_type": "code",
      "metadata": {
        "id": "npfDhSb-1a_w",
        "outputId": "ad900b3b-6e9a-4255-a483-6becba729302",
        "colab": {
          "base_uri": "https://localhost:8080/"
        }
      },
      "source": [
        "import numpy as np\n",
        "negative_mse = Hyb_search_RF.best_score_\n",
        "rmse = np.sqrt(-negative_mse)\n",
        "rmse"
      ],
      "execution_count": 10,
      "outputs": [
        {
          "output_type": "execute_result",
          "data": {
            "text/plain": [
              "56.99662358422397"
            ]
          },
          "metadata": {},
          "execution_count": 10
        }
      ]
    },
    {
      "cell_type": "markdown",
      "metadata": {
        "id": "MAqgnvpZ4xTS"
      },
      "source": [
        "Las combinaciones que ha probado son:"
      ]
    },
    {
      "cell_type": "code",
      "metadata": {
        "id": "khvPAT2ds-r0",
        "outputId": "254ac930-c175-4930-b2f6-e4cf5353dc50",
        "colab": {
          "base_uri": "https://localhost:8080/"
        }
      },
      "source": [
        "cvres = Hyb_search_RF.cv_results_\n",
        "print(len(cvres[\"params\"]))\n",
        "i=0\n",
        "for mean_score, params in zip(cvres[\"mean_test_score\"], cvres[\"params\"]):\n",
        "    i+=1\n",
        "    print(i, np.sqrt(-mean_score), params)"
      ],
      "execution_count": 11,
      "outputs": [
        {
          "output_type": "stream",
          "name": "stdout",
          "text": [
            "50\n",
            "1 57.2355488823282 {'max_features': 2, 'max_depth': 7, 'n_estimators': 37}\n",
            "2 57.831206469147034 {'max_features': 4, 'max_depth': 7, 'n_estimators': 37}\n",
            "3 59.26947154363717 {'max_features': 6, 'max_depth': 7, 'n_estimators': 37}\n",
            "4 59.904104933311245 {'max_features': 8, 'max_depth': 7, 'n_estimators': 37}\n",
            "5 57.19381426311678 {'max_features': 2, 'max_depth': 9, 'n_estimators': 37}\n",
            "6 58.385332555621574 {'max_features': 4, 'max_depth': 9, 'n_estimators': 37}\n",
            "7 58.42575754567794 {'max_features': 6, 'max_depth': 9, 'n_estimators': 37}\n",
            "8 60.34755886000868 {'max_features': 8, 'max_depth': 9, 'n_estimators': 37}\n",
            "9 57.669834608384065 {'max_features': 2, 'max_depth': None, 'n_estimators': 37}\n",
            "10 57.72887508339253 {'max_features': 4, 'max_depth': None, 'n_estimators': 37}\n",
            "11 59.07176991064861 {'max_features': 6, 'max_depth': None, 'n_estimators': 37}\n",
            "12 60.33793643188958 {'max_features': 8, 'max_depth': None, 'n_estimators': 37}\n",
            "13 57.59456437519435 {'max_features': 2, 'max_depth': 9, 'n_estimators': 111}\n",
            "14 57.11312158440581 {'max_features': 2, 'max_depth': 7, 'n_estimators': 111}\n",
            "15 57.56673480523531 {'max_features': 2, 'max_depth': None, 'n_estimators': 111}\n",
            "16 57.314980918283396 {'max_features': 4, 'max_depth': None, 'n_estimators': 111}\n",
            "17 57.3579424801204 {'max_features': 4, 'max_depth': 7, 'n_estimators': 111}\n",
            "18 57.29490634537468 {'max_features': 4, 'max_depth': 9, 'n_estimators': 111}\n",
            "19 58.395897219151315 {'max_features': 6, 'max_depth': 9, 'n_estimators': 111}\n",
            "20 58.6538806151438 {'max_features': 6, 'max_depth': None, 'n_estimators': 111}\n",
            "21 58.05643847349582 {'max_features': 6, 'max_depth': 7, 'n_estimators': 111}\n",
            "22 57.060845589816964 {'max_features': 2, 'max_depth': 7, 'n_estimators': 333}\n",
            "23 57.38231138186536 {'max_features': 2, 'max_depth': 9, 'n_estimators': 333}\n",
            "24 57.060845589816964 {'max_features': 2, 'max_depth': 7, 'n_estimators': 333}\n",
            "25 56.99662358422397 {'max_features': 2, 'max_depth': 7, 'n_estimators': 1000}\n",
            "26 58.6538806151438 {'max_features': 6, 'max_depth': None, 'n_estimators': 111}\n",
            "27 57.314980918283396 {'max_features': 4, 'max_depth': None, 'n_estimators': 111}\n",
            "28 57.11312158440581 {'max_features': 2, 'max_depth': 7, 'n_estimators': 111}\n",
            "29 57.56673480523531 {'max_features': 2, 'max_depth': None, 'n_estimators': 111}\n",
            "30 57.29490634537468 {'max_features': 4, 'max_depth': 9, 'n_estimators': 111}\n",
            "31 58.05643847349582 {'max_features': 6, 'max_depth': 7, 'n_estimators': 111}\n",
            "32 57.3579424801204 {'max_features': 4, 'max_depth': 7, 'n_estimators': 111}\n",
            "33 59.08214863737304 {'max_features': 8, 'max_depth': None, 'n_estimators': 111}\n",
            "34 57.59456437519435 {'max_features': 2, 'max_depth': 9, 'n_estimators': 111}\n",
            "35 57.060845589816964 {'max_features': 2, 'max_depth': 7, 'n_estimators': 333}\n",
            "36 57.060845589816964 {'max_features': 2, 'max_depth': 7, 'n_estimators': 333}\n",
            "37 57.060845589816964 {'max_features': 2, 'max_depth': 7, 'n_estimators': 333}\n",
            "38 56.99662358422397 {'max_features': 2, 'max_depth': 7, 'n_estimators': 1000}\n",
            "39 57.88464930243941 {'max_features': 6, 'max_depth': None, 'n_estimators': 333}\n",
            "40 57.37726234893947 {'max_features': 4, 'max_depth': None, 'n_estimators': 333}\n",
            "41 57.060845589816964 {'max_features': 2, 'max_depth': 7, 'n_estimators': 333}\n",
            "42 57.15967642918347 {'max_features': 2, 'max_depth': None, 'n_estimators': 333}\n",
            "43 57.66427565346254 {'max_features': 6, 'max_depth': 9, 'n_estimators': 333}\n",
            "44 58.63406531244783 {'max_features': 8, 'max_depth': 7, 'n_estimators': 333}\n",
            "45 56.99662358422397 {'max_features': 2, 'max_depth': 7, 'n_estimators': 1000}\n",
            "46 56.99662358422397 {'max_features': 2, 'max_depth': 7, 'n_estimators': 1000}\n",
            "47 58.4068247906597 {'max_features': 8, 'max_depth': 9, 'n_estimators': 1000}\n",
            "48 57.32355908725317 {'max_features': 2, 'max_depth': 9, 'n_estimators': 1000}\n",
            "49 57.62263269295686 {'max_features': 6, 'max_depth': None, 'n_estimators': 1000}\n",
            "50 58.34956890456944 {'max_features': 8, 'max_depth': 7, 'n_estimators': 1000}\n"
          ]
        }
      ]
    },
    {
      "cell_type": "markdown",
      "metadata": {
        "id": "1YmwWpxU42su"
      },
      "source": [
        "Finalmente, probamos el método obtenido sobre el conjunto de test."
      ]
    },
    {
      "cell_type": "code",
      "metadata": {
        "id": "yhcjcNncs-r0",
        "outputId": "fe222ed7-b2c8-4576-b179-eedc8257bf5d",
        "colab": {
          "base_uri": "https://localhost:8080/",
          "height": 245
        }
      },
      "source": [
        "final_model_hyb = Hyb_search_RF.best_estimator_\n",
        "final_predictions_hyb = final_model_hyb.predict(X_test)\n",
        "\n",
        "final_mse_hyb = mean_squared_error(y_test, final_predictions_hyb)\n",
        "final_rmse_hyb = np.sqrt(final_mse_hyb)\n",
        "final_rmse_hyb"
      ],
      "execution_count": 12,
      "outputs": [
        {
          "output_type": "error",
          "ename": "NameError",
          "evalue": "ignored",
          "traceback": [
            "\u001b[0;31m---------------------------------------------------------------------------\u001b[0m",
            "\u001b[0;31mNameError\u001b[0m                                 Traceback (most recent call last)",
            "\u001b[0;32m<ipython-input-12-b5045e01cb5f>\u001b[0m in \u001b[0;36m<module>\u001b[0;34m()\u001b[0m\n\u001b[1;32m      2\u001b[0m \u001b[0mfinal_predictions_hyb\u001b[0m \u001b[0;34m=\u001b[0m \u001b[0mfinal_model_hyb\u001b[0m\u001b[0;34m.\u001b[0m\u001b[0mpredict\u001b[0m\u001b[0;34m(\u001b[0m\u001b[0mX_test\u001b[0m\u001b[0;34m)\u001b[0m\u001b[0;34m\u001b[0m\u001b[0;34m\u001b[0m\u001b[0m\n\u001b[1;32m      3\u001b[0m \u001b[0;34m\u001b[0m\u001b[0m\n\u001b[0;32m----> 4\u001b[0;31m \u001b[0mfinal_mse_hyb\u001b[0m \u001b[0;34m=\u001b[0m \u001b[0mmean_squared_error\u001b[0m\u001b[0;34m(\u001b[0m\u001b[0my_test\u001b[0m\u001b[0;34m,\u001b[0m \u001b[0mfinal_predictions_hyb\u001b[0m\u001b[0;34m)\u001b[0m\u001b[0;34m\u001b[0m\u001b[0;34m\u001b[0m\u001b[0m\n\u001b[0m\u001b[1;32m      5\u001b[0m \u001b[0mfinal_rmse_hyb\u001b[0m \u001b[0;34m=\u001b[0m \u001b[0mnp\u001b[0m\u001b[0;34m.\u001b[0m\u001b[0msqrt\u001b[0m\u001b[0;34m(\u001b[0m\u001b[0mfinal_mse_hyb\u001b[0m\u001b[0;34m)\u001b[0m\u001b[0;34m\u001b[0m\u001b[0;34m\u001b[0m\u001b[0m\n\u001b[1;32m      6\u001b[0m \u001b[0mfinal_rmse_hyb\u001b[0m\u001b[0;34m\u001b[0m\u001b[0;34m\u001b[0m\u001b[0m\n",
            "\u001b[0;31mNameError\u001b[0m: name 'mean_squared_error' is not defined"
          ]
        }
      ]
    },
    {
      "cell_type": "markdown",
      "metadata": {
        "id": "rPksuw1Qs-r1"
      },
      "source": [
        "## Ejercicios Hyperband"
      ]
    },
    {
      "cell_type": "markdown",
      "metadata": {
        "id": "Y4JKEHBYs-r1"
      },
      "source": [
        "EJERCICIO: Emplea Hyperband sobre el ejercicio SVR. \n",
        "\n",
        "Utiliza el mismo espacio para los parámetros que en el primer ejercicio del bloque de ejercicios del Random Search.\n",
        "\n",
        "Como parámetro de división de recursos usa el parámetro 'max_iter' de SVR, con número de iteraciones mínima 300, máxima 10000 y el parámetro de división de recursos a 4."
      ]
    },
    {
      "cell_type": "code",
      "metadata": {
        "id": "KtQf6uOks-r2"
      },
      "source": [
        "# Solución\n",
        "Hyb_search_RF = HyperbandSearchCV(forest_reg,\n",
        "                           param_grid,\n",
        "                           resource_param='n_estimators', #Recursos que se asignarán en cada estimacion. En Random Forest tipicamente el número de árboles\n",
        "                           verbose =1,\n",
        "                           max_iter=1000, #Numero de árboles máximo en una iteración\n",
        "                           min_iter=30, #Numero de árboles mínimo en una iteración\n",
        "                           eta=3, #Reducción de recursos en cada iteración, en este caso se reducira un tercio\n",
        "                           cv=3,\n",
        "                           scoring='neg_mean_squared_error',\n",
        "                           random_state = 42)\n",
        "\n",
        "Hyb_search_RF.fit(X_train, y_train)"
      ],
      "execution_count": 14,
      "outputs": []
    },
    {
      "cell_type": "markdown",
      "metadata": {
        "id": "EFbTHnkeHWsB"
      },
      "source": [
        "PREGUNTA: ¿Cuáles son los mejores valores para los hiperparámetros? ¿Cuál es el mejor resultado?¿Cuántas opciones ha probado?"
      ]
    },
    {
      "cell_type": "code",
      "metadata": {
        "id": "k8Zl2huVHhVA"
      },
      "source": [
        "# Solución"
      ],
      "execution_count": null,
      "outputs": []
    },
    {
      "cell_type": "markdown",
      "metadata": {
        "id": "wH7RRYclqFZV"
      },
      "source": [
        "EJERCICIO: Obtén sobre el conjunto de test los resultados con el mejor método obtenido. ¿Mejora los métodos aplicados previamente sobre el SVR? "
      ]
    },
    {
      "cell_type": "code",
      "metadata": {
        "id": "P9CFDs50Hv6Q"
      },
      "source": [
        "# Solución\n"
      ],
      "execution_count": null,
      "outputs": []
    },
    {
      "cell_type": "markdown",
      "metadata": {
        "id": "sWx-22AQVv7z"
      },
      "source": [
        "EJERCICIO (opcional): En redes neuronales un parámetro típico en el que interviene la división de recursos es en el número de itereciones a entrenar la red. Aplica hyperband a la siguiente red neuronal aplicada a regresiones [MLPRegressor](https://scikit-learn.org/stable/modules/generated/sklearn.neural_network.MLPRegressor.html). Incluye diferentes opciones para los parámetros 'solver', 'activation', 'alpha' y 'momentum'. Obten la mejor opción sobre el conjunto de validación y test."
      ]
    },
    {
      "cell_type": "code",
      "metadata": {
        "id": "_ILzBs19PNzu"
      },
      "source": [
        "from sklearn.neural_network import MLPRegressor\n",
        "\n",
        "NN_reg = MLPRegressor(solver='sgd', alpha=0.01, momentum=0.1, activation='relu',\n",
        "                    hidden_layer_sizes= (5, 2), random_state=42,  max_iter=2000)\n",
        "\n",
        "print(NN_reg.fit(X_train, y_train))\n",
        "\n",
        "scores = cross_val_score(NN_reg, X_train, y_train, scoring=\"neg_mean_squared_error\", cv=3)\n",
        "forest_rmse_scores = np.sqrt(-scores)\n",
        "display_scores(forest_rmse_scores)"
      ],
      "execution_count": null,
      "outputs": []
    },
    {
      "cell_type": "markdown",
      "metadata": {
        "id": "Wgl-2ucEWXxn"
      },
      "source": [
        "En particular "
      ]
    },
    {
      "cell_type": "code",
      "metadata": {
        "id": "XXCBjSWEQ6dh"
      },
      "source": [
        "%%time\n",
        "\n",
        "NN_reg_params = {\n",
        "    'solver': ['lbfgs', 'sgd', 'adam'],\n",
        "    'activation': ['relu','tanh', 'logistic'],\n",
        "    'alpha': [0.001, 0.01, 0.1, 0.9],\n",
        "    'momentum': [0.01, 0.1, 0.9],\n",
        "}\n",
        "\n",
        "NN_reg = MLPRegressor(hidden_layer_sizes=(5, 2), random_state=42)\n"
      ],
      "execution_count": null,
      "outputs": []
    },
    {
      "cell_type": "code",
      "metadata": {
        "id": "htVObhjEm9eX"
      },
      "source": [
        "# Solución\n",
        "%%time \n"
      ],
      "execution_count": null,
      "outputs": []
    },
    {
      "cell_type": "markdown",
      "metadata": {
        "id": "jj0NOQcckfHX"
      },
      "source": [
        "# Métodos de optimización basados en la naturaleza"
      ]
    },
    {
      "cell_type": "markdown",
      "metadata": {
        "id": "NufxUiE-rCf5"
      },
      "source": [
        "Compara distintos tipos de ajuste de hiperparámetros inspirados por la naturaleza.\n",
        "\n",
        "Estos algoritmos tratan de imitar el comportamiento de algunos seres vivos en rutinas algorítmicas de optimización.\n",
        "\n",
        "- Un **individuo** es una combinación de parámetros a ser entrenados durante un ciclo de optimización. Los resultados de cada individuo son almacenados entre ciclos. \n",
        "- Una **población** es un grupo de individuos en una generación/ciclo de optimización.\n",
        "\n",
        "Los algoritmos que siguen están modificados para que sea razonable de ejecutar en tiempo. Pero se pierde parte de la gracia ya que son más rápidos cuando existen muchos hiperparámetros a buscar."
      ]
    },
    {
      "cell_type": "code",
      "metadata": {
        "id": "uVFd6ndPX_0J",
        "outputId": "b2a793ba-11a9-49cb-f9f1-82d7cdd9e84e",
        "colab": {
          "base_uri": "https://localhost:8080/"
        }
      },
      "source": [
        "#! instalamos la librería sklearn_nature_inspired_algorithms\n",
        "! pip install sklearn_nature_inspired_algorithms==0.5.1 #==0.4.3"
      ],
      "execution_count": 9,
      "outputs": [
        {
          "output_type": "stream",
          "name": "stdout",
          "text": [
            "Requirement already satisfied: sklearn_nature_inspired_algorithms==0.5.1 in /usr/local/lib/python3.7/dist-packages (0.5.1)\n",
            "Requirement already satisfied: NiaPy==2.0.0rc10 in /usr/local/lib/python3.7/dist-packages (from sklearn_nature_inspired_algorithms==0.5.1) (2.0.0rc10)\n",
            "Requirement already satisfied: numpy<2.0.0,>=1.18 in /usr/local/lib/python3.7/dist-packages (from sklearn_nature_inspired_algorithms==0.5.1) (1.19.5)\n",
            "Requirement already satisfied: pandas<2.0.0,>=1.0 in /usr/local/lib/python3.7/dist-packages (from sklearn_nature_inspired_algorithms==0.5.1) (1.1.5)\n",
            "Requirement already satisfied: toml<1.0.0,>=0.9 in /usr/local/lib/python3.7/dist-packages (from sklearn_nature_inspired_algorithms==0.5.1) (0.10.2)\n",
            "Requirement already satisfied: seaborn<1.0.0,>=0.10 in /usr/local/lib/python3.7/dist-packages (from sklearn_nature_inspired_algorithms==0.5.1) (0.11.2)\n",
            "Requirement already satisfied: scikit-learn<1.0.0,>=0.22 in /usr/local/lib/python3.7/dist-packages (from sklearn_nature_inspired_algorithms==0.5.1) (0.23.2)\n",
            "Requirement already satisfied: matplotlib<4.0.0,>=3.2 in /usr/local/lib/python3.7/dist-packages (from sklearn_nature_inspired_algorithms==0.5.1) (3.2.2)\n",
            "Requirement already satisfied: enum34>=1.1.6 in /usr/local/lib/python3.7/dist-packages (from NiaPy==2.0.0rc10->sklearn_nature_inspired_algorithms==0.5.1) (1.1.10)\n",
            "Requirement already satisfied: xlsxwriter>=1.1.5 in /usr/local/lib/python3.7/dist-packages (from NiaPy==2.0.0rc10->sklearn_nature_inspired_algorithms==0.5.1) (3.0.2)\n",
            "Requirement already satisfied: scipy>=1.1.0 in /usr/local/lib/python3.7/dist-packages (from NiaPy==2.0.0rc10->sklearn_nature_inspired_algorithms==0.5.1) (1.4.1)\n",
            "Requirement already satisfied: pyparsing!=2.0.4,!=2.1.2,!=2.1.6,>=2.0.1 in /usr/local/lib/python3.7/dist-packages (from matplotlib<4.0.0,>=3.2->sklearn_nature_inspired_algorithms==0.5.1) (3.0.6)\n",
            "Requirement already satisfied: kiwisolver>=1.0.1 in /usr/local/lib/python3.7/dist-packages (from matplotlib<4.0.0,>=3.2->sklearn_nature_inspired_algorithms==0.5.1) (1.3.2)\n",
            "Requirement already satisfied: cycler>=0.10 in /usr/local/lib/python3.7/dist-packages (from matplotlib<4.0.0,>=3.2->sklearn_nature_inspired_algorithms==0.5.1) (0.11.0)\n",
            "Requirement already satisfied: python-dateutil>=2.1 in /usr/local/lib/python3.7/dist-packages (from matplotlib<4.0.0,>=3.2->sklearn_nature_inspired_algorithms==0.5.1) (2.8.2)\n",
            "Requirement already satisfied: pytz>=2017.2 in /usr/local/lib/python3.7/dist-packages (from pandas<2.0.0,>=1.0->sklearn_nature_inspired_algorithms==0.5.1) (2018.9)\n",
            "Requirement already satisfied: six>=1.5 in /usr/local/lib/python3.7/dist-packages (from python-dateutil>=2.1->matplotlib<4.0.0,>=3.2->sklearn_nature_inspired_algorithms==0.5.1) (1.15.0)\n",
            "Requirement already satisfied: threadpoolctl>=2.0.0 in /usr/local/lib/python3.7/dist-packages (from scikit-learn<1.0.0,>=0.22->sklearn_nature_inspired_algorithms==0.5.1) (3.0.0)\n",
            "Requirement already satisfied: joblib>=0.11 in /usr/local/lib/python3.7/dist-packages (from scikit-learn<1.0.0,>=0.22->sklearn_nature_inspired_algorithms==0.5.1) (1.1.0)\n"
          ]
        }
      ]
    },
    {
      "cell_type": "code",
      "metadata": {
        "id": "anM7zxxJmO7q"
      },
      "source": [
        "from sklearn_nature_inspired_algorithms.model_selection.nature_inspired_search_cv import NatureInspiredSearchCV\n",
        "from sklearn_nature_inspired_algorithms.helpers import score_by_generation_lineplot"
      ],
      "execution_count": 10,
      "outputs": []
    },
    {
      "cell_type": "markdown",
      "metadata": {
        "id": "_EKCrfb5x8gE"
      },
      "source": [
        "Intentamos de nuevo hacer la búsqueda de hiperparámetros para un random forest."
      ]
    },
    {
      "cell_type": "code",
      "metadata": {
        "id": "9XhyCao6l_Qd"
      },
      "source": [
        "param_grid = {\n",
        "    # 12 (3×4) combinaciones de hiperparámetros\n",
        "    'n_estimators': [30, 100, 300],\n",
        "    'max_features': [3, 6, 8, 'auto']\n",
        "    }   \n"
      ],
      "execution_count": 11,
      "outputs": []
    },
    {
      "cell_type": "markdown",
      "metadata": {
        "id": "fhY-Wwc_yK4T"
      },
      "source": [
        "La búsqueda se realiza a través de [NatureInspiredSearchCV](https://sklearn-nature-inspired-algorithms.readthedocs.io/en/stable/introduction/nature-inspired-search-cv.html). El conjunto de algoritmos implementados puede consultarse [aquí](https://sklearn-nature-inspired-algorithms.readthedocs.io/en/stable/introduction/algorithms.html)."
      ]
    },
    {
      "cell_type": "code",
      "metadata": {
        "id": "lm66xyO6mZWK",
        "outputId": "06f3802a-675a-4ec4-d8ae-35e577cafe9f",
        "colab": {
          "base_uri": "https://localhost:8080/",
          "height": 487
        }
      },
      "source": [
        "%%time\n",
        "\n",
        "nia_search_RF = NatureInspiredSearchCV(\n",
        "    forest_reg,\n",
        "    param_grid,\n",
        "    cv=3,\n",
        "    verbose=2,\n",
        "    algorithm='ba', #Bat Algorithm \n",
        "    population_size=5, #Número de estimadores en la población. Cuando la población es pequeña la búsqueda será más rápida pero puede que no se llegue a obtener el mejor resultado (que se alcanzará cuando el tamaño de la población es similar a la posible combianción de parámetros).\n",
        "    max_n_gen=100, #Número máximo de generaciones a ser optimizadas. \n",
        "    max_stagnating_gen=5, #Si el resultado permanece invariable durante este número de generaciones la optimización se detiene.\n",
        "    n_jobs=-1,\n",
        "    scoring=\"neg_mean_squared_error\",\n",
        "    random_state=42)\n",
        "\n",
        "nia_search_RF.fit(X_train, y_train)\n",
        "print(nia_search_RF)"
      ],
      "execution_count": 15,
      "outputs": [
        {
          "output_type": "error",
          "ename": "NameError",
          "evalue": "ignored",
          "traceback": [
            "\u001b[0;31m---------------------------------------------------------------------------\u001b[0m",
            "\u001b[0;31mNameError\u001b[0m                                 Traceback (most recent call last)",
            "\u001b[0;32m<ipython-input-15-98fc1c46849e>\u001b[0m in \u001b[0;36m<module>\u001b[0;34m()\u001b[0m\n\u001b[0;32m----> 1\u001b[0;31m \u001b[0mget_ipython\u001b[0m\u001b[0;34m(\u001b[0m\u001b[0;34m)\u001b[0m\u001b[0;34m.\u001b[0m\u001b[0mrun_cell_magic\u001b[0m\u001b[0;34m(\u001b[0m\u001b[0;34m'time'\u001b[0m\u001b[0;34m,\u001b[0m \u001b[0;34m''\u001b[0m\u001b[0;34m,\u001b[0m \u001b[0;34m'\\nnia_search_RF = NatureInspiredSearchCV(\\n    forest_reg,\\n    param_grid,\\n    cv=3,\\n    verbose=2,\\n    algorithm=\\'ba\\', #Bat Algorithm \\n    population_size=5, #Número de estimadores en la población. Cuando la población es pequeña la búsqueda será más rápida pero puede que no se llegue a obtener el mejor resultado (que se alcanzará cuando el tamaño de la población es similar a la posible combianción de parámetros).\\n    max_n_gen=100, #Número máximo de generaciones a ser optimizadas. \\n    max_stagnating_gen=5, #Si el resultado permanece invariable durante este número de generaciones la optimización se detiene.\\n    n_jobs=-1,\\n    scoring=\"neg_mean_squared_error\",\\n    random_state=42)\\n\\nnia_search_RF.fit(X_train, y_train)\\nprint(nia_search_RF)'\u001b[0m\u001b[0;34m)\u001b[0m\u001b[0;34m\u001b[0m\u001b[0;34m\u001b[0m\u001b[0m\n\u001b[0m",
            "\u001b[0;32m/usr/local/lib/python3.7/dist-packages/IPython/core/interactiveshell.py\u001b[0m in \u001b[0;36mrun_cell_magic\u001b[0;34m(self, magic_name, line, cell)\u001b[0m\n\u001b[1;32m   2115\u001b[0m             \u001b[0mmagic_arg_s\u001b[0m \u001b[0;34m=\u001b[0m \u001b[0mself\u001b[0m\u001b[0;34m.\u001b[0m\u001b[0mvar_expand\u001b[0m\u001b[0;34m(\u001b[0m\u001b[0mline\u001b[0m\u001b[0;34m,\u001b[0m \u001b[0mstack_depth\u001b[0m\u001b[0;34m)\u001b[0m\u001b[0;34m\u001b[0m\u001b[0;34m\u001b[0m\u001b[0m\n\u001b[1;32m   2116\u001b[0m             \u001b[0;32mwith\u001b[0m \u001b[0mself\u001b[0m\u001b[0;34m.\u001b[0m\u001b[0mbuiltin_trap\u001b[0m\u001b[0;34m:\u001b[0m\u001b[0;34m\u001b[0m\u001b[0;34m\u001b[0m\u001b[0m\n\u001b[0;32m-> 2117\u001b[0;31m                 \u001b[0mresult\u001b[0m \u001b[0;34m=\u001b[0m \u001b[0mfn\u001b[0m\u001b[0;34m(\u001b[0m\u001b[0mmagic_arg_s\u001b[0m\u001b[0;34m,\u001b[0m \u001b[0mcell\u001b[0m\u001b[0;34m)\u001b[0m\u001b[0;34m\u001b[0m\u001b[0;34m\u001b[0m\u001b[0m\n\u001b[0m\u001b[1;32m   2118\u001b[0m             \u001b[0;32mreturn\u001b[0m \u001b[0mresult\u001b[0m\u001b[0;34m\u001b[0m\u001b[0;34m\u001b[0m\u001b[0m\n\u001b[1;32m   2119\u001b[0m \u001b[0;34m\u001b[0m\u001b[0m\n",
            "\u001b[0;32m<decorator-gen-53>\u001b[0m in \u001b[0;36mtime\u001b[0;34m(self, line, cell, local_ns)\u001b[0m\n",
            "\u001b[0;32m/usr/local/lib/python3.7/dist-packages/IPython/core/magic.py\u001b[0m in \u001b[0;36m<lambda>\u001b[0;34m(f, *a, **k)\u001b[0m\n\u001b[1;32m    186\u001b[0m     \u001b[0;31m# but it's overkill for just that one bit of state.\u001b[0m\u001b[0;34m\u001b[0m\u001b[0;34m\u001b[0m\u001b[0;34m\u001b[0m\u001b[0m\n\u001b[1;32m    187\u001b[0m     \u001b[0;32mdef\u001b[0m \u001b[0mmagic_deco\u001b[0m\u001b[0;34m(\u001b[0m\u001b[0marg\u001b[0m\u001b[0;34m)\u001b[0m\u001b[0;34m:\u001b[0m\u001b[0;34m\u001b[0m\u001b[0;34m\u001b[0m\u001b[0m\n\u001b[0;32m--> 188\u001b[0;31m         \u001b[0mcall\u001b[0m \u001b[0;34m=\u001b[0m \u001b[0;32mlambda\u001b[0m \u001b[0mf\u001b[0m\u001b[0;34m,\u001b[0m \u001b[0;34m*\u001b[0m\u001b[0ma\u001b[0m\u001b[0;34m,\u001b[0m \u001b[0;34m**\u001b[0m\u001b[0mk\u001b[0m\u001b[0;34m:\u001b[0m \u001b[0mf\u001b[0m\u001b[0;34m(\u001b[0m\u001b[0;34m*\u001b[0m\u001b[0ma\u001b[0m\u001b[0;34m,\u001b[0m \u001b[0;34m**\u001b[0m\u001b[0mk\u001b[0m\u001b[0;34m)\u001b[0m\u001b[0;34m\u001b[0m\u001b[0;34m\u001b[0m\u001b[0m\n\u001b[0m\u001b[1;32m    189\u001b[0m \u001b[0;34m\u001b[0m\u001b[0m\n\u001b[1;32m    190\u001b[0m         \u001b[0;32mif\u001b[0m \u001b[0mcallable\u001b[0m\u001b[0;34m(\u001b[0m\u001b[0marg\u001b[0m\u001b[0;34m)\u001b[0m\u001b[0;34m:\u001b[0m\u001b[0;34m\u001b[0m\u001b[0;34m\u001b[0m\u001b[0m\n",
            "\u001b[0;32m/usr/local/lib/python3.7/dist-packages/IPython/core/magics/execution.py\u001b[0m in \u001b[0;36mtime\u001b[0;34m(self, line, cell, local_ns)\u001b[0m\n\u001b[1;32m   1191\u001b[0m         \u001b[0;32melse\u001b[0m\u001b[0;34m:\u001b[0m\u001b[0;34m\u001b[0m\u001b[0;34m\u001b[0m\u001b[0m\n\u001b[1;32m   1192\u001b[0m             \u001b[0mst\u001b[0m \u001b[0;34m=\u001b[0m \u001b[0mclock2\u001b[0m\u001b[0;34m(\u001b[0m\u001b[0;34m)\u001b[0m\u001b[0;34m\u001b[0m\u001b[0;34m\u001b[0m\u001b[0m\n\u001b[0;32m-> 1193\u001b[0;31m             \u001b[0mexec\u001b[0m\u001b[0;34m(\u001b[0m\u001b[0mcode\u001b[0m\u001b[0;34m,\u001b[0m \u001b[0mglob\u001b[0m\u001b[0;34m,\u001b[0m \u001b[0mlocal_ns\u001b[0m\u001b[0;34m)\u001b[0m\u001b[0;34m\u001b[0m\u001b[0;34m\u001b[0m\u001b[0m\n\u001b[0m\u001b[1;32m   1194\u001b[0m             \u001b[0mend\u001b[0m \u001b[0;34m=\u001b[0m \u001b[0mclock2\u001b[0m\u001b[0;34m(\u001b[0m\u001b[0;34m)\u001b[0m\u001b[0;34m\u001b[0m\u001b[0;34m\u001b[0m\u001b[0m\n\u001b[1;32m   1195\u001b[0m             \u001b[0mout\u001b[0m \u001b[0;34m=\u001b[0m \u001b[0;32mNone\u001b[0m\u001b[0;34m\u001b[0m\u001b[0;34m\u001b[0m\u001b[0m\n",
            "\u001b[0;32m<timed exec>\u001b[0m in \u001b[0;36m<module>\u001b[0;34m()\u001b[0m\n",
            "\u001b[0;31mNameError\u001b[0m: name 'NatureInspiredSearchCV' is not defined"
          ]
        }
      ]
    },
    {
      "cell_type": "code",
      "metadata": {
        "id": "8ywO9Wpu45P1",
        "outputId": "8b87c22c-4339-448c-e91c-55d143c1b9d5",
        "colab": {
          "base_uri": "https://localhost:8080/",
          "height": 171
        }
      },
      "source": [
        "nia_search_RF.best_params_"
      ],
      "execution_count": 14,
      "outputs": [
        {
          "output_type": "error",
          "ename": "NameError",
          "evalue": "ignored",
          "traceback": [
            "\u001b[0;31m---------------------------------------------------------------------------\u001b[0m",
            "\u001b[0;31mNameError\u001b[0m                                 Traceback (most recent call last)",
            "\u001b[0;32m<ipython-input-14-d551c95a39c2>\u001b[0m in \u001b[0;36m<module>\u001b[0;34m()\u001b[0m\n\u001b[0;32m----> 1\u001b[0;31m \u001b[0mnia_search_RF\u001b[0m\u001b[0;34m.\u001b[0m\u001b[0mbest_params_\u001b[0m\u001b[0;34m\u001b[0m\u001b[0;34m\u001b[0m\u001b[0m\n\u001b[0m",
            "\u001b[0;31mNameError\u001b[0m: name 'nia_search_RF' is not defined"
          ]
        }
      ]
    },
    {
      "cell_type": "markdown",
      "metadata": {
        "id": "Tsl1HOS_24WC"
      },
      "source": [
        "El mejor resultado obtenido es el mismo que con grid search:"
      ]
    },
    {
      "cell_type": "code",
      "metadata": {
        "id": "mRDF6iwQ2ug9",
        "outputId": "1dd96db8-cca1-42f1-a01f-747f6121e346",
        "colab": {
          "base_uri": "https://localhost:8080/",
          "height": 208
        }
      },
      "source": [
        "negative_mse = nia_search_RF.best_score_\n",
        "rmse = np.sqrt(-negative_mse)\n",
        "rmse"
      ],
      "execution_count": 16,
      "outputs": [
        {
          "output_type": "error",
          "ename": "NameError",
          "evalue": "ignored",
          "traceback": [
            "\u001b[0;31m---------------------------------------------------------------------------\u001b[0m",
            "\u001b[0;31mNameError\u001b[0m                                 Traceback (most recent call last)",
            "\u001b[0;32m<ipython-input-16-8c024a9d1f8f>\u001b[0m in \u001b[0;36m<module>\u001b[0;34m()\u001b[0m\n\u001b[0;32m----> 1\u001b[0;31m \u001b[0mnegative_mse\u001b[0m \u001b[0;34m=\u001b[0m \u001b[0mnia_search_RF\u001b[0m\u001b[0;34m.\u001b[0m\u001b[0mbest_score_\u001b[0m\u001b[0;34m\u001b[0m\u001b[0;34m\u001b[0m\u001b[0m\n\u001b[0m\u001b[1;32m      2\u001b[0m \u001b[0mrmse\u001b[0m \u001b[0;34m=\u001b[0m \u001b[0mnp\u001b[0m\u001b[0;34m.\u001b[0m\u001b[0msqrt\u001b[0m\u001b[0;34m(\u001b[0m\u001b[0;34m-\u001b[0m\u001b[0mnegative_mse\u001b[0m\u001b[0;34m)\u001b[0m\u001b[0;34m\u001b[0m\u001b[0;34m\u001b[0m\u001b[0m\n\u001b[1;32m      3\u001b[0m \u001b[0mrmse\u001b[0m\u001b[0;34m\u001b[0m\u001b[0;34m\u001b[0m\u001b[0m\n",
            "\u001b[0;31mNameError\u001b[0m: name 'nia_search_RF' is not defined"
          ]
        }
      ]
    },
    {
      "cell_type": "markdown",
      "metadata": {
        "id": "1GSHHLNs3tXS"
      },
      "source": [
        "Si probamos con grid search."
      ]
    },
    {
      "cell_type": "code",
      "metadata": {
        "id": "n1S_0msuSYGL"
      },
      "source": [
        "%%time\n",
        "from sklearn.model_selection import GridSearchCV\n",
        "\n",
        "grid_search_RF = GridSearchCV(forest_reg, param_grid, cv=3,\n",
        "                           scoring='neg_mean_squared_error',\n",
        "                           return_train_score=True, verbose=2, n_jobs=-1)\n",
        "grid_search_RF.fit(X_train, y_train)"
      ],
      "execution_count": null,
      "outputs": []
    },
    {
      "cell_type": "markdown",
      "metadata": {
        "id": "Wqaj8pnM3xo6"
      },
      "source": [
        "Obtenemos el mismo en un tiempo similar."
      ]
    },
    {
      "cell_type": "markdown",
      "metadata": {
        "id": "LklmH0gPCkBB"
      },
      "source": [
        "Con pocas opciones de hiperparámetros no se nota demasiado.\n",
        "Si aumentamos el número de opciones."
      ]
    },
    {
      "cell_type": "code",
      "metadata": {
        "id": "JIL-R0qh6Sbw"
      },
      "source": [
        "from sklearn.ensemble import RandomForestRegressor\n",
        "\n",
        "param_grid ={\n",
        "    'n_estimators': [100, 300, 500],\n",
        "    'max_features': [3, 6, 8, 'auto'],\n",
        "    'max_depth': [5, 10],\n",
        "    'min_samples_leaf': [1,2,4],\n",
        "    \"bootstrap\":[True,False],\n",
        "    #\"criterion\":['mse','mae']\n",
        "} \n",
        "forest_reg = RandomForestRegressor(random_state=42)\n",
        "# entrenamiento para 3 folds, sobre un total de (3*4*2*3*2)*3=432 rondas de entrenamiento "
      ],
      "execution_count": null,
      "outputs": []
    },
    {
      "cell_type": "code",
      "metadata": {
        "id": "8_3YNx-I2-Ha",
        "outputId": "d5adee34-e9d6-4a6b-d285-146ff9e15215",
        "colab": {
          "base_uri": "https://localhost:8080/",
          "height": 433
        }
      },
      "source": [
        "%%time\n",
        "\n",
        "grid_search_RF = GridSearchCV(forest_reg, param_grid, cv=3,\n",
        "                           scoring='neg_mean_squared_error',\n",
        "                           return_train_score=True, verbose=2, n_jobs=-1)\n",
        "grid_search_RF.fit(X_train, y_train)"
      ],
      "execution_count": 13,
      "outputs": [
        {
          "output_type": "error",
          "ename": "NameError",
          "evalue": "ignored",
          "traceback": [
            "\u001b[0;31m---------------------------------------------------------------------------\u001b[0m",
            "\u001b[0;31mNameError\u001b[0m                                 Traceback (most recent call last)",
            "\u001b[0;32m<ipython-input-13-b6c964292691>\u001b[0m in \u001b[0;36m<module>\u001b[0;34m()\u001b[0m\n\u001b[0;32m----> 1\u001b[0;31m \u001b[0mget_ipython\u001b[0m\u001b[0;34m(\u001b[0m\u001b[0;34m)\u001b[0m\u001b[0;34m.\u001b[0m\u001b[0mrun_cell_magic\u001b[0m\u001b[0;34m(\u001b[0m\u001b[0;34m'time'\u001b[0m\u001b[0;34m,\u001b[0m \u001b[0;34m''\u001b[0m\u001b[0;34m,\u001b[0m \u001b[0;34m\"\\ngrid_search_RF = GridSearchCV(forest_reg, param_grid, cv=3,\\n                           scoring='neg_mean_squared_error',\\n                           return_train_score=True, verbose=2, n_jobs=-1)\\ngrid_search_RF.fit(X_train, y_train)\"\u001b[0m\u001b[0;34m)\u001b[0m\u001b[0;34m\u001b[0m\u001b[0;34m\u001b[0m\u001b[0m\n\u001b[0m",
            "\u001b[0;32m/usr/local/lib/python3.7/dist-packages/IPython/core/interactiveshell.py\u001b[0m in \u001b[0;36mrun_cell_magic\u001b[0;34m(self, magic_name, line, cell)\u001b[0m\n\u001b[1;32m   2115\u001b[0m             \u001b[0mmagic_arg_s\u001b[0m \u001b[0;34m=\u001b[0m \u001b[0mself\u001b[0m\u001b[0;34m.\u001b[0m\u001b[0mvar_expand\u001b[0m\u001b[0;34m(\u001b[0m\u001b[0mline\u001b[0m\u001b[0;34m,\u001b[0m \u001b[0mstack_depth\u001b[0m\u001b[0;34m)\u001b[0m\u001b[0;34m\u001b[0m\u001b[0;34m\u001b[0m\u001b[0m\n\u001b[1;32m   2116\u001b[0m             \u001b[0;32mwith\u001b[0m \u001b[0mself\u001b[0m\u001b[0;34m.\u001b[0m\u001b[0mbuiltin_trap\u001b[0m\u001b[0;34m:\u001b[0m\u001b[0;34m\u001b[0m\u001b[0;34m\u001b[0m\u001b[0m\n\u001b[0;32m-> 2117\u001b[0;31m                 \u001b[0mresult\u001b[0m \u001b[0;34m=\u001b[0m \u001b[0mfn\u001b[0m\u001b[0;34m(\u001b[0m\u001b[0mmagic_arg_s\u001b[0m\u001b[0;34m,\u001b[0m \u001b[0mcell\u001b[0m\u001b[0;34m)\u001b[0m\u001b[0;34m\u001b[0m\u001b[0;34m\u001b[0m\u001b[0m\n\u001b[0m\u001b[1;32m   2118\u001b[0m             \u001b[0;32mreturn\u001b[0m \u001b[0mresult\u001b[0m\u001b[0;34m\u001b[0m\u001b[0;34m\u001b[0m\u001b[0m\n\u001b[1;32m   2119\u001b[0m \u001b[0;34m\u001b[0m\u001b[0m\n",
            "\u001b[0;32m<decorator-gen-53>\u001b[0m in \u001b[0;36mtime\u001b[0;34m(self, line, cell, local_ns)\u001b[0m\n",
            "\u001b[0;32m/usr/local/lib/python3.7/dist-packages/IPython/core/magic.py\u001b[0m in \u001b[0;36m<lambda>\u001b[0;34m(f, *a, **k)\u001b[0m\n\u001b[1;32m    186\u001b[0m     \u001b[0;31m# but it's overkill for just that one bit of state.\u001b[0m\u001b[0;34m\u001b[0m\u001b[0;34m\u001b[0m\u001b[0;34m\u001b[0m\u001b[0m\n\u001b[1;32m    187\u001b[0m     \u001b[0;32mdef\u001b[0m \u001b[0mmagic_deco\u001b[0m\u001b[0;34m(\u001b[0m\u001b[0marg\u001b[0m\u001b[0;34m)\u001b[0m\u001b[0;34m:\u001b[0m\u001b[0;34m\u001b[0m\u001b[0;34m\u001b[0m\u001b[0m\n\u001b[0;32m--> 188\u001b[0;31m         \u001b[0mcall\u001b[0m \u001b[0;34m=\u001b[0m \u001b[0;32mlambda\u001b[0m \u001b[0mf\u001b[0m\u001b[0;34m,\u001b[0m \u001b[0;34m*\u001b[0m\u001b[0ma\u001b[0m\u001b[0;34m,\u001b[0m \u001b[0;34m**\u001b[0m\u001b[0mk\u001b[0m\u001b[0;34m:\u001b[0m \u001b[0mf\u001b[0m\u001b[0;34m(\u001b[0m\u001b[0;34m*\u001b[0m\u001b[0ma\u001b[0m\u001b[0;34m,\u001b[0m \u001b[0;34m**\u001b[0m\u001b[0mk\u001b[0m\u001b[0;34m)\u001b[0m\u001b[0;34m\u001b[0m\u001b[0;34m\u001b[0m\u001b[0m\n\u001b[0m\u001b[1;32m    189\u001b[0m \u001b[0;34m\u001b[0m\u001b[0m\n\u001b[1;32m    190\u001b[0m         \u001b[0;32mif\u001b[0m \u001b[0mcallable\u001b[0m\u001b[0;34m(\u001b[0m\u001b[0marg\u001b[0m\u001b[0;34m)\u001b[0m\u001b[0;34m:\u001b[0m\u001b[0;34m\u001b[0m\u001b[0;34m\u001b[0m\u001b[0m\n",
            "\u001b[0;32m/usr/local/lib/python3.7/dist-packages/IPython/core/magics/execution.py\u001b[0m in \u001b[0;36mtime\u001b[0;34m(self, line, cell, local_ns)\u001b[0m\n\u001b[1;32m   1191\u001b[0m         \u001b[0;32melse\u001b[0m\u001b[0;34m:\u001b[0m\u001b[0;34m\u001b[0m\u001b[0;34m\u001b[0m\u001b[0m\n\u001b[1;32m   1192\u001b[0m             \u001b[0mst\u001b[0m \u001b[0;34m=\u001b[0m \u001b[0mclock2\u001b[0m\u001b[0;34m(\u001b[0m\u001b[0;34m)\u001b[0m\u001b[0;34m\u001b[0m\u001b[0;34m\u001b[0m\u001b[0m\n\u001b[0;32m-> 1193\u001b[0;31m             \u001b[0mexec\u001b[0m\u001b[0;34m(\u001b[0m\u001b[0mcode\u001b[0m\u001b[0;34m,\u001b[0m \u001b[0mglob\u001b[0m\u001b[0;34m,\u001b[0m \u001b[0mlocal_ns\u001b[0m\u001b[0;34m)\u001b[0m\u001b[0;34m\u001b[0m\u001b[0;34m\u001b[0m\u001b[0m\n\u001b[0m\u001b[1;32m   1194\u001b[0m             \u001b[0mend\u001b[0m \u001b[0;34m=\u001b[0m \u001b[0mclock2\u001b[0m\u001b[0;34m(\u001b[0m\u001b[0;34m)\u001b[0m\u001b[0;34m\u001b[0m\u001b[0;34m\u001b[0m\u001b[0m\n\u001b[1;32m   1195\u001b[0m             \u001b[0mout\u001b[0m \u001b[0;34m=\u001b[0m \u001b[0;32mNone\u001b[0m\u001b[0;34m\u001b[0m\u001b[0;34m\u001b[0m\u001b[0m\n",
            "\u001b[0;32m<timed exec>\u001b[0m in \u001b[0;36m<module>\u001b[0;34m()\u001b[0m\n",
            "\u001b[0;31mNameError\u001b[0m: name 'GridSearchCV' is not defined"
          ]
        }
      ]
    },
    {
      "cell_type": "markdown",
      "metadata": {
        "id": "7npH4-ajDYRo"
      },
      "source": [
        "Tarda sobre 3 minutos."
      ]
    },
    {
      "cell_type": "code",
      "metadata": {
        "id": "XiBHqM1gAAxo"
      },
      "source": [
        "grid_search_RF.best_params_"
      ],
      "execution_count": null,
      "outputs": []
    },
    {
      "cell_type": "markdown",
      "metadata": {
        "id": "Q0ArNbMX3chX"
      },
      "source": [
        "El mejor resultado obtenido es:"
      ]
    },
    {
      "cell_type": "code",
      "metadata": {
        "id": "JErwB6TG3PqY"
      },
      "source": [
        "negative_mse = grid_search_RF.best_score_\n",
        "rmse = np.sqrt(-negative_mse)\n",
        "rmse"
      ],
      "execution_count": null,
      "outputs": []
    },
    {
      "cell_type": "markdown",
      "metadata": {
        "id": "JNVClol64AHw"
      },
      "source": [
        "Sobre el conjunto de test."
      ]
    },
    {
      "cell_type": "code",
      "metadata": {
        "id": "ctYX8miuDF8k"
      },
      "source": [
        "final_model_grid = grid_search_RF.best_estimator_\n",
        "final_predictions_grid = final_model_grid.predict(X_test)\n",
        "\n",
        "final_mse_grid = mean_squared_error(y_test, final_predictions_grid)\n",
        "final_rmse_grid = np.sqrt(final_mse_grid)\n",
        "final_rmse_grid"
      ],
      "execution_count": null,
      "outputs": []
    },
    {
      "cell_type": "markdown",
      "metadata": {
        "id": "gNPqd5abDzw4"
      },
      "source": [
        "Obtiene un error de algo más 53 puntos.\n",
        "Probamos con el algoritmo basado en la naturaleza."
      ]
    },
    {
      "cell_type": "code",
      "metadata": {
        "id": "sXy67NT-PZUK"
      },
      "source": [
        "%%time\n",
        "\n",
        "nia_search_RF = NatureInspiredSearchCV(\n",
        "    forest_reg,\n",
        "    param_grid,\n",
        "    cv=3,\n",
        "    verbose=0,\n",
        "    algorithm='ba', \n",
        "    population_size=10, #50 \n",
        "    max_n_gen=20, #100\n",
        "    max_stagnating_gen=5,\n",
        "    n_jobs=-1,\n",
        "    scoring='neg_mean_squared_error',\n",
        "    random_state=42)\n",
        "\n",
        "nia_search_RF.fit(X_train, y_train)"
      ],
      "execution_count": null,
      "outputs": []
    },
    {
      "cell_type": "markdown",
      "metadata": {
        "id": "UU3n_JNFmBmv"
      },
      "source": [
        "Encuentra el mismo en 1 minuto."
      ]
    },
    {
      "cell_type": "code",
      "metadata": {
        "id": "ZCJ_fEjAAQLQ"
      },
      "source": [
        "nia_search_RF.best_params_"
      ],
      "execution_count": null,
      "outputs": []
    },
    {
      "cell_type": "code",
      "metadata": {
        "id": "6fIzJmdj38MW"
      },
      "source": [
        "negative_mse = nia_search_RF.best_score_\n",
        "rmse = np.sqrt(-negative_mse)\n",
        "rmse"
      ],
      "execution_count": null,
      "outputs": []
    },
    {
      "cell_type": "markdown",
      "metadata": {
        "id": "bEKjTG5_0qGv"
      },
      "source": [
        "Probando solo 48 opciones de las 144. En ejemplos documentados donde el número de opciones es mayor, la mejoría en tiempo también es más considerable."
      ]
    },
    {
      "cell_type": "code",
      "metadata": {
        "id": "I9qwdfN_nKjo"
      },
      "source": [
        "cvres = nia_search_RF.cv_results_\n",
        "print(len(cvres[\"params\"]))\n",
        "i=0\n",
        "for mean_score, params in zip(cvres[\"mean_test_score\"], cvres[\"params\"]):\n",
        "    i+=1\n",
        "    print(i, np.sqrt(-mean_score), params)"
      ],
      "execution_count": null,
      "outputs": []
    },
    {
      "cell_type": "markdown",
      "metadata": {
        "id": "TNgrbbzrnhnT"
      },
      "source": [
        "## Ejercicios Algoritmos basados en la naturaleza"
      ]
    },
    {
      "cell_type": "markdown",
      "metadata": {
        "id": "MiFNHTBunkuN"
      },
      "source": [
        "EJERCICIO: Aplica un algoritmo basado en la naturaleza para tratar de ajustar los hiperparámetros en el caso del SVR. Prueba incialmente con la siguiente cuadrícula de parámetros\n"
      ]
    },
    {
      "cell_type": "code",
      "metadata": {
        "id": "Wmw0q_0end3H"
      },
      "source": [
        "from sklearn.svm import SVR\n",
        "from scipy.stats import expon, loguniform\n",
        "\n",
        "param_grid_SVR =  {'kernel': ['rbf'], 'C': [1.0, 3.0, 5.0], 'gamma': [0.01, 0.1, 1.0]}\n",
        "    \n",
        "svm_reg = SVR()"
      ],
      "execution_count": null,
      "outputs": []
    },
    {
      "cell_type": "code",
      "metadata": {
        "id": "b0hKyHaioDr3"
      },
      "source": [
        "# Solución\n",
        "%%time\n",
        "\n"
      ],
      "execution_count": null,
      "outputs": []
    },
    {
      "cell_type": "markdown",
      "metadata": {
        "id": "i_HeEOyW65hT"
      },
      "source": [
        "EJERCICIO: ¿Cuáles son los mejores valores para los hiperparámetros? ¿Cuál es el mejor resultado?¿Cuántas opciones ha probado?"
      ]
    },
    {
      "cell_type": "code",
      "metadata": {
        "id": "rjUndtSx7dr5"
      },
      "source": [
        "#Solución\n"
      ],
      "execution_count": null,
      "outputs": []
    },
    {
      "cell_type": "markdown",
      "metadata": {
        "id": "A1jNuzTh68pk"
      },
      "source": [
        "EJERCICIO (Opcional): Prueba a aumentar el número de hiperparámetros para SVR y el número de valores para estos hiperparámetros. Prueba a usar distintos algoritmos basados en la naturaleza de entre los disponibles en la librería. Documenta brevemente el tiempo que emplean y el resultados obtenido."
      ]
    },
    {
      "cell_type": "markdown",
      "metadata": {
        "id": "KIY8tThnSKv3"
      },
      "source": [
        "# Algoritmos genéticos"
      ]
    },
    {
      "cell_type": "markdown",
      "metadata": {
        "id": "qOiifiMzSKv4"
      },
      "source": [
        "Los algorítmos genéticos están basados en la teoría de la evolución, en el que los individuos con mejor capacidad y adaptabilidad al medio son los que tienen más posibilidades de sobrevivir y pasar sus características a la siguiente generación.\n",
        "\n",
        "La aplicación de algorítmos genéticos al ajuste de hiperparámetros considera cada hiperparámetro como una caráterística o cromosoma, y los valores que pueden tomar dichos cromosomas pueden considerarse como genes. Así, los genes de los cromosomas que producen un buen rendimiento son los candidatos a pasar a la siguiente generación (selección). No obstante, se produce una proporción de intercambio de cromosomas y genes entre los padres en la siguiente generación (cruce) lo que genera nuevas combinaciones de cromosomas. También se puede producir una alteración aleatoria en uno o varios genenes (mutación).  Los cruces y mutaciones permiten que las nuevas generaciones tengan características diferentes de los padres y reduzcan la posibilidad de perder características interesantes.\n",
        "\n",
        "Existen distintintas librerías que implementan algoritmos genéticos. Ejemplos son [sklearn-deap](https://github.com/rsteca/sklearn-deap) o [tpot](https://github.com/EpistasisLab/tpot)."
      ]
    },
    {
      "cell_type": "markdown",
      "metadata": {
        "id": "iihqqOpvWfeH"
      },
      "source": [
        "Vamos a usar la librería [sklearn-deap](https://github.com/rsteca/sklearn-deap)\n",
        "\n",
        "ATENCIÓN: Necesita reiniciar el entorno de ejecución."
      ]
    },
    {
      "cell_type": "code",
      "metadata": {
        "id": "--jtEGdmXL_1"
      },
      "source": [
        "!pip install sklearn-deap"
      ],
      "execution_count": null,
      "outputs": []
    },
    {
      "cell_type": "markdown",
      "metadata": {
        "id": "250H5M9LG3TY"
      },
      "source": [
        "Cargamos la DB diabetes de nuevo y repartimos los conjuntos train y test como antes.\n",
        "\n",
        "La volvemos a probar sobre el random forest."
      ]
    },
    {
      "cell_type": "code",
      "metadata": {
        "id": "5kwJ9pzhzoCa"
      },
      "source": [
        "from sklearn import datasets\n",
        "\n",
        "diabetes_BD = datasets.load_diabetes()\n",
        "print(diabetes_BD.DESCR)\n"
      ],
      "execution_count": null,
      "outputs": []
    },
    {
      "cell_type": "code",
      "metadata": {
        "id": "ot_c8yU8zoCb"
      },
      "source": [
        "diabetes=diabetes_BD[\"data\"] # Datos de las casas a usar \n",
        "feature_names=diabetes_BD[\"feature_names\"] # Nombre de las variables\n",
        "diabetes_target=diabetes_BD[\"target\"] # Dato a inferir. Precio medio de las casas"
      ],
      "execution_count": null,
      "outputs": []
    },
    {
      "cell_type": "code",
      "metadata": {
        "id": "u4PU6__szoCc"
      },
      "source": [
        "from sklearn.model_selection import train_test_split\n",
        "X_train,  X_test, y_train, y_test = train_test_split(diabetes, diabetes_target, test_size=0.2, random_state=42)"
      ],
      "execution_count": null,
      "outputs": []
    },
    {
      "cell_type": "code",
      "metadata": {
        "id": "RMVmfWHBzoCh"
      },
      "source": [
        "from sklearn.ensemble import RandomForestRegressor\n",
        "forest_reg = RandomForestRegressor(random_state=42)\n",
        "forest_reg"
      ],
      "execution_count": null,
      "outputs": []
    },
    {
      "cell_type": "code",
      "metadata": {
        "id": "gA81IzdmXVcx"
      },
      "source": [
        "#Random Forest\n",
        "from evolutionary_search import EvolutionaryAlgorithmSearchCV\n",
        "from scipy.stats import randint as sp_randint\n",
        "# Define the hyperparameter configuration space\n",
        "\n",
        "param_grid = {\n",
        "    # 12 (3×4) combinaciones de hiperparámetros\n",
        "    'n_estimators': [30, 100, 300],\n",
        "    'max_features': [3, 6, 8, 'auto']\n",
        "    }   "
      ],
      "execution_count": null,
      "outputs": []
    },
    {
      "cell_type": "markdown",
      "metadata": {
        "id": "hg6hrD4tG792"
      },
      "source": [
        "En este caso la clase se llama EvolutionaryAlgorithmSearchCV"
      ]
    },
    {
      "cell_type": "code",
      "metadata": {
        "id": "TR1dIxcZYW8f"
      },
      "source": [
        "%%time \n",
        "  \n",
        "ga_RF = EvolutionaryAlgorithmSearchCV(estimator=forest_reg,\n",
        "                                   params=param_grid,\n",
        "                                   scoring=\"neg_root_mean_squared_error\", #Podemos poner RMSE\n",
        "                                   cv=3,\n",
        "                                   verbose=1,\n",
        "                                   population_size=20, #Tamaño de la población\n",
        "                                   gene_mutation_prob=0.10, # Probabilidad de mutación de un gen en un cromosoma\n",
        "                                   gene_crossover_prob=0.5, #La probabilidad de intercambio de genes entre dos cromosomas\n",
        "                                   tournament_size=3, # Size of tournament for selection stage of genetich algorithm\n",
        "                                   generations_number=5,  #Número de generaciones\n",
        "                                   n_jobs=1)\n",
        "ga_RF.fit(X_train, y_train)"
      ],
      "execution_count": null,
      "outputs": []
    },
    {
      "cell_type": "markdown",
      "metadata": {
        "id": "izT-hjLyR4OE"
      },
      "source": [
        "Encuentra la mejor opción."
      ]
    },
    {
      "cell_type": "code",
      "metadata": {
        "id": "KXR3zsWgZuZS"
      },
      "source": [
        "cvres = ga_RF.cv_results_\n",
        "print(len(cvres[\"params\"]))\n",
        "for mean_score, params in zip(cvres[\"mean_test_score\"], cvres[\"params\"]):\n",
        "    print(-mean_score, params)"
      ],
      "execution_count": null,
      "outputs": []
    },
    {
      "cell_type": "markdown",
      "metadata": {
        "id": "1AkYKVbBR0oQ"
      },
      "source": [
        "Si probamos con más parámetros."
      ]
    },
    {
      "cell_type": "code",
      "metadata": {
        "id": "OY5a_J5YG03p"
      },
      "source": [
        "param_grid ={\n",
        "    'n_estimators': [10, 20, 30, 100],\n",
        "    'max_features': ['sqrt',0.5],\n",
        "    'max_depth': [2, 5, 10, 15],\n",
        "    'min_samples_leaf': [1,2,4],\n",
        "    \"bootstrap\":[True,False],\n",
        "    \"criterion\":['mse','mae']\n",
        "    }"
      ],
      "execution_count": null,
      "outputs": []
    },
    {
      "cell_type": "code",
      "metadata": {
        "id": "7Vth_PduSHoL"
      },
      "source": [
        "%%time\n",
        "  \n",
        "ga_RF = EvolutionaryAlgorithmSearchCV(estimator=forest_reg,\n",
        "                                   params=param_grid,\n",
        "                                   scoring=\"neg_root_mean_squared_error\", #Podemos poner RMSE\n",
        "                                   cv=3,\n",
        "                                   verbose=1,\n",
        "                                   population_size=20, #Tamaño de la población\n",
        "                                   gene_mutation_prob=0.10, # Probabilidad de mutación de un gen en un cromosoma\n",
        "                                   gene_crossover_prob=0.5, #La probabilidad de intercambio de genes entre dos cromosomas\n",
        "                                   tournament_size=3, # Size of tournament for selection stage of genetich algorithm\n",
        "                                   generations_number=5,  #Número de generaciones\n",
        "                                   n_jobs=1)\n",
        "ga_RF.fit(X_train, y_train)"
      ],
      "execution_count": null,
      "outputs": []
    },
    {
      "cell_type": "markdown",
      "metadata": {
        "id": "zpFyQ2saZPI-"
      },
      "source": [
        "## Ejercicios Algoritmos genéticos"
      ]
    },
    {
      "cell_type": "markdown",
      "metadata": {
        "id": "Fcch4cOfS16Z"
      },
      "source": [
        "EJERCICIO: Aplica algoritmos genéticos en la opción de SVM, para el siguiente conjunto de hiperparámetros."
      ]
    },
    {
      "cell_type": "code",
      "metadata": {
        "id": "XqgxSrrszoCg"
      },
      "source": [
        "from sklearn.svm import SVR\n",
        "svm_reg = SVR()\n",
        "svm_reg.fit(X_train, y_train)"
      ],
      "execution_count": null,
      "outputs": []
    },
    {
      "cell_type": "code",
      "metadata": {
        "id": "k6C_4wbPZNQO"
      },
      "source": [
        "#SVM\n",
        "%%time\n",
        "import numpy as np\n",
        "\n",
        "from evolutionary_search import EvolutionaryAlgorithmSearchCV\n",
        "rf_params = {\n",
        "    'C': np.random.uniform(0,50,1000),\n",
        "    \"kernel\":['poly','rbf','sigmoid'],\n",
        "    'gamma': np.random.uniform(0,1,100),\n",
        "}\n",
        "clf = SVR()"
      ],
      "execution_count": null,
      "outputs": []
    },
    {
      "cell_type": "code",
      "metadata": {
        "id": "-O7szDZiTKEg"
      },
      "source": [
        "#Solución\n"
      ],
      "execution_count": null,
      "outputs": []
    },
    {
      "cell_type": "markdown",
      "metadata": {
        "id": "GmKfmGLoTfR4"
      },
      "source": [
        "EJERCICIO: ¿Cuáles son los mejores valores para los hiperparámetros? ¿Cuál es el mejor resultado?¿Cuántas opciones ha probado?"
      ]
    },
    {
      "cell_type": "code",
      "metadata": {
        "id": "sDa825MVlOaJ"
      },
      "source": [
        "# Solución\n"
      ],
      "execution_count": null,
      "outputs": []
    },
    {
      "cell_type": "markdown",
      "metadata": {
        "id": "Yqqzkg5dTnYh"
      },
      "source": [
        "EJERCICIO (Opcional): Prueba a aumentar el número de hiperparámetros para SVR y el número de valores para estos hiperparámetros. Prueba a usar distintos algoritmos basados en la naturaleza de entre los disponibles en la librería. Documenta brevemente el tiempo que emplean y el resultados obtenido."
      ]
    },
    {
      "cell_type": "code",
      "metadata": {
        "id": "g1YyhTKEjLlA"
      },
      "source": [
        "params = {\"kernel\": [\"rbf\"],\n",
        "             \"C\"     : [1,2,3,4,5,6,7,8],\n",
        "             \"gamma\" : np.logspace(-9, 9, num=25, base=10)}\n",
        "\n",
        "# Solución"
      ],
      "execution_count": null,
      "outputs": []
    }
  ]
}